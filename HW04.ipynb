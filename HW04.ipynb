{
  "cells": [
    {
      "cell_type": "markdown",
      "metadata": {
        "id": "view-in-github",
        "colab_type": "text"
      },
      "source": [
        "<a href=\"https://colab.research.google.com/github/ChuLinh02/GraphMining/blob/main/HW04.ipynb\" target=\"_parent\"><img src=\"https://colab.research.google.com/assets/colab-badge.svg\" alt=\"Open In Colab\"/></a>"
      ]
    },
    {
      "cell_type": "markdown",
      "id": "d81ff137-31b8-4c5a-85b9-7907bdf4e688",
      "metadata": {
        "id": "d81ff137-31b8-4c5a-85b9-7907bdf4e688"
      },
      "source": [
        "# **CSC17103 - Colab 4 - Phân hoạch và phát hiện cộng đồng trên đồ thị**\n",
        "\n",
        "Đây là Bài tập 04 trong môn học Khai thác Dữ liệu Đồ thị (Graph Mining) - CSC1703 tại Khoa Công nghệ Thông tin, Trường Đại học Khoa học Tự nhiên, Đại học Quốc gia TP.HCM"
      ]
    },
    {
      "cell_type": "markdown",
      "id": "6da12871-fdc1-45f9-a2a9-0affadf944fb",
      "metadata": {
        "id": "6da12871-fdc1-45f9-a2a9-0affadf944fb"
      },
      "source": [
        "(Cập nhật lần cuối: 21/07/2024)\n",
        "\n",
        "Họ tên:\n",
        "\n",
        "MSSV:"
      ]
    },
    {
      "cell_type": "markdown",
      "id": "92666190-051d-4af0-966f-510dd5de33b6",
      "metadata": {
        "id": "92666190-051d-4af0-966f-510dd5de33b6"
      },
      "source": [
        "## **Cách thực hiện và nộp bài tập**\n",
        "\n",
        "&#9889; Chú ý, bạn nên thực hiện theo sự hướng dẫn dưới đây. Nếu có bất kỳ điều gì không rõ, bạn cần liên hệ ngay trợ giảng/ giáo viên thực hành để được hỗ trợ kịp thời.\n",
        "\n",
        "**Cách làm bài**\n",
        "\n",
        "Bạn sẽ làm trực tiếp trên file notebook này. Đầu tiên, bạn điền họ tên và MSSV vào phần đầu file ở bên trên. Trong file, bạn làm bài ở những chỗ có ghi là:\n",
        "```python\n",
        "# YOUR CODE HERE\n",
        "raise NotImplementedError()\n",
        "```\n",
        "hoặc đối với những phần code không bắt buộc thì là:\n",
        "```python\n",
        "# YOUR CODE HERE (OPTION)\n",
        "```\n",
        "hoặc đối với markdown cell thì là:\n",
        "```markdown\n",
        "YOUR ANSWER HERE\n",
        "```\n",
        "\n",
        "**Cách nộp bài**\n",
        "\n",
        "Trước khi nộp bài, bạn chọn `Kernel` - `Restart Kernel & Run All Cells` đối với trường hợp sử dụng môi trường local hoặc `Runtime` - `Restart session and run all` đối với môi trường Google Colab, để đảm bảo mọi chuyện diễn ra đúng như mong đợi.\n",
        "\n",
        "Sau đó, bạn tạo thư mục nộp bài theo cấu trúc sau:\n",
        "- Thư mục `MSSV` (ví dụ, nếu bạn có MSSV là 1234567 thì bạn đặt tên thư mục là `1234567`)\n",
        "    - File `HW04.ipynb` (không cần nộp các file khác)\n",
        "\n",
        "Cuối cùng, bạn nén thư mục `MSSV` này lại với định dạng nén là .zip (chứ không được là .rar hay các định dạng khác) và nộp ở link trên moodle. \\\n",
        "<font color=red>Bạn lưu ý tuân thủ chính xác qui định nộp bài này.</font>"
      ]
    },
    {
      "cell_type": "markdown",
      "id": "06be1f06-14b6-4dbf-96a8-ca626298e6aa",
      "metadata": {
        "id": "06be1f06-14b6-4dbf-96a8-ca626298e6aa"
      },
      "source": [
        "## Setup và Import các thứ"
      ]
    },
    {
      "cell_type": "code",
      "execution_count": null,
      "id": "4a39f841-b0ae-4a9d-adc9-770cc644855d",
      "metadata": {
        "id": "4a39f841-b0ae-4a9d-adc9-770cc644855d"
      },
      "outputs": [],
      "source": [
        "# Upgrade packages\n",
        "# !pip install --upgrade scipy networkx"
      ]
    },
    {
      "cell_type": "code",
      "execution_count": null,
      "id": "14de6029-0d00-4730-976c-00c63ac4b25a",
      "metadata": {
        "id": "14de6029-0d00-4730-976c-00c63ac4b25a"
      },
      "outputs": [],
      "source": [
        "# Import\n",
        "import numpy as np # For numerical computation\n",
        "import networkx as nx # For network/ graph manipulation\n",
        "import matplotlib.pyplot as plt # For visualization\n",
        "import scipy.stats as st\n",
        "from scipy.stats import ks_2samp\n",
        "from zlib import adler32\n",
        "\n",
        "from sklearn import datasets\n",
        "from sklearn.cluster import KMeans\n",
        "from sklearn.cluster import AgglomerativeClustering\n",
        "from scipy.cluster.hierarchy import dendrogram, linkage\n",
        "from scipy.spatial.distance import squareform\n",
        "\n",
        "import pandas as pd\n",
        "import seaborn as sns\n",
        "\n",
        "from IPython.display import clear_output\n",
        "\n",
        "from collections import Counter\n",
        "import random\n",
        "\n",
        "plt.style.use(\"fast\")\n",
        "\n",
        "from typing import List, Tuple, Dict\n",
        "\n",
        "%matplotlib inline"
      ]
    },
    {
      "cell_type": "code",
      "execution_count": null,
      "id": "fca21222-6431-4de0-96b4-825808813f06",
      "metadata": {
        "id": "fca21222-6431-4de0-96b4-825808813f06"
      },
      "outputs": [],
      "source": [
        "# Make sure something\n",
        "assert nx.__version__ > '2.5'"
      ]
    },
    {
      "cell_type": "markdown",
      "id": "8647da06-06d0-43b5-87c5-fe971a95a7e5",
      "metadata": {
        "id": "8647da06-06d0-43b5-87c5-fe971a95a7e5"
      },
      "source": [
        "## Thu thập dữ liệu"
      ]
    },
    {
      "cell_type": "markdown",
      "id": "9094e5fe-9e93-46c0-aa95-906561752c3b",
      "metadata": {
        "id": "9094e5fe-9e93-46c0-aa95-906561752c3b"
      },
      "source": [
        "Trong bài tập này, chúng ta xem xét dữ liệu đồ thị Les Miserables."
      ]
    },
    {
      "cell_type": "code",
      "execution_count": null,
      "id": "d6d10121-6a40-447e-8382-f96d16cdbec1",
      "metadata": {
        "id": "d6d10121-6a40-447e-8382-f96d16cdbec1"
      },
      "outputs": [],
      "source": [
        "G = nx.Graph()\n",
        "G.add_edges_from(nx.les_miserables_graph().edges)\n",
        "pos = nx.kamada_kawai_layout(G)"
      ]
    },
    {
      "cell_type": "markdown",
      "id": "adfaad12-d2ba-46cc-948e-0ced74d55573",
      "metadata": {
        "id": "adfaad12-d2ba-46cc-948e-0ced74d55573"
      },
      "source": [
        "Trực quan hóa"
      ]
    },
    {
      "cell_type": "code",
      "execution_count": null,
      "id": "f20c128f-bf6a-4c94-bffc-35b250035dc3",
      "metadata": {
        "id": "f20c128f-bf6a-4c94-bffc-35b250035dc3"
      },
      "outputs": [],
      "source": [
        "plt.figure(figsize=(8, 8))\n",
        "nx.draw_networkx_nodes(G, pos, node_color='white', edgecolors='black', node_size=100)\n",
        "nx.draw_networkx_edges(G, pos, alpha=0.3)\n",
        "plt.axis('off')\n",
        "plt.show()"
      ]
    },
    {
      "cell_type": "markdown",
      "id": "f7be9712-4e46-4b66-9d76-836e5156f63a",
      "metadata": {
        "id": "f7be9712-4e46-4b66-9d76-836e5156f63a"
      },
      "source": [
        "## Khám phá dữ liệu"
      ]
    },
    {
      "cell_type": "code",
      "execution_count": null,
      "id": "c05ace92-9440-4287-a003-e5bbf4ba88e3",
      "metadata": {
        "id": "c05ace92-9440-4287-a003-e5bbf4ba88e3"
      },
      "outputs": [],
      "source": [
        "Một số thông tin thống kê cơ bản."
      ]
    },
    {
      "cell_type": "code",
      "execution_count": null,
      "id": "c4917269-9eaa-4d0f-87f0-d1733d0cc061",
      "metadata": {
        "id": "c4917269-9eaa-4d0f-87f0-d1733d0cc061"
      },
      "outputs": [],
      "source": [
        "print('Number of nodes', len(G.nodes))\n",
        "print('Number of edges', len(G.edges))\n",
        "print('Average degree', sum(dict(G.degree).values()) / len(G.nodes))"
      ]
    },
    {
      "cell_type": "code",
      "execution_count": null,
      "id": "d27f43f5-62bf-4ea6-909a-6c6d1b6096af",
      "metadata": {
        "id": "d27f43f5-62bf-4ea6-909a-6c6d1b6096af"
      },
      "outputs": [],
      "source": [
        "plt.figure(figsize=(8, 8))\n",
        "nx.draw_networkx(G, pos, with_labels=True, node_size=100)\n",
        "nx.draw_networkx_edges(G, pos, alpha=0.3)\n",
        "plt.axis('off')\n",
        "plt.show()"
      ]
    },
    {
      "cell_type": "markdown",
      "id": "258b064a-72ed-47b1-8a73-3b107d9003ac",
      "metadata": {
        "id": "258b064a-72ed-47b1-8a73-3b107d9003ac"
      },
      "source": [
        "## Task 1. Phân rã $k$-lõi\n",
        "\n",
        "\n",
        "Trong phần này, chúng ta sẽ áp dụng phân rã $k$-core ($k$-core decomposition) cho mạng lưới này. Bạn sử dụng `nx.core_number` và tô màu mọi đỉnh bằng $k$-shell của nó.\n",
        "\n",
        "Để hoàn này task này, bạn viết hàm `kcoreDecomposition` mà nhận đầu vào là một đồ thị `G` và trả về một mảng np.array với $k$ phần tử $k$-shell của đỉnh. Ví dụ, nếu ta có các đỉnh 1, 2, 3, 4 và đỉnh 1 nằm trong 1-shell, các đỉnh 2, 3, 4 thì nằm trong 2-shell thì đầu ra sẽ là [1, 2, 2, 2].\n"
      ]
    },
    {
      "cell_type": "code",
      "execution_count": null,
      "id": "2ae5a569-bec2-4186-bc3d-aff51dc74b52",
      "metadata": {
        "deletable": false,
        "nbgrader": {
          "cell_type": "code",
          "checksum": "6766aa87c874b8f3cef7b2dd8ec06db7",
          "grade": false,
          "grade_id": "cell-6a1432c5c76fde39",
          "locked": false,
          "schema_version": 3,
          "solution": true,
          "task": false
        },
        "id": "2ae5a569-bec2-4186-bc3d-aff51dc74b52"
      },
      "outputs": [],
      "source": [
        "def kcoreDecomposition(G: nx.Graph) -> np.ndarray:\n",
        "    # YOUR CODE HERE\n",
        "    raise NotImplementedError()"
      ]
    },
    {
      "cell_type": "code",
      "execution_count": null,
      "id": "a0159d4d-dd80-4553-9c4b-739ece13e549",
      "metadata": {
        "deletable": false,
        "editable": false,
        "nbgrader": {
          "cell_type": "code",
          "checksum": "c104c1349237b573f9028e31461a3bd2",
          "grade": true,
          "grade_id": "cell-cf6a9a34b979ab0f",
          "locked": true,
          "points": 2,
          "schema_version": 3,
          "solution": false,
          "task": false
        },
        "id": "a0159d4d-dd80-4553-9c4b-739ece13e549"
      },
      "outputs": [],
      "source": [
        "# Test\n",
        "labels = kcoreDecomposition(G)\n",
        "assert isinstance(labels, np.ndarray), \"Output should be a numpy array\"\n",
        "assert labels.shape == (77,), \"Output should be an array of shape (77,)\"\n",
        "assert labels.min() == 1, \"Minimum core number should be 1\"\n",
        "assert labels.max() == 9, \"Maximum core number should be 9\"\n",
        "assert labels[10] == 8\n",
        "assert labels[65] == 9\n",
        "\n",
        "expected_values = {\n",
        "    10: 8,\n",
        "    20: 8,\n",
        "    30: 6,\n",
        "    40: 8,\n",
        "    50: 7,\n",
        "    60: 2,\n",
        "    65: 9\n",
        "}\n",
        "for index, value in expected_values.items():\n",
        "    assert labels[index] == value, f\"Core number at index {\n",
        "        index} should be {value}\"\n",
        "\n",
        "unique, counts = np.unique(labels, return_counts=True)\n",
        "counts_dict = dict(zip(unique, counts))\n",
        "\n",
        "expected_counts = {\n",
        "    1: 18,\n",
        "    2: 11,\n",
        "    3: 7,\n",
        "    4: 3,\n",
        "    6: 7,\n",
        "    7: 11,\n",
        "    8: 8,\n",
        "    9: 12\n",
        "}\n",
        "\n",
        "for core_num, count in expected_counts.items():\n",
        "    assert counts_dict[core_num] == count, f\"Core number {\n",
        "        core_num} should appear {count} times\""
      ]
    },
    {
      "cell_type": "markdown",
      "id": "d357b50e-334b-4400-9216-6b2589a245bb",
      "metadata": {
        "id": "d357b50e-334b-4400-9216-6b2589a245bb"
      },
      "source": [
        "Trực quan hóa"
      ]
    },
    {
      "cell_type": "code",
      "execution_count": null,
      "id": "aa65787d-6e50-469a-b570-f26302b4f38e",
      "metadata": {
        "id": "aa65787d-6e50-469a-b570-f26302b4f38e"
      },
      "outputs": [],
      "source": [
        "plt.figure(figsize=(16, 32))\n",
        "\n",
        "positions = np.array(list(pos.values()))\n",
        "x_min, y_min = positions.min(axis=0)\n",
        "x_max, y_max = positions.max(axis=0)\n",
        "\n",
        "for i in range(8):\n",
        "    plt.subplot(4, 2, i + 1)\n",
        "    subG = nx.k_core(G, i + 1)\n",
        "\n",
        "    if len(subG) == 0:\n",
        "        continue\n",
        "\n",
        "    core_numbers = kcoreDecomposition(subG)\n",
        "\n",
        "    nodes = nx.draw_networkx_nodes(\n",
        "        subG,\n",
        "        pos,\n",
        "        cmap=plt.cm.OrRd,\n",
        "        node_color=core_numbers,\n",
        "        node_size=100,\n",
        "        edgecolors='black'\n",
        "    )\n",
        "\n",
        "    nx.draw_networkx_edges(\n",
        "        subG,\n",
        "        pos,\n",
        "        alpha=0.3,\n",
        "        width=1,\n",
        "        edge_color='black'\n",
        "    )\n",
        "\n",
        "    eps = (x_max - x_min) * 0.05\n",
        "    plt.xlim(x_min - eps, x_max + eps)\n",
        "    plt.ylim(y_min - eps, y_max + eps)\n",
        "\n",
        "    plt.legend(*nodes.legend_elements(), title=\"Core Number\")\n",
        "    plt.axis('off')\n",
        "\n",
        "    plt.title(f'k-shells on {i + 1}-core')\n",
        "\n",
        "plt.tight_layout()\n",
        "plt.show()"
      ]
    },
    {
      "cell_type": "markdown",
      "id": "02040a85-364c-4f11-af4a-41e109ec191b",
      "metadata": {
        "id": "02040a85-364c-4f11-af4a-41e109ec191b"
      },
      "source": [
        "Bạn có nhận xét gì?"
      ]
    },
    {
      "cell_type": "markdown",
      "id": "03955d13-b46c-42d5-92cf-c616e6fa6ec5",
      "metadata": {
        "deletable": false,
        "nbgrader": {
          "cell_type": "markdown",
          "checksum": "f7019962385f6b217a1060f2936575ae",
          "grade": true,
          "grade_id": "cell-bc6d92622770c099",
          "locked": false,
          "points": 0,
          "schema_version": 3,
          "solution": true,
          "task": false
        },
        "id": "03955d13-b46c-42d5-92cf-c616e6fa6ec5"
      },
      "source": [
        "YOUR ANSWER HERE"
      ]
    },
    {
      "cell_type": "markdown",
      "id": "3e565931-a5dd-460f-b5a3-dadf671bf749",
      "metadata": {
        "id": "3e565931-a5dd-460f-b5a3-dadf671bf749"
      },
      "source": [
        "## Task 2. Phát hiện đồ thị con hoàn chỉnh (Clique detection)\n",
        "\n",
        "\n",
        "Đồ thị con hoàn chỉnh (complete subgraph) hay Clique, một mô hình đơn giản của một cộng đồng. Trong phần này, chúng ta sẽ thực hiện việc tìm kiếm những clique lớn nhất trong một đồ thị bằng sự hỗ trợ của `nx.find_cliques` và trực quan hóa chúng.\n",
        "\n",
        "Để hoàn thành phần này, bạn cần hoàn thành hàm `largestCliques` mà nhận đầu vào là một đồ thị và nó thực hiện việc tìm kiếm các cliques lớn nhất với cùng kích thước. Việc lựa chọn màu sắc và chiều rộng (width) được thực hiện bởi luật như sau:\n",
        "- Tất cả các đỉnh có màu `trắng` ngoại trừ đỉnh nằm trong clique lớn nhất.\n",
        "- Tất cả các cạnh có độ rộng thon gọn (`thin`), rộng thon gọn bao nhiêu là tùy vào việc bạn chọn (tôi không quan tâm), ngoại trừ các cạnh nằm trong cliques thì nó phải dày hơn một chút.\n",
        "\n",
        "Hàm này trả về một tuple với 2 mảng np.array như sau:\n",
        "- Mảng `rgb` np.array có shape `[n,m,3]` trong đó `n` là số lượng cliques, `m` là số lượng đỉnh, `3(r, g, b)` là số lượng các giá trị nằm trong khoảng `[0, 1]` thể hiện cho bộ ba màu cơ bản `red`, `green`, và `blue`.\n",
        "- Mảng `width` np.array có shape `[n,k]` trong đó `n` là số lượng cliques, `k` là số lượng cạnh.\n",
        "\n",
        "Lưu ý: màu sắc được gán thứ tự bởi `G.nodes`, còn độ rộng được gán thứ tự bởi `G.edges`."
      ]
    },
    {
      "cell_type": "code",
      "execution_count": null,
      "id": "d0401e77-b9d5-4ebe-a8e5-c2fb8ef11a49",
      "metadata": {
        "deletable": false,
        "nbgrader": {
          "cell_type": "code",
          "checksum": "a0608a9bade4272ff2748b8526f21b3b",
          "grade": false,
          "grade_id": "cell-f3f84fdae43638e9",
          "locked": false,
          "schema_version": 3,
          "solution": true,
          "task": false
        },
        "id": "d0401e77-b9d5-4ebe-a8e5-c2fb8ef11a49"
      },
      "outputs": [],
      "source": [
        "def largestCliques(G: nx.Graph) -> Tuple[np.ndarray, np.ndarray]:\n",
        "    # YOUR CODE HERE\n",
        "    raise NotImplementedError()"
      ]
    },
    {
      "cell_type": "code",
      "execution_count": null,
      "id": "c586fadc-1db0-4141-aa03-c8d05299194f",
      "metadata": {
        "deletable": false,
        "editable": false,
        "nbgrader": {
          "cell_type": "code",
          "checksum": "afec9bedd81a013979f3fd754424255a",
          "grade": true,
          "grade_id": "cell-c9dcf1230b40421c",
          "locked": true,
          "points": 2,
          "schema_version": 3,
          "solution": false,
          "task": false
        },
        "id": "c586fadc-1db0-4141-aa03-c8d05299194f"
      },
      "outputs": [],
      "source": [
        "# Test\n",
        "colors, widths = largestCliques(G)\n",
        "assert colors.shape == (2, 77, 3), \"Colors array should have shape (2, 77, 3)\"\n",
        "\n",
        "unique_color_counts_0 = np.unique(colors[0], axis=0, return_counts=True)[1]\n",
        "unique_color_counts_1 = np.unique(colors[1], axis=0, return_counts=True)[1]\n",
        "assert unique_color_counts_0[0] == 10, \"First unique color count in colors[0] should be 10\"\n",
        "assert unique_color_counts_1[0] == 10, \"First unique color count in colors[1] should be 10\"\n",
        "\n",
        "matching_colors_condition = (colors.sum(axis=2) < 3)[\n",
        "    0] & (colors.sum(axis=2) < 3)[1]\n",
        "assert matching_colors_condition.sum(\n",
        ") == 8, \"Sum of matching color conditions should be 8\"\n",
        "\n",
        "assert widths.shape == (2, 254)\n",
        "unique_width_counts_0 = np.unique(widths[0], axis=0, return_counts=True)[1]\n",
        "unique_width_counts_1 = np.unique(widths[1], axis=0, return_counts=True)[1]\n",
        "assert unique_width_counts_0[1] == 45, \"Second unique width count in widths[0] should be 45\"\n",
        "assert unique_width_counts_1[1] == 45, \"Second unique width count in widths[1] should be 45\"\n",
        "\n",
        "matching_widths_condition = (widths == widths.min())[\n",
        "    0] & (widths == widths.min())[1]\n",
        "assert matching_widths_condition.sum(\n",
        ") == 192, \"Sum of matching minimum widths condition should be 192\""
      ]
    },
    {
      "cell_type": "markdown",
      "id": "6a321391-a290-45e4-b389-83e94b9f4083",
      "metadata": {
        "id": "6a321391-a290-45e4-b389-83e94b9f4083"
      },
      "source": [
        "Trực quan hóa"
      ]
    },
    {
      "cell_type": "code",
      "execution_count": null,
      "id": "aa898f1f-1c52-43bd-8dc7-44db1eb55efb",
      "metadata": {
        "id": "aa898f1f-1c52-43bd-8dc7-44db1eb55efb"
      },
      "outputs": [],
      "source": [
        "largest_clique_size = np.unique(colors[0], axis=0, return_counts=True)[1][0]\n",
        "\n",
        "plt.figure(figsize=(16, 8))\n",
        "\n",
        "for i in range(colors.shape[0]):\n",
        "    max_width_edges = np.array(list(G.edges))[widths[i] == widths[i].max()]\n",
        "\n",
        "    plt.subplot(1, 2, i + 1)\n",
        "\n",
        "    nodes = nx.draw_networkx_nodes(\n",
        "        G,\n",
        "        pos,\n",
        "        node_color=colors[i],\n",
        "        node_size=100,\n",
        "        linewidths=1,\n",
        "        edgecolors='black'\n",
        "    )\n",
        "\n",
        "    nx.draw_networkx_edges(\n",
        "        G,\n",
        "        pos,\n",
        "        alpha=0.3,\n",
        "        width=widths[i].min()\n",
        "    )\n",
        "\n",
        "    nx.draw_networkx_edges(\n",
        "        G,\n",
        "        pos,\n",
        "        width=widths[i].max(),\n",
        "        edgelist=max_width_edges\n",
        "    )\n",
        "\n",
        "    plt.title(f'Clique of size {largest_clique_size}')\n",
        "    plt.axis('off')\n",
        "\n",
        "plt.tight_layout()\n",
        "plt.show()"
      ]
    },
    {
      "cell_type": "markdown",
      "id": "faf2eda0-6d45-4742-ab4a-3906264a8a9d",
      "metadata": {
        "id": "faf2eda0-6d45-4742-ab4a-3906264a8a9d"
      },
      "source": [
        "Bạn có nhận xét gì?"
      ]
    },
    {
      "cell_type": "markdown",
      "id": "83d28fbf-4bd5-49c1-b6cf-2778ca0e0097",
      "metadata": {
        "deletable": false,
        "nbgrader": {
          "cell_type": "markdown",
          "checksum": "fe52dd2fa635cac4ddbb6b1481979256",
          "grade": true,
          "grade_id": "cell-5030e63e1da42954",
          "locked": false,
          "points": 0,
          "schema_version": 3,
          "solution": true,
          "task": false
        },
        "id": "83d28fbf-4bd5-49c1-b6cf-2778ca0e0097"
      },
      "source": [
        "YOUR ANSWER HERE"
      ]
    },
    {
      "cell_type": "markdown",
      "id": "bea5df7e-9aa8-440a-9e53-50f74c01d1a3",
      "metadata": {
        "id": "bea5df7e-9aa8-440a-9e53-50f74c01d1a3"
      },
      "source": [
        "## Task 3. Thuật toán Girvan Newman và tính căn giữa cạnh nối (edge betweenness)\n",
        "\n",
        "Lưu ý: Có nhiều tôi dịch thuật ngữ có thể còn thô và chưa được hay. Nếu các bạn có ý kiến đóng góp cách dịch hay hơn. Hãy cho tôi ý kiến đó. Cảm ơn các bạn.\n",
        "\n",
        "Trong phần này, chúng ta sẽ áp dụng thuật toán Girvan Newman với tính căn giữa cạnh (edge betweenness). Ý tưởng ở đây là chúng ta cắt các cạnh với betweenness cao nhất cho đến khi nào mà đồ thị nó không còn liên thông nữa thì thôi.\n",
        "\n",
        "Để hoàn thành phần này, các bạn sử dụng `nx.algorithms.community.girvan_newman` để tìm kiếm các cộng đồng. Các bạn viết hàm `edgeBetweeness` mà nhận đầu vào là một đồ thị và số lượng các vết cắt (divisions) `n` và trả về mảng np.array các số nguyên thể hiện nhãn của đỉnh trong mỗi vòng lặp. Shape của đầu ra là `[n, m]` trong đó `n` là số lượng vòng lặp và `m` là số lượng đỉnh."
      ]
    },
    {
      "cell_type": "code",
      "execution_count": null,
      "id": "67a54c8c-9d62-4300-85b3-37e8c8d84b1d",
      "metadata": {
        "deletable": false,
        "nbgrader": {
          "cell_type": "code",
          "checksum": "614f52b3c5cfafa87b542e3be663ec69",
          "grade": false,
          "grade_id": "cell-fcd31ae1ca4e67f0",
          "locked": false,
          "schema_version": 3,
          "solution": true,
          "task": false
        },
        "id": "67a54c8c-9d62-4300-85b3-37e8c8d84b1d"
      },
      "outputs": [],
      "source": [
        "def edgeBetweenness(G: nx.Graph, n: int) -> np.ndarray:\n",
        "    # YOUR CODE HERE\n",
        "    raise NotImplementedError()"
      ]
    },
    {
      "cell_type": "code",
      "execution_count": null,
      "id": "aedd3165-832a-4307-b5ae-052b48f3f195",
      "metadata": {
        "deletable": false,
        "editable": false,
        "nbgrader": {
          "cell_type": "code",
          "checksum": "08bd97169051ce0a30b5017fcdf79627",
          "grade": true,
          "grade_id": "cell-c0666da84564ba8f",
          "locked": true,
          "points": 2,
          "schema_version": 3,
          "solution": false,
          "task": false
        },
        "id": "aedd3165-832a-4307-b5ae-052b48f3f195"
      },
      "outputs": [],
      "source": [
        "# Test\n",
        "labels = edgeBetweenness(G, 6)\n",
        "assert labels.shape == (6, 77), \"Labels array should have shape (6, 77)\"\n",
        "unique_labels_0 = np.unique(labels[0])\n",
        "assert unique_labels_0.shape == (\n",
        "    2,), \"First partition should have 2 unique labels\"\n",
        "for i in range(1, 6):\n",
        "    unique_labels_prev = np.unique(labels[i - 1])\n",
        "    unique_labels_current = np.unique(labels[i])\n",
        "    assert unique_labels_prev.shape[0] < unique_labels_current.shape[0], (\n",
        "        f\"Partition {i} should have more unique labels than partition {i-1}\"\n",
        "    )\n",
        "assert labels[5][22] == labels[5][23], \"Labels at indices 22 and 23 in partition 5 should be equal.\"\n",
        "assert labels[5][31] == labels[5][34], \"Labels at indices 31 and 34 in partition 5 should be equal.\""
      ]
    },
    {
      "cell_type": "markdown",
      "id": "4fbc2374-af35-4fd5-b2a0-a1c9fe530e20",
      "metadata": {
        "id": "4fbc2374-af35-4fd5-b2a0-a1c9fe530e20"
      },
      "source": [
        "Trực quan hóa"
      ]
    },
    {
      "cell_type": "code",
      "execution_count": null,
      "id": "25219d7e-176d-4792-8f5b-3ae67b0dd02d",
      "metadata": {
        "id": "25219d7e-176d-4792-8f5b-3ae67b0dd02d"
      },
      "outputs": [],
      "source": [
        "colors = edgeBetweenness(G, 6)\n",
        "\n",
        "plt.figure(figsize=(14, 21))\n",
        "\n",
        "for i in range(colors.shape[0]):\n",
        "    plt.subplot(3, 2, i + 1)\n",
        "\n",
        "    nx.draw_networkx_nodes(\n",
        "        G,\n",
        "        pos,\n",
        "        cmap=plt.cm.rainbow,\n",
        "        node_color=colors[i],\n",
        "        node_size=100,\n",
        "        edgecolors='black'\n",
        "    )\n",
        "\n",
        "    nx.draw_networkx_edges(G, pos, alpha=0.3)\n",
        "\n",
        "    plt.title(f'Edge betweenness, {i + 2} communities')\n",
        "    plt.axis('off')\n",
        "\n",
        "plt.tight_layout()\n",
        "plt.show()"
      ]
    },
    {
      "cell_type": "markdown",
      "id": "65c41ba3-bbec-437f-b328-77b223505bec",
      "metadata": {
        "id": "65c41ba3-bbec-437f-b328-77b223505bec"
      },
      "source": [
        "Bạn có nhận xét gì?"
      ]
    },
    {
      "cell_type": "markdown",
      "id": "9f936c56-749c-4590-b0c0-f0c17d17a971",
      "metadata": {
        "deletable": false,
        "nbgrader": {
          "cell_type": "markdown",
          "checksum": "1bf9a81d6e3292f6e761f019e9222332",
          "grade": true,
          "grade_id": "cell-34948a05aa6308c9",
          "locked": false,
          "points": 0,
          "schema_version": 3,
          "solution": true,
          "task": false
        },
        "id": "9f936c56-749c-4590-b0c0-f0c17d17a971"
      },
      "source": [
        "YOUR ANSWER HERE"
      ]
    },
    {
      "cell_type": "markdown",
      "id": "777fd156-57be-458a-823c-977ca7f8e45a",
      "metadata": {
        "id": "777fd156-57be-458a-823c-977ca7f8e45a"
      },
      "source": [
        "## Task 4. Mô-đun hóa (Modularity)\n",
        "\n",
        "Mô-đun hóa (Modularity) giúp ta quyết định khi nào dừng phân hoạch đồ thị. Mô-đun hóa càng lớn, phân hoạch càng tốt (đọc sách Network science). Bây giờ, ta sẽ xem mô-đun hóa thay đổi như thế trong quá trình phân chia đồ thị.\n",
        "\n",
        "Trong phần này, bạn chỉ cần hoàn thành hàm `edgeBetweennessModularity` mà nhận đầu vào là một đồ thị, số lượng bước lặp của thuật toán Girvan Newman, và trả về một mảng np.array với modularity thu được sau khi hoàn thành mỗi vòng lặp. Bạn có thể sử dụng `nx.algorithms.community.modularity`.\n"
      ]
    },
    {
      "cell_type": "code",
      "execution_count": null,
      "id": "72847eaa-3cc0-43a4-bce6-339d11e13573",
      "metadata": {
        "deletable": false,
        "nbgrader": {
          "cell_type": "code",
          "checksum": "52581ae9e3ec678a319d528dc37f3300",
          "grade": false,
          "grade_id": "cell-45fc1f1e0d572589",
          "locked": false,
          "schema_version": 3,
          "solution": true,
          "task": false
        },
        "id": "72847eaa-3cc0-43a4-bce6-339d11e13573"
      },
      "outputs": [],
      "source": [
        "def edgeBetweennessModularity(G: nx.Graph, n: int) -> np.ndarray:\n",
        "    # YOUR CODE HERE\n",
        "    raise NotImplementedError()"
      ]
    },
    {
      "cell_type": "code",
      "execution_count": null,
      "id": "39004197-eb39-4d46-b33e-90884bdf9ad7",
      "metadata": {
        "deletable": false,
        "editable": false,
        "nbgrader": {
          "cell_type": "code",
          "checksum": "ca6a78b66164f7154895664b7b323c6a",
          "grade": true,
          "grade_id": "cell-7159978428cf79da",
          "locked": true,
          "points": 2,
          "schema_version": 3,
          "solution": false,
          "task": false
        },
        "id": "39004197-eb39-4d46-b33e-90884bdf9ad7"
      },
      "outputs": [],
      "source": [
        "# Test\n",
        "n_iterations = 20\n",
        "modularity = edgeBetweennessModularity(G, n_iterations)\n",
        "assert modularity.shape == (n_iterations,), \"Modularity array should have shape (20,)\"\n",
        "assert round(modularity[0], 4) == 0.0746, \"Modularity at index 0 should be 0.0746\"\n",
        "assert round(modularity[7], 4) == 0.4519, \"Modularity at index 7 should be 0.4519\""
      ]
    },
    {
      "cell_type": "markdown",
      "id": "1a322577-e6e6-43a8-bba3-8501ca79c550",
      "metadata": {
        "id": "1a322577-e6e6-43a8-bba3-8501ca79c550"
      },
      "source": [
        "Trực quan hóa"
      ]
    },
    {
      "cell_type": "code",
      "execution_count": null,
      "id": "226f7f2a-b55a-4229-abfa-50ce9c405e71",
      "metadata": {
        "id": "226f7f2a-b55a-4229-abfa-50ce9c405e71"
      },
      "outputs": [],
      "source": [
        "plt.figure(figsize=(10, 8))\n",
        "\n",
        "plt.plot(np.arange(n_iterations) + 2, modularity, marker='o')\n",
        "\n",
        "best_n = np.argmax(modularity) + 2\n",
        "max_modularity = max(modularity)\n",
        "label = f'Number of communities with max modularity: {max_modularity:.2f}'\n",
        "\n",
        "plt.plot(\n",
        "    [best_n, best_n], [min(modularity), max_modularity],\n",
        "    linestyle='--', color='tab:red',\n",
        "    label=label\n",
        ")\n",
        "\n",
        "plt.ylabel('Modularity Score')\n",
        "plt.xlabel('Number of Communities')\n",
        "plt.title('Modularity Score vs. Number of Communities')\n",
        "plt.legend(loc='upper left')\n",
        "\n",
        "plt.ylim(modularity.min(), 0.6)\n",
        "\n",
        "plt.show()"
      ]
    },
    {
      "cell_type": "markdown",
      "id": "ac810801-4594-4dcc-876d-e6a4201728cb",
      "metadata": {
        "id": "ac810801-4594-4dcc-876d-e6a4201728cb"
      },
      "source": [
        "Bạn có nhận xét gì?"
      ]
    },
    {
      "cell_type": "markdown",
      "id": "cadf58b8-ba10-46ca-8044-a80645e19409",
      "metadata": {
        "deletable": false,
        "nbgrader": {
          "cell_type": "markdown",
          "checksum": "469fcb6950ab435eff2ebc07c9a46e19",
          "grade": true,
          "grade_id": "cell-c7057e325985bb34",
          "locked": false,
          "points": 0,
          "schema_version": 3,
          "solution": true,
          "task": false
        },
        "id": "cadf58b8-ba10-46ca-8044-a80645e19409"
      },
      "source": [
        "YOUR ANSWER HERE"
      ]
    },
    {
      "cell_type": "markdown",
      "id": "79d4653c-a5b3-4fea-a0b1-253ede90248f",
      "metadata": {
        "id": "79d4653c-a5b3-4fea-a0b1-253ede90248f"
      },
      "source": [
        "## Task 5. Trị riêng (Eigenvalues) của đồ thị Laplacian\n",
        "\n",
        "Chúng ta cần một số hàm phục vụ cho việc phát sinh đồ thị."
      ]
    },
    {
      "cell_type": "code",
      "execution_count": null,
      "id": "c0a35957-749e-49cf-a32f-5e9c2fcf8d62",
      "metadata": {
        "id": "c0a35957-749e-49cf-a32f-5e9c2fcf8d62"
      },
      "outputs": [],
      "source": [
        "def ringLattice(n: int, k: int) -> nx.Graph:\n",
        "    \"\"\"Hàm tạo đồ thị vòng.\n",
        "\n",
        "    Parameters\n",
        "    ----------\n",
        "    n\n",
        "        (int) số lượng đỉnh cho trước\n",
        "    k\n",
        "        (int) bậc đỉnh\n",
        "\n",
        "    Returns\n",
        "    -------\n",
        "        (nx.Graph) đồ thị kết quả\n",
        "    \"\"\"\n",
        "    G = nx.Graph()\n",
        "    nodes = list(range(n))\n",
        "    for i in range(1, int(k/2 + 1)):\n",
        "        targets = nodes[i:] + nodes[:i]\n",
        "        G.add_edges_from(zip(nodes, targets))\n",
        "    return G"
      ]
    },
    {
      "cell_type": "code",
      "execution_count": null,
      "id": "95f52814-44cd-4815-9e61-ff4b6d1324fb",
      "metadata": {
        "id": "95f52814-44cd-4815-9e61-ff4b6d1324fb"
      },
      "outputs": [],
      "source": [
        "def pairGraph(n):\n",
        "    \"\"\"Hàm tạo đồ thị đôi\n",
        "\n",
        "    Parameters\n",
        "    ----------\n",
        "    n\n",
        "        (int) số lượng đỉnh cho trước\n",
        "\n",
        "    Returns\n",
        "    -------\n",
        "        (nx.Graph) đồ thị kết quả\n",
        "    \"\"\"\n",
        "    G = nx.disjoint_union(nx.complete_graph(n), nx.complete_graph(n))\n",
        "    G.add_edge(0, n)\n",
        "    return G"
      ]
    },
    {
      "cell_type": "code",
      "execution_count": null,
      "id": "87f3a7d4-0f38-4823-9ac2-3147c9618ab1",
      "metadata": {
        "id": "87f3a7d4-0f38-4823-9ac2-3147c9618ab1"
      },
      "outputs": [],
      "source": [
        "def tripleGraph(n):\n",
        "    \"\"\"Hàm tạo đồ thị cặp ba\n",
        "\n",
        "    Parameters\n",
        "    ----------\n",
        "    n\n",
        "        (int) số lượng đỉnh cho trước\n",
        "\n",
        "    Returns\n",
        "    -------\n",
        "        (nx.Graph) đồ thị kết quả\n",
        "    \"\"\"\n",
        "    G = nx.disjoint_union_all(\n",
        "        [nx.complete_graph(n), nx.complete_graph(n), nx.complete_graph(n)]\n",
        "    )\n",
        "    G.add_edge(0, n)\n",
        "    G.add_edge(n, n*2)\n",
        "    G.add_edge(n*2, 0)\n",
        "    return G"
      ]
    },
    {
      "cell_type": "markdown",
      "id": "8416cac2-5b06-4c60-a9b0-a27acce63a2e",
      "metadata": {
        "id": "8416cac2-5b06-4c60-a9b0-a27acce63a2e"
      },
      "source": [
        "Đồ thị Laplacian có công thức như sau:\n",
        "\n",
        "$$L = D - A$$\n",
        "\n",
        "trong đó $A$ là một ma trận kề, $D$ là ma trận đường chéo với các bậc đỉnh. Trị riêng và vector riêng của Laplacian có thể cho chúng ta biết thông tin về cấu trúc của một đồ thị. Ta sẽ xem xét một vài ví dụ đơn giản để hiểu phát biểu này.\n",
        "\n",
        "\n",
        "Trong phần này, bạn hoàn thành một hàm `eigenLaplacian` mà nhận đầu vào là một đồ thị và trả về một tuple gồm hai mảng numpy array: `eigenvectors` và `eigenvalues` thể hiện cho vector riêng và trị riêng của Laplacian. Cả hai thành phần này được xếp theo thứ tự giảm dần của trị riêng.\n",
        "\n",
        "_Gợi ý: bất kỳ ma trận đối xứng nào chỉ có trị riêng và vector riêng thực. Bạn có thể sử dụng `np.linalg.eigh` để tính toán các vector riêng và trị riêng trong một ma trận đối xứng._"
      ]
    },
    {
      "cell_type": "code",
      "execution_count": null,
      "id": "6c147fb9-4736-45b5-8d1e-32564cce8039",
      "metadata": {
        "deletable": false,
        "nbgrader": {
          "cell_type": "code",
          "checksum": "6575ffecb24257518a1643af69980e2a",
          "grade": false,
          "grade_id": "cell-dd7b3379b917f60d",
          "locked": false,
          "schema_version": 3,
          "solution": true,
          "task": false
        },
        "id": "6c147fb9-4736-45b5-8d1e-32564cce8039"
      },
      "outputs": [],
      "source": [
        "def eigenLaplacian(G: nx.Graph) -> Tuple[np.ndarray, np.ndarray]:\n",
        "    # YOUR CODE HERE\n",
        "    raise NotImplementedError()"
      ]
    },
    {
      "cell_type": "code",
      "execution_count": null,
      "id": "999d1790-7914-4f30-a22a-36297e1e7381",
      "metadata": {
        "deletable": false,
        "editable": false,
        "nbgrader": {
          "cell_type": "code",
          "checksum": "5e617fec731ac6fbe08b2442e2150154",
          "grade": true,
          "grade_id": "cell-7f001e947724e92b",
          "locked": true,
          "points": 2,
          "schema_version": 3,
          "solution": false,
          "task": false
        },
        "id": "999d1790-7914-4f30-a22a-36297e1e7381"
      },
      "outputs": [],
      "source": [
        "# Test\n",
        "emptyG = nx.empty_graph(10)\n",
        "vecs, vals = eigenLaplacian(emptyG)\n",
        "assert vecs.sum() == 10, \"Sum of eigenvectors should be 10 for empty graph\"\n",
        "assert vals.sum() == 0, \"Sum of eigenvalues should be 0 for empty graph\"\n",
        "\n",
        "oneedgeG = nx.empty_graph(10)\n",
        "oneedgeG.add_edge(0, 1)\n",
        "vecs, vals = eigenLaplacian(oneedgeG)\n",
        "\n",
        "assert abs(vecs.round(4)[0, -1]) == abs(vecs.round(4)[1, -1]) == 0.7071, (\n",
        "    \"Eigenvector values at indices 0 and 1 should be 0.7071\"\n",
        ")\n",
        "assert vals[0] < vals[-1], \"First eigenvalue should be less than the last eigenvalue\"\n",
        "\n",
        "\n",
        "completeG = nx.complete_graph(10)\n",
        "vecs, vals = eigenLaplacian(completeG)\n",
        "assert (vals == vals.real).sum(\n",
        ") == vals.shape[0], \"All eigenvalues should be real\"\n",
        "assert (vecs == vecs.real).sum(\n",
        ") == vals.shape[0]**2, \"All eigenvectors should be real\"\n",
        "\n",
        "ringG = ringLattice(10, 2)\n",
        "vecs, vals = eigenLaplacian(ringG)\n",
        "assert adler32(vals.round(\n",
        "    4)[-1]) == 6815825, \"Checksum of last eigenvalue should match\"\n",
        "assert adler32(vals.round(\n",
        "    4)[-2]) == 393479360, \"Checksum of second last eigenvalue should match\""
      ]
    },
    {
      "cell_type": "markdown",
      "id": "9bef9cfc-0385-4f31-aaf6-2d3f7e4f632f",
      "metadata": {
        "id": "9bef9cfc-0385-4f31-aaf6-2d3f7e4f632f"
      },
      "source": [
        "Trực quan hóa một số đồ thị đơn giản và trị riêng Laplacian của chúng."
      ]
    },
    {
      "cell_type": "code",
      "execution_count": null,
      "id": "04a7dcdb-da4e-4ed9-9c8d-9cdf3c74db89",
      "metadata": {
        "id": "04a7dcdb-da4e-4ed9-9c8d-9cdf3c74db89"
      },
      "outputs": [],
      "source": [
        "cases = [\n",
        "    (emptyG, 'Empty graph', nx.draw_circular),\n",
        "    (nx.complete_graph(10), 'Complete graph', nx.draw_circular),\n",
        "    (ringLattice(10, 2), 'Ring lattice', nx.draw_circular),\n",
        "    (oneedgeG, 'Single edge', nx.draw_circular),\n",
        "    (pairGraph(5), 'Pair of complete graphs', nx.draw_kamada_kawai),\n",
        "    (tripleGraph(5), 'Triple of complete graphs', nx.draw_kamada_kawai)\n",
        "]\n",
        "\n",
        "plt.figure(figsize=(10, 30))\n",
        "\n",
        "for i, (graph, title, layout) in enumerate(cases, 1):\n",
        "    plt.subplot(6, 2, 2*i-1)\n",
        "    layout(graph, node_color='tab:cyan', edgecolors='black', node_size=100)\n",
        "    plt.title(title)\n",
        "    plt.axis('off')\n",
        "\n",
        "    plt.subplot(6, 2, 2*i)\n",
        "    vecs, vals = eigenLaplacian(graph)\n",
        "    plt.scatter(np.arange(1, len(graph) + 1), vals)\n",
        "    plt.grid(True)\n",
        "    plt.xticks(np.arange(1, len(graph) + 1))\n",
        "    plt.title('Ordered Laplacian eigenvalues')\n",
        "\n",
        "plt.tight_layout()\n",
        "plt.show()"
      ]
    },
    {
      "cell_type": "markdown",
      "id": "2350d490-50af-4210-8d27-287e211bfbe6",
      "metadata": {
        "id": "2350d490-50af-4210-8d27-287e211bfbe6"
      },
      "source": [
        "Bạn có nhận xét gì?"
      ]
    },
    {
      "cell_type": "markdown",
      "id": "da79a6f7-a00d-406f-84e3-5ae3857c33a3",
      "metadata": {
        "deletable": false,
        "nbgrader": {
          "cell_type": "markdown",
          "checksum": "405d8e249709e3c7a5540eef53105cb6",
          "grade": true,
          "grade_id": "cell-b429483b0c2cdd8f",
          "locked": false,
          "points": 0,
          "schema_version": 3,
          "solution": true,
          "task": false
        },
        "id": "da79a6f7-a00d-406f-84e3-5ae3857c33a3"
      },
      "source": [
        "YOUR ANSWER HERE"
      ]
    }
  ],
  "metadata": {
    "kernelspec": {
      "display_name": "Python 3 (ipykernel)",
      "language": "python",
      "name": "python3"
    },
    "language_info": {
      "codemirror_mode": {
        "name": "ipython",
        "version": 3
      },
      "file_extension": ".py",
      "mimetype": "text/x-python",
      "name": "python",
      "nbconvert_exporter": "python",
      "pygments_lexer": "ipython3",
      "version": "3.11.7"
    },
    "colab": {
      "provenance": [],
      "include_colab_link": true
    }
  },
  "nbformat": 4,
  "nbformat_minor": 5
}