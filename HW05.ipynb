{
  "cells": [
    {
      "cell_type": "markdown",
      "metadata": {
        "id": "view-in-github",
        "colab_type": "text"
      },
      "source": [
        "<a href=\"https://colab.research.google.com/github/ChuLinh02/GraphMining/blob/main/HW05.ipynb\" target=\"_parent\"><img src=\"https://colab.research.google.com/assets/colab-badge.svg\" alt=\"Open In Colab\"/></a>"
      ]
    },
    {
      "cell_type": "markdown",
      "id": "6c0dc6b7-e4bc-468f-ad42-ff3589362065",
      "metadata": {
        "id": "6c0dc6b7-e4bc-468f-ad42-ff3589362065"
      },
      "source": [
        "# **CSC17103 - Colab 5 - Phân hoạch và phát hiện cộng đồng trên đồ thị (Tiếp theo)**\n",
        "\n",
        "Đây là Bài tập 05 trong môn học Khai thác Dữ liệu Đồ thị (Graph Mining) - CSC1703 tại Khoa Công nghệ Thông tin, Trường Đại học Khoa học Tự nhiên, Đại học Quốc gia TP.HCM"
      ]
    },
    {
      "cell_type": "markdown",
      "id": "4cd8c04a-ba8d-48b0-aedc-0e26e13ab6a8",
      "metadata": {
        "id": "4cd8c04a-ba8d-48b0-aedc-0e26e13ab6a8"
      },
      "source": [
        "(Cập nhật lần cuối: 21/07/2024)\n",
        "\n",
        "Họ tên:\n",
        "\n",
        "MSSV:"
      ]
    },
    {
      "cell_type": "markdown",
      "id": "0c1305a2-751e-4c0a-9d53-5ab022bf4e5e",
      "metadata": {
        "id": "0c1305a2-751e-4c0a-9d53-5ab022bf4e5e"
      },
      "source": [
        "## **Cách thực hiện và nộp bài tập**\n",
        "\n",
        "&#9889; Chú ý, bạn nên thực hiện theo sự hướng dẫn dưới đây. Nếu có bất kỳ điều gì không rõ, bạn cần liên hệ ngay trợ giảng/ giáo viên thực hành để được hỗ trợ kịp thời.\n",
        "\n",
        "**Cách làm bài**\n",
        "\n",
        "Bạn sẽ làm trực tiếp trên file notebook này. Đầu tiên, bạn điền họ tên và MSSV vào phần đầu file ở bên trên. Trong file, bạn làm bài ở những chỗ có ghi là:\n",
        "```python\n",
        "# YOUR CODE HERE\n",
        "raise NotImplementedError()\n",
        "```\n",
        "hoặc đối với những phần code không bắt buộc thì là:\n",
        "```python\n",
        "# YOUR CODE HERE (OPTION)\n",
        "```\n",
        "hoặc đối với markdown cell thì là:\n",
        "```markdown\n",
        "YOUR ANSWER HERE\n",
        "```\n",
        "\n",
        "**Cách nộp bài**\n",
        "\n",
        "Trước khi nộp bài, bạn chọn `Kernel` - `Restart Kernel & Run All Cells` đối với trường hợp sử dụng môi trường local hoặc `Runtime` - `Restart session and run all` đối với môi trường Google Colab, để đảm bảo mọi chuyện diễn ra đúng như mong đợi.\n",
        "\n",
        "Sau đó, bạn tạo thư mục nộp bài theo cấu trúc sau:\n",
        "- Thư mục `MSSV` (ví dụ, nếu bạn có MSSV là 1234567 thì bạn đặt tên thư mục là `1234567`)\n",
        "    - File `HW05.ipynb` (không cần nộp các file khác)\n",
        "\n",
        "Cuối cùng, bạn nén thư mục `MSSV` này lại với định dạng nén là .zip (chứ không được là .rar hay các định dạng khác) và nộp ở link trên moodle. \\\n",
        "<font color=red>Bạn lưu ý tuân thủ chính xác qui định nộp bài này.</font>"
      ]
    },
    {
      "cell_type": "markdown",
      "id": "c21df571-c603-49fc-b635-879b9bb3f1f2",
      "metadata": {
        "id": "c21df571-c603-49fc-b635-879b9bb3f1f2"
      },
      "source": [
        "## Setup và Import các thứ"
      ]
    },
    {
      "cell_type": "code",
      "execution_count": null,
      "id": "08b373a0-5557-4bcc-a0bb-9d2518d62d38",
      "metadata": {
        "id": "08b373a0-5557-4bcc-a0bb-9d2518d62d38"
      },
      "outputs": [],
      "source": [
        "# Upgrade packages\n",
        "# !pip install --upgrade scipy networkx"
      ]
    },
    {
      "cell_type": "code",
      "execution_count": null,
      "id": "8dc858ad-bd32-41f6-8771-f19dd1f30564",
      "metadata": {
        "id": "8dc858ad-bd32-41f6-8771-f19dd1f30564"
      },
      "outputs": [],
      "source": [
        "# Import\n",
        "import numpy as np # For numerical computation\n",
        "import networkx as nx # For network/ graph manipulation\n",
        "import matplotlib.pyplot as plt # For visualization\n",
        "import scipy.stats as st\n",
        "from scipy.stats import ks_2samp\n",
        "from zlib import adler32\n",
        "\n",
        "from sklearn import datasets\n",
        "from sklearn.cluster import KMeans\n",
        "from sklearn.cluster import AgglomerativeClustering\n",
        "from scipy.cluster.hierarchy import dendrogram, linkage\n",
        "from scipy.spatial.distance import squareform\n",
        "\n",
        "import pandas as pd\n",
        "import seaborn as sns\n",
        "\n",
        "from IPython.display import clear_output\n",
        "\n",
        "from collections import Counter\n",
        "import random\n",
        "\n",
        "plt.style.use(\"fast\")\n",
        "\n",
        "from typing import List, Tuple, Dict\n",
        "\n",
        "%matplotlib inline"
      ]
    },
    {
      "cell_type": "code",
      "execution_count": null,
      "id": "bf80415d-c598-4a08-a870-23c98759c508",
      "metadata": {
        "id": "bf80415d-c598-4a08-a870-23c98759c508"
      },
      "outputs": [],
      "source": [
        "# Make sure something\n",
        "assert nx.__version__ > '2.5'"
      ]
    },
    {
      "cell_type": "markdown",
      "id": "9e35f86b-e1c3-4ab6-92c6-339235913522",
      "metadata": {
        "id": "9e35f86b-e1c3-4ab6-92c6-339235913522"
      },
      "source": [
        "Trước khi bắt đầu, bạn copy lại hàm `eigenLaplacian` đã cài đặt trước đó nhé!"
      ]
    },
    {
      "cell_type": "code",
      "execution_count": null,
      "id": "8d5de4c9-ace1-4281-885c-7be57d1b4329",
      "metadata": {
        "deletable": false,
        "nbgrader": {
          "cell_type": "code",
          "checksum": "47baca6838686aeacbd21f69127592e8",
          "grade": false,
          "grade_id": "cell-eb7440184b0b1486",
          "locked": false,
          "schema_version": 3,
          "solution": true,
          "task": false
        },
        "id": "8d5de4c9-ace1-4281-885c-7be57d1b4329"
      },
      "outputs": [],
      "source": [
        "def eigenLaplacian(G: nx.Graph) -> Tuple[np.ndarray, np.ndarray]:\n",
        "    # YOUR CODE HERE\n",
        "    raise NotImplementedError()"
      ]
    },
    {
      "cell_type": "markdown",
      "id": "83f218d4-f094-4faa-9705-5609bbe03fc4",
      "metadata": {
        "id": "83f218d4-f094-4faa-9705-5609bbe03fc4"
      },
      "source": [
        "## Task 6. Gom cụm phổ (Spectral clustering)"
      ]
    },
    {
      "cell_type": "markdown",
      "id": "482bd43f-eb93-4835-af79-b45b41999a64",
      "metadata": {
        "id": "482bd43f-eb93-4835-af79-b45b41999a64"
      },
      "source": [
        "Gom cụm phổ hay Spectral clustering là một thuật toán mạnh mẽ phục vụ cho tác vụ phát hiện cộng đồng mà dựa trên việc cực tiểu lát cắt đồ thị. Nó dựa trên vector riêng Laplacian, một cách nói cụ thể hơn, dấu của vector riêng nhỏ thứ hai quyết định phân hoạch đồ thị thành hai cụm.\n",
        "\n",
        "Trong phần này, ta xem xét một dataset nhân tạo dạng đường tròn như sau:"
      ]
    },
    {
      "cell_type": "code",
      "execution_count": null,
      "id": "2b8e9330-25c3-4ef6-b5fb-531042ce1cad",
      "metadata": {
        "id": "2b8e9330-25c3-4ef6-b5fb-531042ce1cad"
      },
      "outputs": [],
      "source": [
        "from sklearn import datasets\n",
        "\n",
        "circles, truth_labels = datasets.make_circles(\n",
        "    n_samples=300, factor=0.6, noise=0.05, random_state=0\n",
        ")\n",
        "\n",
        "plt.figure(figsize=(6, 6))\n",
        "plt.scatter(circles[:, 0], circles[:, 1], c=truth_labels,\n",
        "            cmap='viridis', edgecolor='k')\n",
        "plt.title('Scatter Plot of Generated Circles Dataset')\n",
        "plt.xlabel('Feature 1')\n",
        "plt.ylabel('Feature 2')\n",
        "plt.show()"
      ]
    },
    {
      "cell_type": "markdown",
      "id": "715b246b-b672-4f83-8173-eceb764ecb22",
      "metadata": {
        "id": "715b246b-b672-4f83-8173-eceb764ecb22"
      },
      "source": [
        "Chúng ta hãy cô lập các điểm dữ liệu trong vòng tròn trung tâm bằng cách sử dụng gom cụm phổ. Bất kỳ tập dữ liệu dựa trên khoảng cách nào cũng có thể được biểu diễn dưới dạng đồ thị có các cạnh giữa các lân cận.\n",
        "\n",
        "Bạn cần hoàn thành hàm `customGraph` mà nhận đầu vào là một mảng np.array với các điểm tọa độ x-y và trả về một đồ thị liên thông.\n",
        "\n",
        "_Gợi ý: bạn thử áp dụng hàm `sklearn.neighbors.kneighbors_graph`_\n",
        "\n",
        "_Nhận xét: bạn có thể đề xuất sử dụng khoảng cách của riêng bạn!_"
      ]
    },
    {
      "cell_type": "code",
      "execution_count": null,
      "id": "9cf92fb6-9cf0-47a9-9adf-20e28706c583",
      "metadata": {
        "deletable": false,
        "nbgrader": {
          "cell_type": "code",
          "checksum": "4bf9386241f4099d193de73907319975",
          "grade": false,
          "grade_id": "cell-a9b9932813fadc39",
          "locked": false,
          "schema_version": 3,
          "solution": true,
          "task": false
        },
        "id": "9cf92fb6-9cf0-47a9-9adf-20e28706c583"
      },
      "outputs": [],
      "source": [
        "from sklearn.neighbors import kneighbors_graph\n",
        "\n",
        "def customGraph(data: np.ndarray) -> nx.Graph:\n",
        "    # YOUR CODE HERE\n",
        "    raise NotImplementedError()"
      ]
    },
    {
      "cell_type": "code",
      "execution_count": null,
      "id": "faea48eb-1f84-451d-a582-0d7929df01c9",
      "metadata": {
        "deletable": false,
        "editable": false,
        "nbgrader": {
          "cell_type": "code",
          "checksum": "34e73b8d048bd74a12383a40fc8bf56b",
          "grade": true,
          "grade_id": "cell-2c37336b69bc150c",
          "locked": true,
          "points": 0.5,
          "schema_version": 3,
          "solution": false,
          "task": false
        },
        "id": "faea48eb-1f84-451d-a582-0d7929df01c9"
      },
      "outputs": [],
      "source": [
        "# Test\n",
        "circles, truth_labels = datasets.make_circles(n_samples=300, factor=0.6,\n",
        "                                              noise=0.05, random_state=0)\n",
        "circlesG = customGraph(circles)\n",
        "assert circlesG.number_of_nodes() == 300, \"The graph should have 300 nodes\"\n",
        "assert nx.is_connected(circlesG), \"The graph should be connected\""
      ]
    },
    {
      "cell_type": "markdown",
      "id": "ab86fe4d-db80-4ef7-bb08-6de8d82693e0",
      "metadata": {
        "id": "ab86fe4d-db80-4ef7-bb08-6de8d82693e0"
      },
      "source": [
        "Trực quan hóa giá trị trong vector riêng nhỏ thứ hai của Laplacian."
      ]
    },
    {
      "cell_type": "code",
      "execution_count": null,
      "id": "7d547d8d-debf-4f04-8b64-34959c07d0d3",
      "metadata": {
        "id": "7d547d8d-debf-4f04-8b64-34959c07d0d3"
      },
      "outputs": [],
      "source": [
        "vecs, vals = eigenLaplacian(circlesG)\n",
        "\n",
        "plt.figure(figsize=(8, 5))\n",
        "plt.scatter(np.arange(300), vecs[:, 1], s=10, color='tab:blue', edgecolor='k')\n",
        "plt.title('Second Smallest Eigenvector')\n",
        "plt.xlabel('Data Point')\n",
        "plt.ylabel('Value')\n",
        "plt.grid(True)\n",
        "plt.show()"
      ]
    },
    {
      "cell_type": "markdown",
      "id": "80de38a5-4723-4e4b-b275-7e4e2ff7b786",
      "metadata": {
        "id": "80de38a5-4723-4e4b-b275-7e4e2ff7b786"
      },
      "source": [
        "Kế tiếp, bạn viết một hàm `spectralTwoClusters` mà nhận đầu vào là một mảng np.array vector riêng có thứ tự và trả về mảng np.array nhãn của các đỉnh."
      ]
    },
    {
      "cell_type": "code",
      "execution_count": null,
      "id": "831d7b8a-27fe-4bd8-bf34-1f6168cb8a9d",
      "metadata": {
        "deletable": false,
        "nbgrader": {
          "cell_type": "code",
          "checksum": "495420735668900d130ef7c54de2a8d7",
          "grade": false,
          "grade_id": "cell-aa410632de19acae",
          "locked": false,
          "schema_version": 3,
          "solution": true,
          "task": false
        },
        "id": "831d7b8a-27fe-4bd8-bf34-1f6168cb8a9d"
      },
      "outputs": [],
      "source": [
        "def spectralTwoClusters(vecs: np.ndarray) -> np.ndarray:\n",
        "    # YOUR CODE HERE\n",
        "    raise NotImplementedError()"
      ]
    },
    {
      "cell_type": "code",
      "execution_count": null,
      "id": "738b0855-9dcd-44d5-a416-f66bad5787f1",
      "metadata": {
        "deletable": false,
        "editable": false,
        "nbgrader": {
          "cell_type": "code",
          "checksum": "fc6fbdeb50c9ec66e594a101adbeaf06",
          "grade": true,
          "grade_id": "cell-c179716b480772c7",
          "locked": true,
          "points": 0.5,
          "schema_version": 3,
          "solution": false,
          "task": false
        },
        "id": "738b0855-9dcd-44d5-a416-f66bad5787f1"
      },
      "outputs": [],
      "source": [
        "# Test\n",
        "circles, truth_labels = datasets.make_circles(n_samples=300, factor=0.6,\n",
        "                                              noise=0.05, random_state=0)\n",
        "circlesG = customGraph(circles)\n",
        "vecs, vals = eigenLaplacian(circlesG)\n",
        "labels = spectralTwoClusters(vecs)\n",
        "\n",
        "assert abs(np.corrcoef(truth_labels, labels)[0, 1]) > 0.95\n",
        "\n",
        "plt.figure(figsize=(6, 6))\n",
        "plt.scatter(circles[:, 0], circles[:, 1], c=labels)\n",
        "plt.title('Correlation: {:.2f}'.format(abs(np.corrcoef(truth_labels, labels)[0, 1])))\n",
        "plt.show()"
      ]
    },
    {
      "cell_type": "markdown",
      "id": "290953ca-7cac-44dc-99a4-0abeabe8f8d4",
      "metadata": {
        "id": "290953ca-7cac-44dc-99a4-0abeabe8f8d4"
      },
      "source": [
        "Bạn có nhận xét gì?"
      ]
    },
    {
      "cell_type": "markdown",
      "id": "d5d9c869-76f2-425a-b162-ce36cb6631f5",
      "metadata": {
        "id": "d5d9c869-76f2-425a-b162-ce36cb6631f5"
      },
      "source": [
        "YOUR ANSWER HERE"
      ]
    },
    {
      "cell_type": "markdown",
      "id": "7978f0b1-3971-4f72-86d5-bba221313cd0",
      "metadata": {
        "id": "7978f0b1-3971-4f72-86d5-bba221313cd0"
      },
      "source": [
        "_Ghi chú: ở đây có hai hướng trong xây dựng đồ thị: 1) lựa chọn các cặp đỉnh để liên kết lại với nhau, và 2) chọn trọng số trong việc khởi tạo cạnh. Hãy thử gán tham số `factor=0.7` trong `datasets.make_circles` và kiểm tra lại một lần nữa để đạt được tương quan 0.9. Kết hợp `sklearn.neighbors.kneighbors_graph` với `scipy.spatial.distance_matrix` hay `sklearn.metrics.pairwise.rbf_kernel`. Nếu bạn quan tâm, hãy đọc phân tích chi tiết [ở đây]((http://www2.imm.dtu.dk/projects/manifold/Papers/Laplacian.pdf))_\n",
        "\n",
        "Sau khi thực hiện xong phần ghi chú, bạn để lại nhận xét của bạn ở phía dưới (phần này không tính điểm, chỉ mang tính chất điểm cộng)."
      ]
    },
    {
      "cell_type": "code",
      "execution_count": null,
      "id": "a6623ab4-e738-422b-bc4b-f6e286c686b9",
      "metadata": {
        "id": "a6623ab4-e738-422b-bc4b-f6e286c686b9"
      },
      "outputs": [],
      "source": []
    },
    {
      "cell_type": "markdown",
      "id": "b1a3b5ff-a1a6-4109-b97f-d9dd91781fd3",
      "metadata": {
        "id": "b1a3b5ff-a1a6-4109-b97f-d9dd91781fd3"
      },
      "source": [
        "YOUR ANSWER HERE"
      ]
    },
    {
      "cell_type": "markdown",
      "id": "770ff192-2698-4309-b63c-483277e257a8",
      "metadata": {
        "id": "770ff192-2698-4309-b63c-483277e257a8"
      },
      "source": [
        "## Task 7. Các ánh xạ trị riêng Laplacian (Laplacian Eigenmaps)\n",
        "\n",
        "Trong task trước, ta đã thấy cách để mà phân chia một đồ thị thành hai phần. Bây giờ, chúng ta xem xét một cách để có nhiều phân hoạch hơn trong một đồ thị như sau:"
      ]
    },
    {
      "cell_type": "code",
      "execution_count": null,
      "id": "c70d8ce8-808b-48ff-abde-d84f7a2cbbb6",
      "metadata": {
        "id": "c70d8ce8-808b-48ff-abde-d84f7a2cbbb6"
      },
      "outputs": [],
      "source": [
        "quadG = nx.disjoint_union_all([nx.complete_graph(5),\n",
        "                               nx.complete_graph(5),\n",
        "                               nx.complete_graph(5),\n",
        "                               nx.complete_graph(5)])\n",
        "\n",
        "quadG.add_edge(0, 5)\n",
        "quadG.add_edge(6, 10)\n",
        "quadG.add_edge(11, 16)\n",
        "quadG.add_edge(17, 1)\n",
        "\n",
        "plt.figure(figsize=(5, 5))\n",
        "\n",
        "nx.draw_kamada_kawai(\n",
        "    quadG,\n",
        "    node_color='white',\n",
        "    edgecolors='black',\n",
        "    node_size=100\n",
        ")\n",
        "\n",
        "plt.title('Quad Complete Graphs Connected')\n",
        "\n",
        "plt.show()"
      ]
    },
    {
      "cell_type": "markdown",
      "id": "05c62f5e-fb04-418e-81f4-435a6b2598d1",
      "metadata": {
        "id": "05c62f5e-fb04-418e-81f4-435a6b2598d1"
      },
      "source": [
        "Việc phân hoạch hơn nữa có thể được thực hiện bằng nhiều hướng tiếp cận khác nhau. Ví dụ như, ta có thể lặp lại thủ tục gom cụm trên các hai đồ thị con phân biệt và chọn một lát cắt đồ thị nhỏ nhất và sau đó tiếp tục lặp lại. Một cách khác là lấy ánh xạ trị riêng Laplacian và áp dụng K-means. Ta sẽ xem cách này hoạt động như thế nào:\n",
        "\n",
        "1. Tính toán Laplacian chuẩn hóa dựa trên công thức\n",
        "$$L = D^{-1/2}(D - A)D^{-1/2}$$\n",
        "2. Xếp chồng các vector riêng  $L$ thành ma trận $(x_1, x_2, \\dots)$ theo chiều giảm dần giá trị của các trị riêng.\n",
        "3. Nhân dòng $i$-th bởi $\\frac{1}{\\sqrt{d_i}}$ trong đó $d_i$ là bậc của đỉnh $i$\n",
        "* $k$ của ma trận tính từ dòng thứ hai này trở đi được gọi là vector _Laplacian Eigenmaps (hay còn gọi là Spectral Embedding)_\n",
        "4. Ném các eigenmaps này vào Kmeans.\n",
        "5. Các nhãn đỉnh được khớp bởi Kmeans.\n",
        "\n",
        "Bây giờ, bạn viết một hàm `normLaplacian` mà nhận đầu vào là một ma trận kề $A$ và trả về một tuple với hai mảng numpy. Mảng đầu tiên là ma trận Laplacian đã được chuẩn hóa, mảng còn lại là một chuỗi bậc đỉnh.\n"
      ]
    },
    {
      "cell_type": "code",
      "execution_count": null,
      "id": "9c31d005-029a-4808-a7d4-fa5f45e7aeb4",
      "metadata": {
        "deletable": false,
        "nbgrader": {
          "cell_type": "code",
          "checksum": "de1c9ca4ff863e75bba2c09f935a7ad1",
          "grade": false,
          "grade_id": "cell-0e6abd1ef1e4a834",
          "locked": false,
          "schema_version": 3,
          "solution": true,
          "task": false
        },
        "id": "9c31d005-029a-4808-a7d4-fa5f45e7aeb4"
      },
      "outputs": [],
      "source": [
        "def normLaplacian(A: np.ndarray) -> Tuple[np.ndarray, np.ndarray]:\n",
        "    # YOUR CODE HERE\n",
        "    raise NotImplementedError()"
      ]
    },
    {
      "cell_type": "code",
      "execution_count": null,
      "id": "221c5ded-8098-441d-911d-9bf5f5931925",
      "metadata": {
        "deletable": false,
        "editable": false,
        "nbgrader": {
          "cell_type": "code",
          "checksum": "a8cf5662f4f7ea782228e434ae55492b",
          "grade": true,
          "grade_id": "cell-3aa4de4ee7d6bb75",
          "locked": true,
          "points": 0.5,
          "schema_version": 3,
          "solution": false,
          "task": false
        },
        "id": "221c5ded-8098-441d-911d-9bf5f5931925"
      },
      "outputs": [],
      "source": [
        "# Test\n",
        "A = nx.to_numpy_array(quadG)\n",
        "L, degree_seq = normLaplacian(A)\n",
        "\n",
        "assert degree_seq.shape == (20,), \"Degree sequence should have 20 elements\"\n",
        "assert L.shape == (20, 20), \"Laplacian matrix should be 20x20\"\n",
        "assert np.diagonal(L).sum() == 20, \"Sum of the diagonal elements should be 20\"\n",
        "assert round(L[:, 2].sum(), 4) == 0.0528, (\n",
        "    \"Sum of the elements in the 3rd column should be 0.0528\"\n",
        ")"
      ]
    },
    {
      "cell_type": "markdown",
      "id": "1823623b-7577-4153-b131-965cd0c83dda",
      "metadata": {
        "id": "1823623b-7577-4153-b131-965cd0c83dda"
      },
      "source": [
        "Tiếp theo, bạn hoàn thành hàm `spectralEmbedding` mà nhận đầu vào  mảng np.array `L` là Laplacian đã được chuẩn hóa, `degree_seq` là chuỗi bậc đỉnh, và `n_components` là số lượng vector đầu ra. Hàm này trả về một mảng np.array các Eigenmaps Laplacian"
      ]
    },
    {
      "cell_type": "code",
      "execution_count": null,
      "id": "1536ef31-af6a-4352-a92a-3c006a0110e3",
      "metadata": {
        "deletable": false,
        "nbgrader": {
          "cell_type": "code",
          "checksum": "fb1ffd77fdc7d0f6ae7cd54bf6ff7a75",
          "grade": false,
          "grade_id": "cell-91e439e2a52fd348",
          "locked": false,
          "schema_version": 3,
          "solution": true,
          "task": false
        },
        "id": "1536ef31-af6a-4352-a92a-3c006a0110e3"
      },
      "outputs": [],
      "source": [
        "def spectralEmbedding(L: np.ndarray, degree_seq: np.ndarray, n_components: int) -> np.ndarray:\n",
        "    # YOUR CODE HERE\n",
        "    raise NotImplementedError()"
      ]
    },
    {
      "cell_type": "code",
      "execution_count": null,
      "id": "71e79982-7e11-426e-a200-575cf2d49f1b",
      "metadata": {
        "deletable": false,
        "editable": false,
        "nbgrader": {
          "cell_type": "code",
          "checksum": "e90966614dd4c29a3fcb8555723d9fc7",
          "grade": true,
          "grade_id": "cell-ce6238db28cf17b1",
          "locked": true,
          "points": 0.5,
          "schema_version": 3,
          "solution": false,
          "task": false
        },
        "id": "71e79982-7e11-426e-a200-575cf2d49f1b"
      },
      "outputs": [],
      "source": [
        "# Test\n",
        "embedding = spectralEmbedding(L, degree_seq, 3)\n",
        "assert embedding.shape == (20, 3), \"Embedding matrix should be 20x3\"\n",
        "\n",
        "assert embedding[:, 0].max(\n",
        ") > 0, \"Max value in the first dimension should be > 0\"\n",
        "assert embedding[:, 0].min(\n",
        ") < 0, \"Min value in the first dimension should be < 0\"\n",
        "assert embedding[:, 1].max(\n",
        ") > 0, \"Max value in the second dimension should be > 0\"\n",
        "assert embedding[:, 1].min(\n",
        ") < 0, \"Min value in the second dimension should be < 0\"\n",
        "\n",
        "assert (embedding[:, 0] > 0).sum(\n",
        ") == 10, \"Number of positive values in the first dimension should be 10\"\n",
        "assert (embedding[:, 1] > 0).sum(\n",
        ") == 10, \"Number of positive values in the second dimension should be 10\"\n",
        "assert (embedding[:, 2] > 0).sum(\n",
        ") == 10, \"Number of positive values in the third dimension should be 10\""
      ]
    },
    {
      "cell_type": "markdown",
      "id": "463cfa56-9c55-4a91-9ce7-38dd086ce648",
      "metadata": {
        "id": "463cfa56-9c55-4a91-9ce7-38dd086ce648"
      },
      "source": [
        "Giờ chúng ta ngắm nhìn vào một cặp biểu đồ của spectral embedding. Ta định nghĩa hàm `spectralClustering` để thực hiện gom cụm."
      ]
    },
    {
      "cell_type": "code",
      "execution_count": null,
      "id": "29bd2eb1-8e7c-4116-9a19-1c0a6322265f",
      "metadata": {
        "id": "29bd2eb1-8e7c-4116-9a19-1c0a6322265f"
      },
      "outputs": [],
      "source": [
        "def spectralClustering(G: nx.Graph, n_clusters: int, n_components: int) -> np.ndarray:\n",
        "    \"\"\"Thực hiện gom cụm phổ với một đồ thị đầu vào.\n",
        "\n",
        "    Parameters\n",
        "    ----------\n",
        "    G\n",
        "        (nx.Graph) Đồ thị đầu vào.\n",
        "    n_clusters\n",
        "        (int) Số lượng clusters.\n",
        "    n_components\n",
        "        (int) Số lượng thành phần trong spectral embedding.\n",
        "\n",
        "    Returns\n",
        "    -------\n",
        "        (np.ndarray) Một mảng nhãn cụm cho mỗi nút.\n",
        "    \"\"\"\n",
        "    A = nx.to_numpy_array(G)\n",
        "    L, degree_seq = normLaplacian(A)\n",
        "    embedding = spectralEmbedding(L, degree_seq, n_components)\n",
        "    kmeans = KMeans(n_clusters=n_clusters)\n",
        "    kmeans.fit(embedding)\n",
        "    return kmeans.labels_"
      ]
    },
    {
      "cell_type": "code",
      "execution_count": null,
      "id": "cb8f4e84-5f98-43bf-ac33-743b775f3e9d",
      "metadata": {
        "id": "cb8f4e84-5f98-43bf-ac33-743b775f3e9d"
      },
      "outputs": [],
      "source": [
        "embedding = spectralEmbedding(L, degree_seq, 3)\n",
        "labels = spectralClustering(quadG, 4, 3)\n",
        "assert np.all(labels[:5] == labels[0]), \"First complete graph nodes have different labels\"\n",
        "assert np.all(labels[5:10] == labels[5]), \"Second complete graph nodes have different labels\"\n",
        "assert np.all(labels[10:15] == labels[10]), \"Third complete graph nodes have different labels\"\n",
        "assert np.all(labels[15:20] == labels[15]), \"Fourth complete graph nodes have different labels\""
      ]
    },
    {
      "cell_type": "code",
      "execution_count": null,
      "id": "33ae4043-b851-4f26-afcf-3ecd2647dc88",
      "metadata": {
        "id": "33ae4043-b851-4f26-afcf-3ecd2647dc88"
      },
      "outputs": [],
      "source": [
        "embedding = spectralEmbedding(L, degree_seq, 3)\n",
        "labels = spectralClustering(quadG, 4, 3)\n",
        "\n",
        "pair_data = pd.DataFrame(\n",
        "    np.hstack([embedding, labels[:, None]]),\n",
        "    columns=['x2', 'x3', 'x4', 'label']\n",
        ")\n",
        "\n",
        "pair_data['label'] = pair_data['label'].astype('category')\n",
        "\n",
        "plt.figure(figsize=(10, 10))\n",
        "\n",
        "pairplot = sns.pairplot(\n",
        "    pair_data,\n",
        "    hue='label',\n",
        "    diag_kind=None\n",
        ")\n",
        "\n",
        "# pairplot._legend.remove()\n",
        "\n",
        "plt.show()"
      ]
    },
    {
      "cell_type": "markdown",
      "id": "e2cbe38e-6654-45de-9479-abda11429732",
      "metadata": {
        "id": "e2cbe38e-6654-45de-9479-abda11429732"
      },
      "source": [
        "Chúng ta có thể thấy bốn cụm riêng biệt trong các ô, đó là lý do tại sao chúng ta lại sử dụng KMeans, nhưng các thuật toán phân cụm khác cũng có thể được áp dụng ở đây."
      ]
    },
    {
      "cell_type": "code",
      "execution_count": null,
      "id": "a120e85c-9853-47bc-9d0b-2fcb13f56435",
      "metadata": {
        "id": "a120e85c-9853-47bc-9d0b-2fcb13f56435"
      },
      "outputs": [],
      "source": [
        "plt.figure(figsize=(10, 10))\n",
        "nx.draw_kamada_kawai(\n",
        "    quadG,\n",
        "    cmap=plt.cm.rainbow,\n",
        "    node_color=labels,\n",
        "    edgecolors='black',\n",
        "    node_size=100)"
      ]
    },
    {
      "cell_type": "markdown",
      "id": "240ecf96-7995-43dc-a707-85ac6a7e7fb3",
      "metadata": {
        "id": "240ecf96-7995-43dc-a707-85ac6a7e7fb3"
      },
      "source": [
        "Và bây giờ, ta xem thử spectral clustering hoạt động như thế nào trên đồ thị Les Miserables."
      ]
    },
    {
      "cell_type": "code",
      "execution_count": null,
      "id": "71191ad5-4611-44ea-8f44-4c53dfa4dad8",
      "metadata": {
        "id": "71191ad5-4611-44ea-8f44-4c53dfa4dad8"
      },
      "outputs": [],
      "source": [
        "G = nx.Graph()\n",
        "G.add_edges_from(nx.les_miserables_graph().edges)\n",
        "pos = nx.kamada_kawai_layout(G)\n",
        "\n",
        "plt.figure(figsize=(8, 8))\n",
        "\n",
        "node_colors = spectralClustering(G, 6, 5)\n",
        "\n",
        "nodes = nx.draw_networkx_nodes(\n",
        "    G,\n",
        "    pos,\n",
        "    cmap=plt.cm.rainbow,\n",
        "    node_color=node_colors,\n",
        "    node_size=100,\n",
        "    linewidths=1,\n",
        "    edgecolors='black'\n",
        ")\n",
        "\n",
        "nx.draw_networkx_edges(\n",
        "    G,\n",
        "    pos,\n",
        "    alpha=0.2,\n",
        "    edge_color='black'\n",
        ")\n",
        "\n",
        "plt.axis('off')\n",
        "\n",
        "plt.legend(*nodes.legend_elements(), title=\"Clusters\")\n",
        "\n",
        "plt.show()"
      ]
    },
    {
      "cell_type": "markdown",
      "id": "51e0b310-5ccb-4122-a5d8-3aa5f90fdca6",
      "metadata": {
        "id": "51e0b310-5ccb-4122-a5d8-3aa5f90fdca6"
      },
      "source": [
        "Bạn có nhận xét gì?"
      ]
    },
    {
      "cell_type": "markdown",
      "id": "4c3af622-8d08-4983-ac3c-30707b727412",
      "metadata": {
        "id": "4c3af622-8d08-4983-ac3c-30707b727412"
      },
      "source": [
        "YOUR ANSWER HERE"
      ]
    },
    {
      "cell_type": "markdown",
      "id": "78b27f95-20fe-45ca-ada0-7501e94446ae",
      "metadata": {
        "id": "78b27f95-20fe-45ca-ada0-7501e94446ae"
      },
      "source": [
        "## Task 8. Gọm cụm kết tụ (Agglomerative clustering)\n",
        "\n",
        "Gom cụm kết tục là một thủ tục lặp đi lặp lại, liên kết các cụm tương tự bằng cách sử dụng ma trận tương đồng. Trong bài tập này, bởi vì chúng ta sử dụng `sklearn.cluster.AgglomerativeClustering` nên chúng ta cần truyền vào một ma trận _khoảng cách_ Do đó, trước tiên ta cần chọn một độ đo tương đồng và sau đó chuyển đổi nó về một khoảng cách. Bây giờ, chúng ta sẽ thực hiện nó thông qua độ đo SimRank mà được định nghĩa như sau: _hai đối tượng được xem là giống nhau (gần nhau) nếu chúng được tham chiếu bởi những đối tượng giống nhau._ Bởi vì SimRank có giá trị nằm trong khoảng [0, 1], nên ta sẽ định nghĩa một khoảng cách như sau:\n",
        "$$\\text{Distance}= 1 - \\text{SimRank}$$\n",
        "\n",
        "Bây giờ bạn hoàn thành một hàm `simrankDistance` mà nhận đầu vào là một đồ thị và trả về một ma trận khoảng cách dựa trên SimRank. Sử dụng `nx.simrank_similarity` để tính giá trị SimRank và sau đó chuyển đổi về mảng numpy. Ma trận khoảng cách nên đối xứng _một cách tuyệt đối_."
      ]
    },
    {
      "cell_type": "code",
      "execution_count": null,
      "id": "b80a87e5-34c3-4c72-9b51-543245b5177d",
      "metadata": {
        "deletable": false,
        "nbgrader": {
          "cell_type": "code",
          "checksum": "f3ef34193ef8efe620f4589e39af527e",
          "grade": false,
          "grade_id": "cell-659628cbfda4833a",
          "locked": false,
          "schema_version": 3,
          "solution": true,
          "task": false
        },
        "id": "b80a87e5-34c3-4c72-9b51-543245b5177d"
      },
      "outputs": [],
      "source": [
        "def simrankDistance(G: nx.Graph) -> np.ndarray:\n",
        "    # YOUR CODE HERE\n",
        "    raise NotImplementedError()"
      ]
    },
    {
      "cell_type": "code",
      "execution_count": null,
      "id": "397e924f-730c-439e-bce7-b116c9693968",
      "metadata": {
        "deletable": false,
        "editable": false,
        "nbgrader": {
          "cell_type": "code",
          "checksum": "ace1f48479d8c0a42e1e96edcaae569a",
          "grade": true,
          "grade_id": "cell-ea56a10d2e68754d",
          "locked": true,
          "points": 0.5,
          "schema_version": 3,
          "solution": false,
          "task": false
        },
        "id": "397e924f-730c-439e-bce7-b116c9693968"
      },
      "outputs": [],
      "source": [
        "# Test\n",
        "distance = simrankDistance(G)\n",
        "assert distance.shape == (77, 77)\n",
        "assert np.diagonal(distance).sum() == 0\n",
        "assert np.allclose(distance, distance.T, rtol=0, atol=0)\n",
        "assert distance[52, 68] <= distance[1, 19]\n",
        "assert distance[45, 29] <= distance[38, 46]"
      ]
    },
    {
      "cell_type": "markdown",
      "id": "643e4fe7-8ee0-42c6-96a9-4ec063bb9839",
      "metadata": {
        "id": "643e4fe7-8ee0-42c6-96a9-4ec063bb9839"
      },
      "source": [
        "Sau đó, ta thực hiện gom cụm các đỉnh bằng cách sử dụng `scipy.cluster.hierarchy.linkage`. Method này nhận đầu vào là các khoảng cách và trả về một mảng numpy array là ma trận `Z` trong đó mọi dòng thứ $i$ bao gồm:\n",
        "* `Z[i, 0]` và `Z[i, 1]` là chỉ số của các cụm được kết hợp.\n",
        "* `Z[i, 2]` là khoảng cách giữ các cụm được kết hợp.\n",
        "* `Z[i, 3]` là số lượng quan trắc trong các cụm được kết hợp.\n",
        "\n",
        "\n",
        "Cụm có chỉ số `n+i` được mô tả ở hàng thứ $i$ của ma trận `Z`. Các cụm có chỉ số nhỏ hơn `n+1` là các đỉnh khởi tạo. Phương thức `scipy.cluster.hierarchy.dendrogram` sử dụng ma trận `Z` để vẽ sơ đồ dendrogram. Giờ ta sẽ xem xét dendrogram của đồ thị Les Miserables."
      ]
    },
    {
      "cell_type": "code",
      "execution_count": null,
      "id": "92d6fbab-8be6-44e3-8632-8b2987f7af56",
      "metadata": {
        "id": "92d6fbab-8be6-44e3-8632-8b2987f7af56"
      },
      "outputs": [],
      "source": [
        "plt.figure(figsize=(16, 6))\n",
        "linked = linkage(squareform(distance), method='complete')\n",
        "dendrogram(\n",
        "    linked,\n",
        "    labels=list(G.nodes),\n",
        "    leaf_font_size=12\n",
        ")\n",
        "plt.axhline(y=0.89, color='tab:red', linestyle='--', linewidth=1)\n",
        "plt.xlabel('Node')\n",
        "plt.ylabel('Distance')\n",
        "plt.title('Dendrogram')\n",
        "plt.show()"
      ]
    },
    {
      "cell_type": "markdown",
      "id": "cc52ab78-5e5a-4d83-855e-64e40dd697fa",
      "metadata": {
        "id": "cc52ab78-5e5a-4d83-855e-64e40dd697fa"
      },
      "source": [
        "Dựa trên hình trực quan, chúng ta cần chọn một đường ngang mà cho ta sự phân hoạch của đồ thị. Có hai cách tiếp cận: chọn số lượng cụm và chọn khoảng cách tối đa giữa các cụm.\n",
        "\n",
        "Ví dụ: nếu chúng ta chọn một đường ngang có khoảng cách tối đa 0,89 (đường màu đỏ trên biểu đồ) thì số cụm sẽ là 4.\n",
        "\n",
        "Bây giờ, bạn hoàn thành hàm `agglomerativeClustering` mà nhận vào một ma trận khoảng cách, cực đại khoảng cách giữa các cụm và trả về một mảng numpy array chứa các nhãn của các cụm. Bạn lưu ý sử dụng  `sklearn.cluster.AgglomerativeClustering` với complete linkage."
      ]
    },
    {
      "cell_type": "code",
      "execution_count": null,
      "id": "7a948aa2-4b9d-44b7-a438-7274ebb61358",
      "metadata": {
        "deletable": false,
        "nbgrader": {
          "cell_type": "code",
          "checksum": "f51446f7c7931f204b40545dfd6775e2",
          "grade": false,
          "grade_id": "cell-796ecff65aef1384",
          "locked": false,
          "schema_version": 3,
          "solution": true,
          "task": false
        },
        "id": "7a948aa2-4b9d-44b7-a438-7274ebb61358"
      },
      "outputs": [],
      "source": [
        "def agglomerativeClustering(distance: np.ndarray, max_distance: float) -> np.ndarray:\n",
        "    # YOUR CODE HERE\n",
        "    raise NotImplementedError()"
      ]
    },
    {
      "cell_type": "code",
      "execution_count": null,
      "id": "ccb036ba-b294-4270-81e2-4bbf430511a0",
      "metadata": {
        "deletable": false,
        "editable": false,
        "nbgrader": {
          "cell_type": "code",
          "checksum": "1c582ee409829c6dbd8e5138fb7631ea",
          "grade": true,
          "grade_id": "cell-e437ea923997166b",
          "locked": true,
          "points": 0.5,
          "schema_version": 3,
          "solution": false,
          "task": false
        },
        "id": "ccb036ba-b294-4270-81e2-4bbf430511a0"
      },
      "outputs": [],
      "source": [
        "# Test\n",
        "assert len(set(agglomerativeClustering(distance, 0.8))) == 17\n",
        "assert len(set(agglomerativeClustering(distance, 0.89))) == 4"
      ]
    },
    {
      "cell_type": "markdown",
      "id": "9319189a-5e2f-4339-bd86-dfb480db9bcd",
      "metadata": {
        "id": "9319189a-5e2f-4339-bd86-dfb480db9bcd"
      },
      "source": [
        "Xem xét đồ thị với khoảng cách cực đại 0.87."
      ]
    },
    {
      "cell_type": "code",
      "execution_count": null,
      "id": "768435c6-c81c-4921-90ef-202be40dbb37",
      "metadata": {
        "id": "768435c6-c81c-4921-90ef-202be40dbb37"
      },
      "outputs": [],
      "source": [
        "labels = agglomerativeClustering(distance, 0.87)\n",
        "plt.figure(figsize=(8, 8))\n",
        "nx.draw_networkx_nodes(\n",
        "    G,\n",
        "    pos,\n",
        "    cmap=plt.cm.rainbow,\n",
        "    node_color=labels,\n",
        "    node_size=100,\n",
        "    linewidths=1,\n",
        "    edgecolors='black'\n",
        ")\n",
        "nx.draw_networkx_edges(\n",
        "    G,\n",
        "    pos,\n",
        "    alpha=0.2,\n",
        "    edge_color='black'\n",
        ")\n",
        "plt.axis('off')\n",
        "plt.legend(*nodes.legend_elements(), title=\"Clusters\", bbox_to_anchor=(1.05, 1), loc='upper left')\n",
        "plt.show()"
      ]
    },
    {
      "cell_type": "markdown",
      "id": "75d5c56f-1186-49df-8512-773283ef2c57",
      "metadata": {
        "id": "75d5c56f-1186-49df-8512-773283ef2c57"
      },
      "source": [
        "Bạn có nhận xét gì không?"
      ]
    },
    {
      "cell_type": "markdown",
      "id": "1aa423c5-3a2d-4ea2-b84e-f9617a16c3dd",
      "metadata": {
        "id": "1aa423c5-3a2d-4ea2-b84e-f9617a16c3dd"
      },
      "source": [
        "YOUR ANSWER HERE"
      ]
    },
    {
      "cell_type": "markdown",
      "id": "dc9ff5f5-118b-4697-92d4-59e328af05cc",
      "metadata": {
        "id": "dc9ff5f5-118b-4697-92d4-59e328af05cc"
      },
      "source": [
        "## Task 9. Phương pháp Louvain\n",
        "\n",
        "[Phương pháp Louvain](https://en.wikipedia.org/wiki/Louvain_method) là một trong những công trình nổi tiếng trong nghiên cứu phát hiện cộng đồng. Nó là một phương pháp đơn giản để rút trích cấu trúc cộng đồng của các mạng lưới lớn. Phương pháp này là một phương pháp thuộc nhóm sử dụng heuristic dựa trên tối ưu mô-đun hóa (modularity optimization).\n",
        "\n",
        "Trong phần này chúng ta sẽ xem xét phương pháp này trên một đồ thị phân dạng mà có thể biểu diễn một số cấu trúc sinh học."
      ]
    },
    {
      "cell_type": "code",
      "execution_count": null,
      "id": "449993f0-1d35-414a-9c3c-be1c26a7e11c",
      "metadata": {
        "id": "449993f0-1d35-414a-9c3c-be1c26a7e11c"
      },
      "outputs": [],
      "source": [
        "def fractalGraph(n: int, k: int, G: nx.Graph) -> nx.Graph:\n",
        "    if k == 0:\n",
        "        return G\n",
        "    for node in list(G.nodes):\n",
        "        newG = nx.complete_graph(n)\n",
        "        newG = nx.relabel_nodes(\n",
        "            newG, {node: max(G.nodes)+node+1 for node in newG.nodes})\n",
        "        G = nx.union(G, newG)\n",
        "        for edge in G.edges(node):\n",
        "            G.add_edge(list(G.nodes)[-1], edge[1])\n",
        "        G.remove_node(node)\n",
        "    return fractalGraph(n, k-1, G)"
      ]
    },
    {
      "cell_type": "code",
      "execution_count": null,
      "id": "9028cb10-60cc-4b17-bd70-d380b7a4e895",
      "metadata": {
        "id": "9028cb10-60cc-4b17-bd70-d380b7a4e895"
      },
      "outputs": [],
      "source": [
        "n = 4\n",
        "fractalG = fractalGraph(n, 3, nx.complete_graph(n))\n",
        "\n",
        "plt.figure(figsize=(8, 8))\n",
        "frac_pos = nx.kamada_kawai_layout(fractalG)\n",
        "nx.draw_networkx_nodes(fractalG, frac_pos, node_color='white',\n",
        "                       edgecolors='black', node_size=100)\n",
        "nx.draw_networkx_edges(fractalG, frac_pos, alpha=0.3)\n",
        "plt.axis('off')\n",
        "plt.show()"
      ]
    },
    {
      "cell_type": "markdown",
      "id": "ed9d2022-886c-4dfd-9117-69d30facaa1a",
      "metadata": {
        "id": "ed9d2022-886c-4dfd-9117-69d30facaa1a"
      },
      "source": [
        "Phương pháp Louvain là một thuật toán tham lam dựa trên độ lợi modularity. Ta có thể mô tả nó thành từng pha như sau:\n",
        "- Pha 1:\n",
        "    - Bước 1: Đặt mỗi đỉnh trong cộng đồng của chính nó.\n",
        "    - Bước 2: Với mỗi đỉnh, tính toán độ lợi modularity bằng cách loại bỏ nó từ cộng đồng của nó và thay thế nó trong cộng đồng của láng giềng.\n",
        "    - Bước 3: Đặt đỉnh vào trong cộng đồng với độ lợi modularity cao nhất.\n",
        "    - Bước 4: Lặp lại bước 2, 3 cho đến khi độ lợi modularity không tăng được nữa.\n",
        "\n",
        "- Pha 2:\n",
        "    - Bước 1: Gộp các cộng đồng thành \"siêu đỉnh\"\n",
        "    - Bước 2: Chuyển các cạnh bên trong cộng đồng thành khuyên, cạnh giữa các cộng đồng thành các cạnh song song.\n",
        "\n",
        "Lặp lại Pha 1, 2 cho đến khi độ lợi modularity không tăng được nữa."
      ]
    },
    {
      "cell_type": "code",
      "execution_count": null,
      "id": "abe48b78-079a-45ab-9ed9-4a091c351128",
      "metadata": {
        "id": "abe48b78-079a-45ab-9ed9-4a091c351128"
      },
      "outputs": [],
      "source": [
        "def louvainMethod(G: nx.Graph) -> Tuple[np.ndarray, np.ndarray, nx.Graph]:\n",
        "\n",
        "    # Pha 1\n",
        "    communities = unfoldedCommunities(G)\n",
        "    labels = []\n",
        "    for node in G.nodes:\n",
        "        for i, c in enumerate(communities):\n",
        "            if node in c:\n",
        "                labels.append(i)\n",
        "\n",
        "    # Pha 2\n",
        "    nextG = nx.empty_graph(len(communities), nx.MultiGraph)\n",
        "    for e in G.edges:\n",
        "        for i in range(len(communities)):\n",
        "            for j in range(len(communities)):\n",
        "                if e[0] in communities[i] and e[1] in communities[j]:\n",
        "                    nextG.add_edge(i, j)\n",
        "\n",
        "    # Shuffle colors for better visualization\n",
        "    palette = np.unique(labels)\n",
        "    key = np.random.permutation(palette)\n",
        "    labels = key[np.digitize(labels, palette, right=True)]\n",
        "\n",
        "    return communities, labels, nextG"
      ]
    },
    {
      "cell_type": "markdown",
      "id": "5277c5ca-9082-4ee3-9683-d01c89d58659",
      "metadata": {
        "id": "5277c5ca-9082-4ee3-9683-d01c89d58659"
      },
      "source": [
        "Bây giờ, bạn hoàn thành hàm `unfoldedCommunities` mà nhận đầu vào là một đồ thị, thực hiện Pha 1 và trả về mảng numpy array của các cộng đồng của đỉnh.\n",
        "\n",
        "Ví dụ: nếu ta có hai cộng đồng, cộng đồng 1 - [1,2] và cộng đồng 2 - [3,4,5] thì đầu ra có dạng là [[1,2],[3,4,5]]."
      ]
    },
    {
      "cell_type": "code",
      "execution_count": null,
      "id": "49e382af-5e53-43ec-bbde-3073b6220b65",
      "metadata": {
        "deletable": false,
        "nbgrader": {
          "cell_type": "code",
          "checksum": "ca77290a6397e64aa49cc92d0056425b",
          "grade": false,
          "grade_id": "cell-d4569cf60deab401",
          "locked": false,
          "schema_version": 3,
          "solution": true,
          "task": false
        },
        "id": "49e382af-5e53-43ec-bbde-3073b6220b65"
      },
      "outputs": [],
      "source": [
        "def unfoldedCommunities(G):\n",
        "    communities = [[n] for n in G.nodes]  # initial partition\n",
        "    prev_max_modularity = -np.inf\n",
        "    max_modularity = nx.algorithms.community.modularity(G, communities)\n",
        "    while max_modularity > prev_max_modularity:\n",
        "        prev_max_modularity = max_modularity\n",
        "        for node in np.random.permutation(G.nodes):\n",
        "            '''\n",
        "            1) Remove the node from the initial community.\n",
        "            2) Iterate all neighboring communities and move the node\n",
        "               into a community with the maximum modularity gain. If\n",
        "               there is no modularity gain, return the node into the\n",
        "               initial community.\n",
        "            '''\n",
        "            # YOUR CODE HERE\n",
        "            raise NotImplementedError()\n",
        "    return [c for c in communities if len(c)]"
      ]
    },
    {
      "cell_type": "code",
      "execution_count": null,
      "id": "1da045b4-5a9b-4fe0-8c58-81226bc16c25",
      "metadata": {
        "deletable": false,
        "editable": false,
        "nbgrader": {
          "cell_type": "code",
          "checksum": "d216ee854926af9dfdba7adb1b50ee80",
          "grade": true,
          "grade_id": "cell-50a420650cadc1ce",
          "locked": true,
          "points": 1,
          "schema_version": 3,
          "solution": false,
          "task": false
        },
        "id": "1da045b4-5a9b-4fe0-8c58-81226bc16c25"
      },
      "outputs": [],
      "source": [
        "# Test\n",
        "n = 4\n",
        "fractalG = fractalGraph(n, 2, nx.complete_graph(n))\n",
        "iterG = fractalG.copy()\n",
        "communities, labels, nextG = louvainMethod(iterG)\n",
        "\n",
        "assert len(set(labels)) == 16\n",
        "assert len(set(labels[52:56])) == 1\n",
        "assert len(set(labels[52:57])) == 2\n",
        "assert nextG.number_of_nodes() == 16\n",
        "assert round(np.linalg.det(nx.to_numpy_array(nextG)) * 1e-10, 4) == 136.5257"
      ]
    },
    {
      "cell_type": "markdown",
      "id": "05cf9ba7-cd6c-4db8-a094-dc6a3f49758a",
      "metadata": {
        "id": "05cf9ba7-cd6c-4db8-a094-dc6a3f49758a"
      },
      "source": [
        "Chúng ta hãy xem các lần lặp lại đang diễn ra như thế nào. Đối với mỗi lần lặp, chúng tôi vẽ một đồ thị trong đó màu nút tương ứng với cộng đồng chưa được mở."
      ]
    },
    {
      "cell_type": "code",
      "execution_count": null,
      "id": "ced04dd5-6941-4323-b2e1-64aa7eab55ea",
      "metadata": {
        "id": "ced04dd5-6941-4323-b2e1-64aa7eab55ea"
      },
      "outputs": [],
      "source": [
        "n = 4\n",
        "fractalG = fractalGraph(n, 3, nx.complete_graph(n))\n",
        "iterG = fractalG\n",
        "\n",
        "plt.figure(figsize=(7, 21))\n",
        "for i in range(3):\n",
        "    plt.subplot(3, 1, i+1)\n",
        "    communities, labels, nextG = louvainMethod(iterG)\n",
        "    iter_pos = nx.kamada_kawai_layout(iterG)\n",
        "    nodes = nx.draw_networkx_nodes(\n",
        "        iterG,\n",
        "        iter_pos,\n",
        "        cmap=plt.cm.rainbow,\n",
        "        node_color=labels,\n",
        "        edgecolors='black',\n",
        "        node_size=100)\n",
        "    nx.draw_networkx_edges(\n",
        "        iterG,\n",
        "        iter_pos,\n",
        "        node_size=100)\n",
        "    plt.axis('off')\n",
        "    plt.title(\n",
        "        '{} nodes, {} communities \\nModularity {:.2f}'.format(\n",
        "            len(iterG), len(communities), nx.community.modularity(iterG, communities)))\n",
        "    iterG = nextG\n",
        "\n",
        "plt.tight_layout()\n",
        "plt.show()"
      ]
    },
    {
      "cell_type": "markdown",
      "id": "8d78c490-00a5-434b-8614-75306e01bf59",
      "metadata": {
        "id": "8d78c490-00a5-434b-8614-75306e01bf59"
      },
      "source": [
        "Bạn có nhận xét gì?"
      ]
    },
    {
      "cell_type": "markdown",
      "id": "8b644506-8f93-4fe6-96fc-752074cd61eb",
      "metadata": {
        "id": "8b644506-8f93-4fe6-96fc-752074cd61eb"
      },
      "source": [
        "YOUR ANSWER HERE"
      ]
    },
    {
      "cell_type": "markdown",
      "id": "2ed487dc-22d8-4dac-92c5-5d898f0a8429",
      "metadata": {
        "id": "2ed487dc-22d8-4dac-92c5-5d898f0a8429"
      },
      "source": [
        "## Task 10. Phân hoạch \"bản ngã\" (Ego-Splitting)\n",
        "\n",
        "Phân hoạch \"bản ngã\" hay Ego-Splitting là một framework cho việc phát hiện các cộng đồng trong mạng lưới phức. Nó tận dụng các cấu trúc cục bộ được biết là \"ego-nets\", tức là đồ thị con suy dẫn bởi láng giềng của nó, để phát hiện các cụm chồng chéo lên nhau. Ego-Splitting là một framework có tính mở rộng và linh hoạt cao, với những đảm bảo về mặt lý thuyết có thể chứng minh được, giúp giảm vấn đề phân cụm chồng chéo phức tạp thành vấn đề không chồng chéo (phân vùng) đơn giản hơn và dễ giải quyết hơn."
      ]
    },
    {
      "cell_type": "markdown",
      "id": "c39daeae-ac4a-4711-bbe5-ae922ef3b160",
      "metadata": {
        "id": "c39daeae-ac4a-4711-bbe5-ae922ef3b160"
      },
      "source": [
        "Xem xét một đồ thị như sau:"
      ]
    },
    {
      "cell_type": "code",
      "execution_count": null,
      "id": "c7aded51-6841-4019-bce7-db97d4ccd05c",
      "metadata": {
        "id": "c7aded51-6841-4019-bce7-db97d4ccd05c"
      },
      "outputs": [],
      "source": [
        "adjlist = [\n",
        "    'a b c e h g i',\n",
        "    'f b c e h g i',\n",
        "    'b e c',\n",
        "    'g i h',\n",
        "    'e c d',\n",
        "    'c d',\n",
        "    'i h j k',\n",
        "    'h j',\n",
        "    'j d k',\n",
        "    'd k'\n",
        "]\n",
        "\n",
        "G = nx.parse_adjlist(adjlist, delimiter=' ')\n",
        "pos = nx.kamada_kawai_layout(G)\n",
        "\n",
        "plt.figure(figsize=(5, 5))\n",
        "nx.draw_networkx(\n",
        "    G,\n",
        "    pos=pos,\n",
        "    node_size=400,\n",
        "    node_color='lightgray',\n",
        "    edge_color='black',\n",
        "    with_labels=True,\n",
        "    font_size=10\n",
        ")\n",
        "plt.axis('off')\n",
        "plt.show()"
      ]
    },
    {
      "cell_type": "markdown",
      "id": "79f00c6e-a71c-4ac9-832c-246f06b3be8d",
      "metadata": {
        "id": "79f00c6e-a71c-4ac9-832c-246f06b3be8d"
      },
      "source": [
        "Thuật toán ego-splitting xử lý một đồ thị $G = (V, E)$ và cho ra kết quả là một tập hợp các cluster $S$ như sau:\n",
        "- Bước 1: Với mỗi đỉnh $u$, ta xử dụng thuật toán gom cụm cục bộ để phân hoạch ego-net của $u$.\n",
        "- Bước 2: Tạo ra một tập personas $V'$. Mỗi đỉnh $u$ trong $V$ sẽ tương ứng với personas $t_u$ trong $V'$.\n",
        "- Bước 3: Thêm cạnh giữa các personas.\n",
        "- Bước 4: Áp dụng thuật toán gom cụm toàn cục."
      ]
    },
    {
      "cell_type": "code",
      "execution_count": null,
      "id": "969139d8-cd53-4743-b157-eef26b7d7d6b",
      "metadata": {
        "id": "969139d8-cd53-4743-b157-eef26b7d7d6b"
      },
      "outputs": [],
      "source": [
        "def egoSplitting(graph):\n",
        "    ego_nets = generateEgoNets(graph)\n",
        "    persona_graph = generatePersonaGraph(ego_nets)\n",
        "    return personaClustering(personaG)"
      ]
    },
    {
      "cell_type": "markdown",
      "id": "85548eb0-76bf-4bb4-b4e8-1858a5a90173",
      "metadata": {
        "id": "85548eb0-76bf-4bb4-b4e8-1858a5a90173"
      },
      "source": [
        "Để hoàn thành, bạn cần hoàn thành một hàm `generateEgoNets` mà nhận đầu vào là một đồ thị và trả về một từ điển trong đó các khóa là các đỉnh và giá trị của chúng là ego-nets:\n",
        "\n",
        "```\n",
        "{'a': ego-net of the node a, 'b': ego-net of the node b, ...}\n",
        "```\n",
        "\n",
        "_Gợi ý: Bạn cần sử dụng `nx.ego_graph`_\n"
      ]
    },
    {
      "cell_type": "code",
      "execution_count": null,
      "id": "b46bf65a-27c6-47e5-a440-708f996ce175",
      "metadata": {
        "deletable": false,
        "nbgrader": {
          "cell_type": "code",
          "checksum": "0667b381307962255ecffa0bc9b9a00a",
          "grade": false,
          "grade_id": "cell-62d38a1f99057413",
          "locked": false,
          "schema_version": 3,
          "solution": true,
          "task": false
        },
        "id": "b46bf65a-27c6-47e5-a440-708f996ce175"
      },
      "outputs": [],
      "source": [
        "def generateEgoNets(graph: nx.Graph) -> Dict:\n",
        "    # YOUR CODE HERE\n",
        "    raise NotImplementedError()"
      ]
    },
    {
      "cell_type": "code",
      "execution_count": null,
      "id": "963ebae2-f8f9-417a-85e9-3e121f662bfa",
      "metadata": {
        "deletable": false,
        "editable": false,
        "nbgrader": {
          "cell_type": "code",
          "checksum": "70b6a9e726f404f9de31c2e177834f78",
          "grade": true,
          "grade_id": "cell-80c79ccc2a3c8b6c",
          "locked": true,
          "points": 1.5,
          "schema_version": 3,
          "solution": false,
          "task": false
        },
        "id": "963ebae2-f8f9-417a-85e9-3e121f662bfa"
      },
      "outputs": [],
      "source": [
        "# Test\n",
        "ego_nets = generateEgoNets(G)\n",
        "assert set(ego_nets.keys()) == {'a', 'b', 'c',\n",
        "                                'd', 'e', 'f', 'g', 'h', 'i', 'j', 'k'}\n",
        "assert set(ego_nets['d'].nodes) == {'c', 'e', 'j', 'k'}\n",
        "assert set(ego_nets['f'].nodes) == {'b', 'c', 'e', 'g', 'h', 'i'}"
      ]
    },
    {
      "cell_type": "code",
      "execution_count": null,
      "id": "0d4a2e54-672b-4237-a7d0-0e65f46cefca",
      "metadata": {
        "id": "0d4a2e54-672b-4237-a7d0-0e65f46cefca"
      },
      "outputs": [],
      "source": [
        "nx.draw_networkx(ego_nets['f'], pos=nx.kamada_kawai_layout(G),\n",
        "                 node_color='lightgray', node_size=400)\n",
        "plt.title('Ego-net of the node f')\n",
        "plt.axis('off')\n",
        "plt.show()"
      ]
    },
    {
      "cell_type": "markdown",
      "id": "59a1e168-0322-4ec3-8a73-de5fe884a348",
      "metadata": {
        "id": "59a1e168-0322-4ec3-8a73-de5fe884a348"
      },
      "source": [
        "Tiếp theo, chúng ta cần chia tách từng ego-net bằng bất kỳ phương pháp phân cụm nào. Giả sử đó là phương pháp phát hiện thành phần kết nối đơn giản."
      ]
    },
    {
      "cell_type": "code",
      "execution_count": null,
      "id": "f0c99b86-5e13-4ec3-bed5-3feeb09c5d13",
      "metadata": {
        "id": "f0c99b86-5e13-4ec3-bed5-3feeb09c5d13"
      },
      "outputs": [],
      "source": [
        "def egoClustering(graph):\n",
        "    return [cc for cc in nx.connected_components(graph)]"
      ]
    },
    {
      "cell_type": "markdown",
      "id": "f438ab50-ec7c-40e0-b577-05f2d13c5b76",
      "metadata": {
        "id": "f438ab50-ec7c-40e0-b577-05f2d13c5b76"
      },
      "source": [
        "Tiếp, bạn hoàn thành hàm `generatePersonaGraph` mà nhận đầu vào là một từ điển ego-net và trả về một đồ thị persona:\n",
        "- Bước 1: Áp dụng gom cụm ego cho mỗi ego-net\n",
        "- Bước 2: Thêm một bản sao của ego-node vào mỗi cluster và liên kết nó với từng thành viên. Nếu có hơn một cluster thì bản sao được đặt tên là node name + cluster index. Lấy ví dụ, nếu ego-net `a` cho các cụm `[b, c]` và `[d]` thì ta thêm cạnh `[a0, b]`, `[a0, c]`, và `[a1, d]`. Ngược lại, tên bản sao sẽ được đặt là tên của đỉnh.\n",
        "- Bước 3: Hội tất cả các ego-nets vào đồ thị persona. Loại bỏ tất cả đỉnh mà có bản sao. Lấy vị, nếu đồ thị có các đỉnh `a`, `a0`, `a1`, thì ta sẽ loại bỏ `a`."
      ]
    },
    {
      "cell_type": "code",
      "execution_count": null,
      "id": "e49f77f8-8b18-40bb-98f3-7be97c170690",
      "metadata": {
        "deletable": false,
        "nbgrader": {
          "cell_type": "code",
          "checksum": "d0ec67d90a3b25b115effc5570a02fec",
          "grade": false,
          "grade_id": "cell-df75d6683816ed98",
          "locked": false,
          "schema_version": 3,
          "solution": true,
          "task": false
        },
        "id": "e49f77f8-8b18-40bb-98f3-7be97c170690"
      },
      "outputs": [],
      "source": [
        "def generatePersonaGraph(ego_nets: Dict) -> nx.Graph:\n",
        "    # YOUR CODE HERE\n",
        "    raise NotImplementedError()"
      ]
    },
    {
      "cell_type": "code",
      "execution_count": null,
      "id": "33acef34-e7ec-43e6-bd18-e2acdc5ff293",
      "metadata": {
        "deletable": false,
        "editable": false,
        "nbgrader": {
          "cell_type": "code",
          "checksum": "dc5120d53acd8da47e5d87f98cf0810c",
          "grade": true,
          "grade_id": "cell-5a97ee2f9d6c2d99",
          "locked": true,
          "points": 1.5,
          "schema_version": 3,
          "solution": false,
          "task": false
        },
        "id": "33acef34-e7ec-43e6-bd18-e2acdc5ff293"
      },
      "outputs": [],
      "source": [
        "# Test\n",
        "ego_nets = generateEgoNets(G)\n",
        "personaG = generatePersonaGraph(ego_nets)\n",
        "assert set(personaG.nodes) == {'a0', 'a1', 'b', 'c',\n",
        "                               'd0', 'd1', 'e', 'f0', 'f1', 'g', 'h', 'i', 'j', 'k'}\n",
        "assert {i[0] for i in personaG.neighbors('k')} == {'d', 'i', 'j'}\n",
        "assert {i[0] for i in personaG.neighbors('g')} == {'a', 'f', 'h', 'i'}"
      ]
    },
    {
      "cell_type": "markdown",
      "id": "6f7ee3b9-069f-4375-9fff-c687a746c318",
      "metadata": {
        "id": "6f7ee3b9-069f-4375-9fff-c687a746c318"
      },
      "source": [
        "Cuối cùng, ta cần áp dụng bất kỳ thuật toán gom cụm nào cho đồ thị persona. Khuyến khích xài những thuật toán đơn giản :). Và ta cũng cần loại bỏ các chỉ số cụm từ tên đỉnh nữa."
      ]
    },
    {
      "cell_type": "code",
      "execution_count": null,
      "id": "27888087-24ed-4bb3-b92d-11f6462887f5",
      "metadata": {
        "id": "27888087-24ed-4bb3-b92d-11f6462887f5"
      },
      "outputs": [],
      "source": [
        "def personaClustering(graph: nx.Graph) -> List:\n",
        "    communities = [cc for cc in nx.connected_components(graph)]\n",
        "    for c in communities:\n",
        "        for node in c:\n",
        "            c.remove(node)\n",
        "            c.add(node[0])\n",
        "    return communities"
      ]
    },
    {
      "cell_type": "code",
      "execution_count": null,
      "id": "60a8638b-6b8d-47dc-bdf8-49001b4c97a1",
      "metadata": {
        "id": "60a8638b-6b8d-47dc-bdf8-49001b4c97a1"
      },
      "outputs": [],
      "source": [
        "plt.figure(figsize=(15, 5))\n",
        "pos = nx.kamada_kawai_layout(G)\n",
        "c_colors = ['tab:orange', 'tab:blue', 'tab:green']\n",
        "for i, c in enumerate(egoSplitting(G)):\n",
        "    plt.subplot(1, 3, i+1)\n",
        "    color = []\n",
        "    for node in G.nodes:\n",
        "        color.append(c_colors[i] if node in c else 'white')\n",
        "    nx.draw_networkx(G, pos=pos, node_color=color,\n",
        "                     edgecolors='black', node_size=400)\n",
        "    plt.axis('off')\n",
        "    plt.title('Colored nodes are in the community {}'.format(i+1))"
      ]
    },
    {
      "cell_type": "markdown",
      "id": "d07a60d9-1cd5-4a07-a271-32098d6b8a01",
      "metadata": {
        "id": "d07a60d9-1cd5-4a07-a271-32098d6b8a01"
      },
      "source": [
        "## Task 11. Lan truyền nhãn (Label propogation)\n",
        "\n",
        "\n",
        "Phương pháp lan truyền nhãn dựa trên ý tương đơn giản như sau: mỗi đỉnh được khởi tạo với một nhãn duy nhất và tại mỗi bước thì mỗi nút sẽ nhận được nhãn mà hầu hết các láng giềng của nó đang có.\n",
        "\n",
        "Để hoàn thành phần này, bạn cần code hàm `updateLabels` mà nhận đầu vào là một đồ thị, mảng numpy array theo thứ tự `graph.nodes` và trả về các nhãn mới. Nhãn của đỉnh là một nhãn ngẫu nhiên xuất hiện với tần số cao giữa các láng giềng của nó ở bước trước đó. Thứ tự trong `n` đỉnh của mạng được cập nhật tại mỗi bước lặp thì được chọn ngẫu nhiên."
      ]
    },
    {
      "cell_type": "code",
      "execution_count": null,
      "id": "7b0f2adb-bdce-4c92-a4e8-be280d85c673",
      "metadata": {
        "deletable": false,
        "nbgrader": {
          "cell_type": "code",
          "checksum": "07c173fffdf14eab4516231eae6f0cd9",
          "grade": false,
          "grade_id": "cell-94b6117f87211583",
          "locked": false,
          "schema_version": 3,
          "solution": true,
          "task": false
        },
        "id": "7b0f2adb-bdce-4c92-a4e8-be280d85c673"
      },
      "outputs": [],
      "source": [
        "def updateLabels(graph, labels):\n",
        "    # YOUR CODE HERE\n",
        "    raise NotImplementedError()"
      ]
    },
    {
      "cell_type": "code",
      "execution_count": null,
      "id": "c9ff7a51-e72e-48cf-ad0d-387b58127c31",
      "metadata": {
        "deletable": false,
        "editable": false,
        "nbgrader": {
          "cell_type": "code",
          "checksum": "6fa9851b853d2ccef19da43f6db662bc",
          "grade": true,
          "grade_id": "cell-a3076859c08c99e2",
          "locked": true,
          "points": 1.5,
          "schema_version": 3,
          "solution": false,
          "task": false
        },
        "id": "c9ff7a51-e72e-48cf-ad0d-387b58127c31"
      },
      "outputs": [],
      "source": [
        "# Test\n",
        "G = nx.karate_club_graph()\n",
        "labels = np.array(list(G.nodes)) # initial partition\n",
        "new_labels = updateLabels(G, labels)\n",
        "assert new_labels.shape == (34, )\n",
        "assert len(set(new_labels)) < len(set(labels))\n",
        "G = nx.star_graph(4)\n",
        "labels = np.array(list(G.nodes)) # initial partition\n",
        "for _ in range(5):\n",
        "    labels = updateLabels(G, labels)\n",
        "new_labels = updateLabels(G, labels)\n",
        "assert len(set(new_labels - labels)) == 2\n",
        "assert np.sum(list(set(new_labels - labels))) == 0"
      ]
    },
    {
      "cell_type": "code",
      "execution_count": null,
      "id": "2aebaa96-7e75-4900-a49c-f5245a650669",
      "metadata": {
        "id": "2aebaa96-7e75-4900-a49c-f5245a650669"
      },
      "outputs": [],
      "source": [
        "def plotPropogation(G, update_method, n=50):\n",
        "    pos=nx.kamada_kawai_layout(G)\n",
        "    labels = np.array(list(G.nodes))\n",
        "    for i in range(n):\n",
        "        clear_output(wait=True)\n",
        "        labels = update_method(G, labels)\n",
        "        plt.figure(figsize=(6, 6))\n",
        "        nx.draw_networkx_nodes(G, pos=pos, node_color=labels, cmap=plt.cm.tab10_r)\n",
        "        nx.draw_networkx_edges(G, pos=pos, alpha=0.2)\n",
        "        nx.draw_networkx_labels(G, pos=pos)\n",
        "        plt.axis('off')\n",
        "        plt.title('Iteration {}/{}'.format(i+1, n))\n",
        "        plt.show()"
      ]
    },
    {
      "cell_type": "code",
      "execution_count": null,
      "id": "a5d51be7-ad1d-407e-8bc8-f5b89d3a091f",
      "metadata": {
        "id": "a5d51be7-ad1d-407e-8bc8-f5b89d3a091f"
      },
      "outputs": [],
      "source": [
        "plotPropogation(nx.karate_club_graph(), updateLabels)"
      ]
    },
    {
      "cell_type": "markdown",
      "id": "e866218b-4d1e-498f-9470-0c30d016fbe0",
      "metadata": {
        "id": "e866218b-4d1e-498f-9470-0c30d016fbe0"
      },
      "source": [
        "Có một vấn đề ở đây là các đồ thị con trong mạng mà là lưỡng phân hoặc xém lưỡng phân trong cấu trúc lẫn đến hiện tượng dao động nhãn (oscillations labels). Điều này đúng trong một số trường hợp mà các cộng đồng được lấy từ một đồ thị hình sao."
      ]
    },
    {
      "cell_type": "code",
      "execution_count": null,
      "id": "552c6165-c4f5-4e08-8f19-fcab90eca0e0",
      "metadata": {
        "id": "552c6165-c4f5-4e08-8f19-fcab90eca0e0"
      },
      "outputs": [],
      "source": [
        "plotPropogation(nx.star_graph(30), updateLabels, 10)"
      ]
    },
    {
      "cell_type": "markdown",
      "id": "2eef573a-6b4f-4935-b86e-0c61a30f12de",
      "metadata": {
        "id": "2eef573a-6b4f-4935-b86e-0c61a30f12de"
      },
      "source": [
        "Vậy thì phải làm sao đây?\n",
        "\n",
        "Do đó, ta cần một cơ chế cập nhật bất đồng bộ (asynchronous updating) mà trong đó một số láng giềng đã có được cập nhật lại bước lặp hiện tại trong khi một số khác thì không.\n",
        "\n",
        "Để làm được điều này, bạn cần viết một hàm `asyncUpdateLabels` mà tạo ra việc cập nhất bất đồng bộ. Thứ tự trong tất cả `n` đỉnh của mạng được cập nhật tại mỗi lần lặp được chọn một cách ngẫu nhiên."
      ]
    },
    {
      "cell_type": "code",
      "execution_count": null,
      "id": "a8530689-c544-4c25-b0ce-9d218b2803e3",
      "metadata": {
        "deletable": false,
        "nbgrader": {
          "cell_type": "code",
          "checksum": "c17daba94f183b5863cc0ba269b24702",
          "grade": false,
          "grade_id": "cell-1f9d32974406c6b8",
          "locked": false,
          "schema_version": 3,
          "solution": true,
          "task": false
        },
        "id": "a8530689-c544-4c25-b0ce-9d218b2803e3"
      },
      "outputs": [],
      "source": [
        "def asyncUpdateLabels(graph, labels):\n",
        "    # YOUR CODE HERE\n",
        "    raise NotImplementedError()"
      ]
    },
    {
      "cell_type": "code",
      "execution_count": null,
      "id": "0ebb84d7-49db-457d-bc00-2986c97b7aad",
      "metadata": {
        "deletable": false,
        "editable": false,
        "nbgrader": {
          "cell_type": "code",
          "checksum": "f2e01c690bfcd0ca65cedc3df6694c62",
          "grade": true,
          "grade_id": "cell-6e6765eb8943c69f",
          "locked": true,
          "points": 1.5,
          "schema_version": 3,
          "solution": false,
          "task": false
        },
        "id": "0ebb84d7-49db-457d-bc00-2986c97b7aad"
      },
      "outputs": [],
      "source": [
        "G = nx.karate_club_graph()\n",
        "labels = np.array(list(G.nodes))  # initial partition\n",
        "new_labels = asyncUpdateLabels(G, labels)\n",
        "assert new_labels.shape == (34, )\n",
        "assert len(set(new_labels)) < len(set(labels))\n",
        "G = nx.star_graph(4)\n",
        "labels = np.array(list(G.nodes))  # initial partition\n",
        "for _ in range(5):\n",
        "    labels = asyncUpdateLabels(G, labels)\n",
        "new_labels = asyncUpdateLabels(G, labels)\n",
        "assert np.all(new_labels - labels == 0)"
      ]
    },
    {
      "cell_type": "code",
      "execution_count": null,
      "id": "d078a200-1ce8-4e09-a7b9-b3bb1d03402d",
      "metadata": {
        "id": "d078a200-1ce8-4e09-a7b9-b3bb1d03402d"
      },
      "outputs": [],
      "source": [
        "plotPropogation(nx.star_graph(30), asyncUpdateLabels, 10)"
      ]
    },
    {
      "cell_type": "code",
      "execution_count": null,
      "id": "a1c3838c-72d2-455d-afbf-5b6df6a5be76",
      "metadata": {
        "id": "a1c3838c-72d2-455d-afbf-5b6df6a5be76"
      },
      "outputs": [],
      "source": [
        "plotPropogation(nx.karate_club_graph(), asyncUpdateLabels, 30)"
      ]
    }
  ],
  "metadata": {
    "kernelspec": {
      "display_name": "Python 3 (ipykernel)",
      "language": "python",
      "name": "python3"
    },
    "language_info": {
      "codemirror_mode": {
        "name": "ipython",
        "version": 3
      },
      "file_extension": ".py",
      "mimetype": "text/x-python",
      "name": "python",
      "nbconvert_exporter": "python",
      "pygments_lexer": "ipython3",
      "version": "3.10.14"
    },
    "colab": {
      "provenance": [],
      "include_colab_link": true
    }
  },
  "nbformat": 4,
  "nbformat_minor": 5
}