{
  "cells": [
    {
      "cell_type": "markdown",
      "metadata": {
        "id": "view-in-github",
        "colab_type": "text"
      },
      "source": [
        "<a href=\"https://colab.research.google.com/github/ChuLinh02/GraphMining/blob/main/HW01.ipynb\" target=\"_parent\"><img src=\"https://colab.research.google.com/assets/colab-badge.svg\" alt=\"Open In Colab\"/></a>"
      ]
    },
    {
      "cell_type": "markdown",
      "id": "b5b174d9-b298-4beb-ac25-8d17bda37995",
      "metadata": {
        "id": "b5b174d9-b298-4beb-ac25-8d17bda37995"
      },
      "source": [
        "# **CSC17103 - Colab 1 - Luật lũy thừa**\n",
        "\n",
        "Đây là Bài tập 01 trong môn học Khai thác Dữ liệu Đồ thị (Graph Mining) - CSC1703 tại Khoa Công nghệ Thông tin, Trường Đại học Khoa học Tự nhiên, Đại học Quốc gia TP.HCM"
      ]
    },
    {
      "cell_type": "markdown",
      "id": "65ce42cb-2822-4e82-a932-d094a3bb52ec",
      "metadata": {
        "id": "65ce42cb-2822-4e82-a932-d094a3bb52ec"
      },
      "source": [
        "(Cập nhật lần cuối: 27/05/2024)\n",
        "\n",
        "Họ tên: Chu Hải Linh\n",
        "\n",
        "MSSV: 21120496"
      ]
    },
    {
      "cell_type": "markdown",
      "id": "e66c7332-684f-4db1-ac2b-4cd377f7dd42",
      "metadata": {
        "id": "e66c7332-684f-4db1-ac2b-4cd377f7dd42"
      },
      "source": [
        "## **Mục tiêu của bài tập**"
      ]
    },
    {
      "cell_type": "markdown",
      "id": "502e7470-14a8-4f03-9e8c-699df1462e99",
      "metadata": {
        "id": "502e7470-14a8-4f03-9e8c-699df1462e99"
      },
      "source": [
        "## **Cách thực hiện và nộp bài tập**\n",
        "\n",
        "&#9889; Chú ý, bạn nên thực hiện theo sự hướng dẫn dưới đây. Nếu có bất kỳ điều gì không rõ, bạn cần liên hệ ngay trợ giảng/ giáo viên thực hành để được hỗ trợ kịp thời.\n",
        "\n",
        "**Cách làm bài**\n",
        "\n",
        "Bạn sẽ làm trực tiếp trên file notebook này. Đầu tiên, bạn điền họ tên và MSSV vào phần đầu file ở bên trên. Trong file, bạn làm bài ở những chỗ có ghi là:\n",
        "```python\n",
        "# YOUR CODE HERE\n",
        "raise NotImplementedError()\n",
        "```\n",
        "hoặc đối với những phần code không bắt buộc thì là:\n",
        "```python\n",
        "# YOUR CODE HERE (OPTION)\n",
        "```\n",
        "hoặc đối với markdown cell thì là:\n",
        "```markdown\n",
        "YOUR ANSWER HERE\n",
        "```\n",
        "\n",
        "**Cách nộp bài**\n",
        "\n",
        "Trước khi nộp bài, bạn chọn `Kernel` - `Restart Kernel & Run All Cells` đối với trường hợp sử dụng môi trường local hoặc `Runtime` - `Restart session and run all` đối với môi trường Google Colab, để đảm bảo mọi chuyện diễn ra đúng như mong đợi.\n",
        "\n",
        "Sau đó, bạn tạo thư mục nộp bài theo cấu trúc sau:\n",
        "- Thư mục `MSSV` (ví dụ, nếu bạn có MSSV là 1234567 thì bạn đặt tên thư mục là `1234567`)\n",
        "    - File `HW01.ipynb` (không cần nộp các file khác)\n",
        "\n",
        "Cuối cùng, bạn nén thư mục `MSSV` này lại với định dạng nén là .zip (chứ không được là .rar hay các định dạng khác) và nộp ở link trên moodle. \\\n",
        "<font color=red>Bạn lưu ý tuân thủ chính xác qui định nộp bài này.</font>"
      ]
    },
    {
      "cell_type": "markdown",
      "id": "11c508f5-74c4-412a-b2d1-df1273ee3a33",
      "metadata": {
        "id": "11c508f5-74c4-412a-b2d1-df1273ee3a33"
      },
      "source": [
        "## Setup và Import các thứ"
      ]
    },
    {
      "cell_type": "code",
      "execution_count": 1,
      "id": "7f68f916-ccd7-472f-a6b3-cb6019c9f62f",
      "metadata": {
        "id": "7f68f916-ccd7-472f-a6b3-cb6019c9f62f",
        "outputId": "e89b2b1e-adef-48cc-cb70-23e912ee0f4a",
        "colab": {
          "base_uri": "https://localhost:8080/"
        }
      },
      "outputs": [
        {
          "output_type": "stream",
          "name": "stdout",
          "text": [
            "Requirement already satisfied: scipy in /usr/local/lib/python3.10/dist-packages (1.13.1)\n",
            "Collecting scipy\n",
            "  Downloading scipy-1.14.1-cp310-cp310-manylinux_2_17_x86_64.manylinux2014_x86_64.whl.metadata (60 kB)\n",
            "\u001b[2K     \u001b[90m━━━━━━━━━━━━━━━━━━━━━━━━━━━━━━━━━━━━━━━━\u001b[0m \u001b[32m60.8/60.8 kB\u001b[0m \u001b[31m1.9 MB/s\u001b[0m eta \u001b[36m0:00:00\u001b[0m\n",
            "\u001b[?25hRequirement already satisfied: networkx in /usr/local/lib/python3.10/dist-packages (3.4.2)\n",
            "Requirement already satisfied: numpy<2.3,>=1.23.5 in /usr/local/lib/python3.10/dist-packages (from scipy) (1.26.4)\n",
            "Downloading scipy-1.14.1-cp310-cp310-manylinux_2_17_x86_64.manylinux2014_x86_64.whl (41.2 MB)\n",
            "\u001b[2K   \u001b[90m━━━━━━━━━━━━━━━━━━━━━━━━━━━━━━━━━━━━━━━━\u001b[0m \u001b[32m41.2/41.2 MB\u001b[0m \u001b[31m7.6 MB/s\u001b[0m eta \u001b[36m0:00:00\u001b[0m\n",
            "\u001b[?25hInstalling collected packages: scipy\n",
            "  Attempting uninstall: scipy\n",
            "    Found existing installation: scipy 1.13.1\n",
            "    Uninstalling scipy-1.13.1:\n",
            "      Successfully uninstalled scipy-1.13.1\n",
            "\u001b[31mERROR: pip's dependency resolver does not currently take into account all the packages that are installed. This behaviour is the source of the following dependency conflicts.\n",
            "gensim 4.3.3 requires scipy<1.14.0,>=1.7.0, but you have scipy 1.14.1 which is incompatible.\u001b[0m\u001b[31m\n",
            "\u001b[0mSuccessfully installed scipy-1.14.1\n"
          ]
        }
      ],
      "source": [
        "# Upgrade packages\n",
        "!pip install --upgrade scipy networkx"
      ]
    },
    {
      "cell_type": "code",
      "execution_count": 2,
      "id": "9d5d2a2c-22f0-48c5-8ce4-c35b9f3f57aa",
      "metadata": {
        "id": "9d5d2a2c-22f0-48c5-8ce4-c35b9f3f57aa"
      },
      "outputs": [],
      "source": [
        "# Import\n",
        "import time\n",
        "import numpy as np # For numerical computation\n",
        "import networkx as nx # For network/ graph manipulation\n",
        "import matplotlib.pyplot as plt # For visualization\n",
        "plt.style.use(\"fast\")\n",
        "\n",
        "import requests # For download something\n",
        "from zlib import adler32 # For fun\n",
        "\n",
        "from sklearn.linear_model import LinearRegression\n",
        "\n",
        "%matplotlib inline"
      ]
    },
    {
      "cell_type": "code",
      "execution_count": 3,
      "id": "f67ef506-9ebd-46a0-8392-69ef2b5f21a2",
      "metadata": {
        "id": "f67ef506-9ebd-46a0-8392-69ef2b5f21a2"
      },
      "outputs": [],
      "source": [
        "# Make sure something\n",
        "assert nx.__version__ > '2.5'"
      ]
    },
    {
      "cell_type": "markdown",
      "id": "d4c880db-bd3a-460a-be6b-8257a89f78f1",
      "metadata": {
        "id": "d4c880db-bd3a-460a-be6b-8257a89f78f1"
      },
      "source": [
        "## Task 00: Phân phối tích lũy luật lũy thừa (2đ)\n",
        "\n",
        "Nếu các bạn có một chút quên về [phân phối tích lũy (hay cumulative distribution function, viết tắt là CDF)](https://en.wikipedia.org/wiki/Cumulative_distribution_function) thì có thể tự tìm hiểu lại nó.\n",
        "\n",
        "Mạng scale-free (hay còn gọi là mạng lưới không tỷ lệ, mạng tự do) có một phân phối bậc lũy thừa (Power law degree distribution). Trước khi đi tiếp, nếu các bạn có một chút quên về [hàm mật độ xác suất (hay probability density function, viết tắt là PDF)](https://en.wikipedia.org/wiki/Probability_density_function) thì có thể tự tìm hiểu lại nó. Hàm mật độ xác suất của luật lũy thừa là\n",
        "$$ p(x) = Cx^{-\\alpha},$$\n",
        "trong đó $C$ là một hằng số chuẩn hóa\n",
        "$$C = \\frac{\\alpha - 1}{x_{\\text{min}}^{-\\alpha + 1}}$$\n",
        "và $\\alpha>1$ được gọi là mũ của phân phối."
      ]
    },
    {
      "cell_type": "code",
      "execution_count": 4,
      "id": "ab6a7cc7-72dd-458c-984d-90d014b2ff27",
      "metadata": {
        "id": "ab6a7cc7-72dd-458c-984d-90d014b2ff27"
      },
      "outputs": [],
      "source": [
        "def powerLawPDF(x, alpha=3.5, x_min=1):\n",
        "    C = (alpha - 1) / x_min ** (1 - alpha)\n",
        "    return C * x ** (-alpha)"
      ]
    },
    {
      "cell_type": "code",
      "execution_count": 5,
      "id": "611ac026-7a4a-4b26-b0ed-0fdf1508f76c",
      "metadata": {
        "id": "611ac026-7a4a-4b26-b0ed-0fdf1508f76c",
        "outputId": "b049922a-56ef-4a20-b895-378bf904761b",
        "colab": {
          "base_uri": "https://localhost:8080/",
          "height": 452
        }
      },
      "outputs": [
        {
          "output_type": "display_data",
          "data": {
            "text/plain": [
              "<Figure size 640x480 with 1 Axes>"
            ],
            "image/png": "[encoded data removed]"
          },
          "metadata": {}
        }
      ],
      "source": [
        "x_space = np.linspace(1, 10, 100)\n",
        "plt.plot(x_space, powerLawPDF(x_space))\n",
        "plt.title('Power Law PDF');"
      ]
    },
    {
      "cell_type": "markdown",
      "id": "b4dbc560-3d13-4f74-bca6-faa519084207",
      "metadata": {
        "id": "b4dbc560-3d13-4f74-bca6-faa519084207"
      },
      "source": [
        "Và dựa trên hàm mật độ xác suất của luật lũy thừa, chúng ta có thể phát sinh những quan trắc. Ta thực hiện từng bước như sau:\n",
        "- Bước 01: rút ra hàm phân phối tích lũy $F(x) = P(X \\leq x)$\n",
        "$$F(x) = 1 - \\int_{x}^\\infty p(t) dt.$$\n",
        "lấy tích phân bằng kỹ thuật giải tích"
      ]
    },
    {
      "cell_type": "markdown",
      "id": "dcfd3dc4-2504-4d10-93ea-6f68b62091c5",
      "metadata": {
        "deletable": false,
        "nbgrader": {
          "cell_type": "markdown",
          "checksum": "403717905274946e5c700714bfcb143b",
          "grade": true,
          "grade_id": "cell-ec37fcbdcceb610d",
          "locked": false,
          "points": 1,
          "schema_version": 3,
          "solution": true,
          "task": false
        },
        "id": "dcfd3dc4-2504-4d10-93ea-6f68b62091c5"
      },
      "source": [
        "YOUR ANSWER HERE\n",
        "\n",
        "$$p(t) = Ct^{-\\alpha}$$\n",
        "\n",
        "Thay $p(t)$ vào công thức hàm phân phối tích lũy:\n",
        "\n",
        "$$ F(x) = 1 - \\int_{x}^∞ Ct^{-α} \\, dt$$\n",
        "\n",
        "Tính tích phân của $t^{-\\alpha}$\n",
        "$$\\int {t}^{-\\alpha} \\, dt = \\frac{t^{1-\\alpha}}{1-\\alpha}.$$\n",
        "Do đó, ta có:\n",
        "$$F(x) = 1 - C\\left[\\frac{t^{1-\\alpha}}{1-\\alpha} \\right]_{x}^{∞}$$\n",
        "Khi $t \\to ∞ , t^{1-\\alpha} \\to 0$ vì $\\left(\\alpha >1\\right)$, do đó:\n",
        "\n",
        "$$F(x) = 1 - C\\left(0 - \\frac{x^{1- \\alpha}}{1-\\alpha} \\right)$$\n",
        "\n",
        "$$=> F(x) = 1 + C\\frac{x^{1-\\alpha}}{1-\\alpha}$$\n",
        "\n",
        "Thay hằng số chuẩn hóa $C = \\frac{\\alpha - 1}{x_\\text{min}^{-\\alpha+1}}$ vào:\n",
        "$$ F(x) = 1 - \\left(\\frac{x}{x_\\text{min}}\\right)^{1-\\alpha}$$"
      ]
    },
    {
      "cell_type": "markdown",
      "id": "d32a3787-7674-48fa-9afe-bc36b7b7f8cb",
      "metadata": {
        "id": "d32a3787-7674-48fa-9afe-bc36b7b7f8cb"
      },
      "source": [
        "- Bước 02: các bạn hoàn thành hàm `powerLawCDF` với tham số `x`, `alpha`, và `x_min`"
      ]
    },
    {
      "cell_type": "code",
      "execution_count": 6,
      "id": "965a662a-e213-4684-af7c-8bd87bafa7fc",
      "metadata": {
        "deletable": false,
        "nbgrader": {
          "cell_type": "code",
          "checksum": "505b31291580396d6095e373bea09136",
          "grade": false,
          "grade_id": "cell-8e4c95b26481cc92",
          "locked": false,
          "schema_version": 3,
          "solution": true,
          "task": false
        },
        "id": "965a662a-e213-4684-af7c-8bd87bafa7fc"
      },
      "outputs": [],
      "source": [
        "def powerLawCDF(x, alpha=3.5, x_min=1):\n",
        "    # YOUR CODE HERE\n",
        "    return 1 - (x / x_min) ** (1 - alpha)"
      ]
    },
    {
      "cell_type": "code",
      "execution_count": 7,
      "id": "896f35c7-594b-46e6-a0da-9fa4050b7f5b",
      "metadata": {
        "deletable": false,
        "editable": false,
        "nbgrader": {
          "cell_type": "code",
          "checksum": "285fb8d314236b8b1f63b8e2fe4a1d22",
          "grade": true,
          "grade_id": "cell-93e123ee64046c3c",
          "locked": true,
          "points": 1,
          "schema_version": 3,
          "solution": false,
          "task": false
        },
        "id": "896f35c7-594b-46e6-a0da-9fa4050b7f5b"
      },
      "outputs": [],
      "source": [
        "assert adler32(str(powerLawCDF(2, 2, 1)).encode()) == 19136660\n",
        "assert adler32(str(powerLawCDF(10, 2, 1)).encode()) == 19398808\n",
        "assert adler32(str(powerLawCDF(2, 3, 1)).encode()) == 32571595"
      ]
    },
    {
      "cell_type": "markdown",
      "id": "d5eb59a5-e320-4411-a8b7-4ea33a7b672c",
      "metadata": {
        "id": "d5eb59a5-e320-4411-a8b7-4ea33a7b672c"
      },
      "source": [
        "## Task 01: Giả phân phối luật lũy thừa (2đ)"
      ]
    },
    {
      "cell_type": "markdown",
      "id": "c8fb2ffe-ef85-4759-9299-13b372fa3298",
      "metadata": {
        "id": "c8fb2ffe-ef85-4759-9299-13b372fa3298"
      },
      "source": [
        "Gọi $X \\sim \\text{Power law}$, tức là biến ngẫu nhiên $X$ có phân phối luật lũy thừa.\n",
        "\n",
        "Gọi $R$ là một biến ngẫu nhiên, mà $R = F(X)$. Ta có, $R$ phân phối đồng nhất trên khoảng $[0, 1]$. Nếu các bạn tò mò lý do tại sao? [Xem chứng minh](https://en.wikipedia.org/wiki/Probability_integral_transform#Proof).\n",
        "\n",
        "Điều này có nghĩa là chúng ta dễ dàng phát sinh các con số giả ngẫu nhiên (pseudorandom) phân phối đồng nhất và sau đó biến đổi chúng về luật lũy thừa. Ok, bây giờ ta cần tìm một biểu thức cho $x = F^{-1}(r)$, trong đó $r$ là một quan sát từ phân phối đồng nhất trên khoảng $[0,1]$.\n",
        "\n",
        "Bạn cần đưa ra một dạng giải tích của $F^{-1}(r)$ và viết một hàm `powerLawPPF` (hàm phần trăm từng điểm, percent point function, còn được gọi là một phân vị - quantile) với các tham số bao gồm `r`, `alpha` và `x_min`."
      ]
    },
    {
      "cell_type": "markdown",
      "id": "7d5148f2-e995-415a-b317-9f03429f7148",
      "metadata": {
        "deletable": false,
        "editable": false,
        "nbgrader": {
          "cell_type": "markdown",
          "checksum": "9188c514f3d8f830614f7d3b90cd3a85",
          "grade": false,
          "grade_id": "cell-e5584600cb12bdaf",
          "locked": true,
          "points": 1,
          "schema_version": 3,
          "solution": false,
          "task": true
        },
        "id": "7d5148f2-e995-415a-b317-9f03429f7148"
      },
      "source": [
        "YOUR ANSWER HERE"
      ]
    },
    {
      "cell_type": "code",
      "execution_count": null,
      "id": "7c3642b1-2adb-492e-b606-6d44196c2d22",
      "metadata": {
        "deletable": false,
        "nbgrader": {
          "cell_type": "code",
          "checksum": "fd59b569d73eca8229d4169a019a3caa",
          "grade": false,
          "grade_id": "cell-29f78d4a9984a39c",
          "locked": false,
          "schema_version": 3,
          "solution": true,
          "task": false
        },
        "id": "7c3642b1-2adb-492e-b606-6d44196c2d22"
      },
      "outputs": [],
      "source": [
        "def powerLawPPF(r, alpha=3.5, x_min=1):\n",
        "    # YOUR CODE HERE\n",
        "    raise NotImplementedError()"
      ]
    },
    {
      "cell_type": "code",
      "execution_count": null,
      "id": "7c7f9aa7-1efa-4400-80b4-abc4f6c917fd",
      "metadata": {
        "deletable": false,
        "editable": false,
        "nbgrader": {
          "cell_type": "code",
          "checksum": "7a311716fafa16f13a5a0a8d4bb5e05b",
          "grade": true,
          "grade_id": "cell-ea559f85f38884bb",
          "locked": true,
          "points": 1,
          "schema_version": 3,
          "solution": false,
          "task": false
        },
        "id": "7c7f9aa7-1efa-4400-80b4-abc4f6c917fd"
      },
      "outputs": [],
      "source": [
        "# Test\n",
        "assert adler32(str(round(powerLawPPF(0.5, 2, 1), 2)).encode()) == 19202193\n",
        "assert adler32(str(round(powerLawPPF(0.9, 2, 1), 2)).encode()) == 31719616\n",
        "assert adler32(str(round(powerLawPPF(0.96, 3, 1), 2)).encode()) == 19792020"
      ]
    },
    {
      "cell_type": "code",
      "execution_count": null,
      "id": "1ae85258-fac6-4e4b-89d7-a295bd32ecfb",
      "metadata": {
        "id": "1ae85258-fac6-4e4b-89d7-a295bd32ecfb"
      },
      "outputs": [],
      "source": [
        "# Visualization\n",
        "x_space = np.linspace(0, 0.999, 100)\n",
        "plt.plot(x_space, powerLawPPF(x_space))\n",
        "plt.title('Power Law PPF');"
      ]
    },
    {
      "cell_type": "markdown",
      "id": "7080f38d-35f6-48fa-a127-37c44dbeeb3f",
      "metadata": {
        "id": "7080f38d-35f6-48fa-a127-37c44dbeeb3f"
      },
      "source": [
        "Và bây giờ, ta có thể phát sinh các quan trắc từ phân phối lũy thừa bằng các bước như sau\n",
        "- Bước 1: Phát sinh quan trắc từ phân phối đồng nhất trên khoảng $[0, 1]$\n",
        "- Bước 2: Tính toán giá trị PPF của quan trắc cho trước."
      ]
    },
    {
      "cell_type": "code",
      "execution_count": null,
      "id": "63a66cd9-556e-4bc5-8cb6-a7fc6bd78658",
      "metadata": {
        "id": "63a66cd9-556e-4bc5-8cb6-a7fc6bd78658"
      },
      "outputs": [],
      "source": [
        "def powerLawGenerate(n, alpha=3.5, x_min=1, random_seed=1):\n",
        "    np.random.seed(random_seed) # gán seed cho bộ random của numpy\n",
        "    uni_sample = np.random.uniform(0, 0.999, n) # phát sinh n quan trắc trên khoảng [0, 0.999].\n",
        "    return powerLawPPF(uni_sample, alpha, x_min)"
      ]
    },
    {
      "cell_type": "code",
      "execution_count": null,
      "id": "e3010968-f67a-4644-87ab-814a416d24ec",
      "metadata": {
        "id": "e3010968-f67a-4644-87ab-814a416d24ec"
      },
      "outputs": [],
      "source": [
        "# Thiết lập một số tham số\n",
        "alpha = 3.5\n",
        "x_min = 1\n",
        "x_train = powerLawGenerate(1000, alpha, x_min)\n",
        "x_space = np.linspace(1, 15, 100)"
      ]
    },
    {
      "cell_type": "markdown",
      "id": "2cd4e6e4-2dad-47c1-b05f-f7e2b5a43780",
      "metadata": {
        "id": "2cd4e6e4-2dad-47c1-b05f-f7e2b5a43780"
      },
      "source": [
        "Và đây là biểu đồ historgram của mẫu đã được phát sinh."
      ]
    },
    {
      "cell_type": "code",
      "execution_count": null,
      "id": "be604200-2054-477d-8457-d130321d5634",
      "metadata": {
        "id": "be604200-2054-477d-8457-d130321d5634"
      },
      "outputs": [],
      "source": [
        "# Visualization\n",
        "hist, bin_edges = np.histogram(x_train, bins=200, density=True)\n",
        "bin_centers = (bin_edges[1:] + bin_edges[:-1]) / 2\n",
        "plt.scatter(bin_centers[hist > 0], hist[hist > 0], s=10)\n",
        "plt.plot(x_space, powerLawPDF(x_space, alpha, x_min),  label='Theoretical PDF', c='tab:orange')\n",
        "plt.legend()\n",
        "plt.xlim(1, 10)\n",
        "plt.show()"
      ]
    },
    {
      "cell_type": "markdown",
      "id": "c03d81e9-e449-40da-9358-522008a83e72",
      "metadata": {
        "id": "c03d81e9-e449-40da-9358-522008a83e72"
      },
      "source": [
        "Và đây là biểu đồ histogram của mẫu đã được phát sinh và đã được log-log scale."
      ]
    },
    {
      "cell_type": "code",
      "execution_count": null,
      "id": "2c0978e3-3756-4b43-83bc-1111bf38e41e",
      "metadata": {
        "id": "2c0978e3-3756-4b43-83bc-1111bf38e41e"
      },
      "outputs": [],
      "source": [
        "hist, bin_edges = np.histogram(x_train, bins=200, density=True)\n",
        "bin_centers = (bin_edges[1:] + bin_edges[:-1]) / 2\n",
        "plt.scatter(bin_centers, hist, s=10)\n",
        "plt.plot(x_space, powerLawPDF(x_space, alpha, x_min), label='Theoretical PDF', c='tab:orange')\n",
        "plt.legend()\n",
        "plt.xscale('log')\n",
        "plt.yscale('log')\n",
        "plt.xlim(1, 10)\n",
        "plt.show()"
      ]
    },
    {
      "cell_type": "markdown",
      "id": "d2a9cb1e-3b4b-433f-87d9-277cd87dacb9",
      "metadata": {
        "id": "d2a9cb1e-3b4b-433f-87d9-277cd87dacb9"
      },
      "source": [
        "Bạn có nhận xét gì?"
      ]
    },
    {
      "cell_type": "markdown",
      "id": "1bb07d0b-5a25-44a7-ab19-300c723232cc",
      "metadata": {
        "deletable": false,
        "nbgrader": {
          "cell_type": "markdown",
          "checksum": "7304ecfc431a7951692accaa028fd74b",
          "grade": true,
          "grade_id": "cell-7b0e590270deab7a",
          "locked": false,
          "points": 0,
          "schema_version": 3,
          "solution": true,
          "task": false
        },
        "id": "1bb07d0b-5a25-44a7-ab19-300c723232cc"
      },
      "source": [
        "YOUR ANSWER HERE"
      ]
    },
    {
      "cell_type": "markdown",
      "id": "ec68d95b-365c-421e-8549-8e847ba38198",
      "metadata": {
        "id": "ec68d95b-365c-421e-8549-8e847ba38198"
      },
      "source": [
        "## Task 02: Ước lượng của $\\alpha$ với linear binning (2đ)"
      ]
    },
    {
      "cell_type": "markdown",
      "id": "fa110f2b-5f66-4777-8d93-2633ed8b375b",
      "metadata": {
        "id": "fa110f2b-5f66-4777-8d93-2633ed8b375b"
      },
      "source": [
        "Cho trước các quan trắc từ phân phối lũy thừa, ta sẽ cố gắng ước lượng $\\alpha$. Cách dễ nhất là thử vẽ PDF thực nghiệm với linear binning trong dạng log-log scale (log scale cả hai trục tung-hoành) và sau đó sử dụng linear regression (quá dễ với các bạn đã làm được bài tập đầu tiên của Nhập môn Học máy - Hồi quy tuyến tính, nhưng ở đây không cần các bạn phải implement lại LR).\n",
        "\n",
        "Nói thêm, linear binning có nghĩa là chúng ta giữ độ rộng của bin cố định.\n",
        "\n",
        "Trong phần này, các bạn viết và hoàn thành hàm `alphaLRegBins` mà đầu vào của nó gồm một tập huấn luyện, số lượng bin tuyến tính và trả về một ước lượng cho $\\alpha$.\n",
        "\n",
        "Mình nghĩ chắc là sẽ có kiểm định cho $\\alpha$ nhưng mà chúng ta chỉ dừng lại việc đưa ra con số thôi. Việc này sẽ để dành cho khóa sau =)))"
      ]
    },
    {
      "cell_type": "markdown",
      "id": "3529f544-c519-4dbd-91e5-55d3e7d33fe8",
      "metadata": {
        "id": "3529f544-c519-4dbd-91e5-55d3e7d33fe8"
      },
      "source": [
        "Gợi ý:\n",
        "- Lấy log cả hai phía của đẳng thức $p(x) = Cx^{-\\alpha}$\n",
        "- Để tính một PDF thực nghiệm, sử dụng `np.histogram(x_train, bins=bins, density=True)`\n",
        "- Để tính toán giả nghịch đảo ma trận (pseudoinverse matrix), sử dụng `np.linalg.pinv`\n",
        "- Sử dụng hồi quy tuyến tính để khớp dữ liệu bằng cách dùng `sklearn.linear.LinearRegression`"
      ]
    },
    {
      "cell_type": "code",
      "execution_count": null,
      "id": "d214c71c-5cfa-427f-892a-fd32b148a058",
      "metadata": {
        "deletable": false,
        "nbgrader": {
          "cell_type": "code",
          "checksum": "fc02645e80261143feb99b0905bb621d",
          "grade": false,
          "grade_id": "cell-6f02cc47973f3f1c",
          "locked": false,
          "schema_version": 3,
          "solution": true,
          "task": false
        },
        "id": "d214c71c-5cfa-427f-892a-fd32b148a058"
      },
      "outputs": [],
      "source": [
        "def alphaLRegBins(x_train, bins):\n",
        "    # YOUR CODE HERE\n",
        "    raise NotImplementedError()"
      ]
    },
    {
      "cell_type": "code",
      "execution_count": null,
      "id": "95759238-7519-4535-b9fa-b6c7ec25011e",
      "metadata": {
        "deletable": false,
        "editable": false,
        "nbgrader": {
          "cell_type": "code",
          "checksum": "3019c1b9061f5d37786eb8f310db4943",
          "grade": true,
          "grade_id": "cell-eedf62167ce91ff2",
          "locked": true,
          "points": 2,
          "schema_version": 3,
          "solution": false,
          "task": false
        },
        "id": "95759238-7519-4535-b9fa-b6c7ec25011e"
      },
      "outputs": [],
      "source": [
        "# Test\n",
        "bins = 100\n",
        "x_train = powerLawGenerate(1000, x_min=1, alpha=2)\n",
        "assert adler32(str(np.abs(alphaLRegBins(x_train, bins))).encode()) == 586417073\n",
        "x_train = powerLawGenerate(1000, x_min=1, alpha=3.5)\n",
        "assert adler32(str(np.abs(alphaLRegBins(x_train, bins))).encode()) == 582943655\n",
        "x_train = powerLawGenerate(1000, x_min=1, alpha=10)\n",
        "assert adler32(str(np.abs(alphaLRegBins(x_train, bins))).encode()) == 523371384"
      ]
    },
    {
      "cell_type": "markdown",
      "id": "0baebdb5-1d59-4e0b-b6dd-e68f7f524403",
      "metadata": {
        "id": "0baebdb5-1d59-4e0b-b6dd-e68f7f524403"
      },
      "source": [
        "Trực quan hóa bằng biểu đồ"
      ]
    },
    {
      "cell_type": "code",
      "execution_count": null,
      "id": "cfe9d523-4c37-4204-9bc2-e3f0d9c5d2d5",
      "metadata": {
        "id": "cfe9d523-4c37-4204-9bc2-e3f0d9c5d2d5"
      },
      "outputs": [],
      "source": [
        "x_min = 1\n",
        "alpha = 3.5\n",
        "bins = 100\n",
        "\n",
        "x_train = powerLawGenerate(1000, alpha, x_min)\n",
        "hist, bin_edges = np.histogram(x_train, bins=bins, density=True)\n",
        "bin_centers = (bin_edges[1:] + bin_edges[:-1]) / 2\n",
        "plt.scatter(bin_centers, hist, s=10)\n",
        "\n",
        "hat_alpha = alphaLRegBins(x_train, bins)\n",
        "x_space = np.linspace(x_min, x_train.max(), 100)\n",
        "plt.plot(x_space, powerLawPDF(x_space, alpha, x_min), label='Theoretical PDF', c='tab:green')\n",
        "plt.plot(x_space, powerLawPDF(x_space, hat_alpha, x_min), label='Estimated PDF', c='tab:orange')\n",
        "plt.legend()\n",
        "plt.title('Truth alpha = {:.2f}, estimated alpha = {:.2f}'.format(alpha, hat_alpha))\n",
        "plt.xscale('log')\n",
        "plt.yscale('log')\n",
        "plt.show()"
      ]
    },
    {
      "cell_type": "markdown",
      "id": "17c84d5a-d293-4aa1-a328-5ae141f3664d",
      "metadata": {
        "id": "17c84d5a-d293-4aa1-a328-5ae141f3664d"
      },
      "source": [
        "## Task 03: Ước lượng $\\alpha$ với logarithmic binning (2đ)"
      ]
    },
    {
      "cell_type": "markdown",
      "id": "8ffa8444-4ef7-43f0-b768-762a2897ebf9",
      "metadata": {
        "id": "8ffa8444-4ef7-43f0-b768-762a2897ebf9"
      },
      "source": [
        "Như chúng ta đã thấy việc ước lượng với linear binning là tương đối chưa chính xác. Với kỹ thuật này, logarithmic binning, chúng ta để kích thước bin tăng theo một giá trị nào đó. Việc này đảm bảo rằng mỗi bin có một số lượng quan trắc tương đương nhau."
      ]
    },
    {
      "cell_type": "markdown",
      "id": "636c87a1-9988-494d-98ef-a8bd56284c42",
      "metadata": {
        "id": "636c87a1-9988-494d-98ef-a8bd56284c42"
      },
      "source": [
        "Trong phần này, các bạn viết và hoàn thành hàm `alphaLogBins` mà đầu vào của nó gồm một tập huấn luyện, số lượng bin logarith và trả về một ước lượng cho $\\alpha$."
      ]
    },
    {
      "cell_type": "code",
      "execution_count": null,
      "id": "0dc4b9a9-65d3-4925-8c1a-260081fbb229",
      "metadata": {
        "deletable": false,
        "nbgrader": {
          "cell_type": "code",
          "checksum": "270068f82e8a077c0d567196a0553d5f",
          "grade": false,
          "grade_id": "cell-ee94e56699c9cc6e",
          "locked": false,
          "schema_version": 3,
          "solution": true,
          "task": false
        },
        "id": "0dc4b9a9-65d3-4925-8c1a-260081fbb229"
      },
      "outputs": [],
      "source": [
        "def alphaLogBins(x_train, bins):\n",
        "    # YOUR CODE HERE\n",
        "    raise NotImplementedError()"
      ]
    },
    {
      "cell_type": "code",
      "execution_count": null,
      "id": "ea89e054-6938-46f1-aa94-70d35a4768b7",
      "metadata": {
        "deletable": false,
        "editable": false,
        "nbgrader": {
          "cell_type": "code",
          "checksum": "66c888c35189430bafa68b540551a23c",
          "grade": true,
          "grade_id": "cell-e89e991b79fbfd2d",
          "locked": true,
          "points": 2,
          "schema_version": 3,
          "solution": false,
          "task": false
        },
        "id": "ea89e054-6938-46f1-aa94-70d35a4768b7"
      },
      "outputs": [],
      "source": [
        "# Test\n",
        "bins = 100\n",
        "x_train = powerLawGenerate(1000, x_min=1, alpha=2)\n",
        "assert adler32(str(np.abs(alphaLogBins(x_train, bins))).encode()) == 586744763\n",
        "# print(np.abs(alphaLogBins(x_train, bins)))\n",
        "x_train = powerLawGenerate(1000, x_min=1, alpha=3.5)\n",
        "assert adler32(str(np.abs(alphaLogBins(x_train, bins))).encode()) == 584647596\n",
        "# print(np.abs(alphaLogBins(x_train, bins)))\n",
        "x_train = powerLawGenerate(1000, x_min=1, alpha=10)\n",
        "assert adler32(str(np.abs(alphaLogBins(x_train, bins))).encode()) == 458294066\n",
        "# print(np.abs(alphaLogBins(x_train, bins)))"
      ]
    },
    {
      "cell_type": "markdown",
      "id": "fa94388b-6faa-4518-a65a-4a437059c4a2",
      "metadata": {
        "id": "fa94388b-6faa-4518-a65a-4a437059c4a2"
      },
      "source": [
        "Trực quan hóa bằng biểu đồ"
      ]
    },
    {
      "cell_type": "code",
      "execution_count": null,
      "id": "1d3e2017-1e62-449a-b47e-064ed9ed8d35",
      "metadata": {
        "id": "1d3e2017-1e62-449a-b47e-064ed9ed8d35"
      },
      "outputs": [],
      "source": [
        "x_min = 1\n",
        "alpha = 3.5\n",
        "bins = 100\n",
        "\n",
        "x_train = powerLawGenerate(1000, alpha, x_min)\n",
        "binning = np.logspace(np.log10(x_min), np.log10(x_train.max()), bins)\n",
        "hist, bin_edges = np.histogram(x_train, bins=binning, density=True)\n",
        "bin_centers = (bin_edges[1:] + bin_edges[:-1]) / 2\n",
        "plt.scatter(bin_centers, hist, s=10)\n",
        "\n",
        "hat_alpha = alphaLogBins(x_train, bins)\n",
        "x_space = np.linspace(x_min, x_train.max(), 100)\n",
        "plt.plot(x_space, powerLawPDF(x_space, alpha, x_min), label='Theoretical PDF', c='tab:green')\n",
        "plt.plot(x_space, powerLawPDF(x_space, hat_alpha, x_min), label='Estimated PDF', c='tab:orange')\n",
        "plt.legend()\n",
        "plt.title('Truth alpha = {:.2f}, estimated alpha = {:.2f}'.format(alpha, hat_alpha))\n",
        "plt.xscale('log')\n",
        "plt.yscale('log')\n",
        "plt.show()"
      ]
    },
    {
      "cell_type": "markdown",
      "id": "279fe6b4-8a00-4e80-9b38-dc05990eb712",
      "metadata": {
        "id": "279fe6b4-8a00-4e80-9b38-dc05990eb712"
      },
      "source": [
        "Quá tuyệt vời :-) giá trị ước lượng alpha của chúng ta đã gần sát với mục tiêu."
      ]
    },
    {
      "cell_type": "markdown",
      "id": "521537db-2947-42e6-97d8-ecf64a548dee",
      "metadata": {
        "id": "521537db-2947-42e6-97d8-ecf64a548dee"
      },
      "source": [
        "## Task 04: Phát sinh đồ thị với phân phối bậc cho trước (2đ)"
      ]
    },
    {
      "cell_type": "markdown",
      "id": "5296a5fb-f660-4ed9-828d-ce3554418423",
      "metadata": {
        "id": "5296a5fb-f660-4ed9-828d-ce3554418423"
      },
      "source": [
        "Chúng ta sẽ thử phát sinh đồ thị với phân phối bậc cho trước."
      ]
    },
    {
      "cell_type": "markdown",
      "id": "155fae0e-dd56-4405-91fd-c5571405309e",
      "metadata": {
        "id": "155fae0e-dd56-4405-91fd-c5571405309e"
      },
      "source": [
        "**Đồ thị A** được mô tả như sau:\n",
        "- Có 0 đỉnh có bậc 0\n",
        "- Có 2 đỉnh có bậc 1\n",
        "- Có 15 đỉnh có bậc 2\n",
        "- Đồ thị này _liên thông_"
      ]
    },
    {
      "cell_type": "code",
      "execution_count": null,
      "id": "6e7e59fb-115f-482b-af24-be248fc2da42",
      "metadata": {
        "deletable": false,
        "nbgrader": {
          "cell_type": "code",
          "checksum": "e907a4ceb5367f1599bf42ebfabce2cb",
          "grade": false,
          "grade_id": "cell-8f36f09e0f8d3141",
          "locked": false,
          "schema_version": 3,
          "solution": true,
          "task": false
        },
        "id": "6e7e59fb-115f-482b-af24-be248fc2da42"
      },
      "outputs": [],
      "source": [
        "# YOUR CODE HERE\n",
        "raise NotImplementedError()"
      ]
    },
    {
      "cell_type": "code",
      "execution_count": null,
      "id": "4177faba-657e-4c4f-be57-7c2b250ff9c4",
      "metadata": {
        "deletable": false,
        "editable": false,
        "nbgrader": {
          "cell_type": "code",
          "checksum": "0ce590c05bcb90b02f5b91c54a45c8df",
          "grade": true,
          "grade_id": "cell-9fe0edce59a77841",
          "locked": true,
          "points": 0.5,
          "schema_version": 3,
          "solution": false,
          "task": false
        },
        "id": "4177faba-657e-4c4f-be57-7c2b250ff9c4"
      },
      "outputs": [],
      "source": [
        "# Test\n",
        "assert adler32(str(dens_a).encode()) == 191496729"
      ]
    },
    {
      "cell_type": "code",
      "execution_count": null,
      "id": "ef980833-99a3-4106-8cad-63fca3e141f4",
      "metadata": {
        "deletable": false,
        "nbgrader": {
          "cell_type": "code",
          "checksum": "4416f8edb4d598169cc62ff1b5a3b571",
          "grade": false,
          "grade_id": "cell-5787e985d1bda6ea",
          "locked": false,
          "schema_version": 3,
          "solution": true,
          "task": false
        },
        "id": "ef980833-99a3-4106-8cad-63fca3e141f4"
      },
      "outputs": [],
      "source": [
        "def generateGraphA(dens_a: list) -> nx.Graph:\n",
        "    # YOUR CODE HERE\n",
        "    raise NotImplementedError()"
      ]
    },
    {
      "cell_type": "code",
      "execution_count": null,
      "id": "73255821-d783-4375-aea9-4c1f40d95b71",
      "metadata": {
        "deletable": false,
        "editable": false,
        "nbgrader": {
          "cell_type": "code",
          "checksum": "8c371222bb94d58ea12f56d7d3d980b8",
          "grade": true,
          "grade_id": "cell-cae86f1248ea971b",
          "locked": true,
          "points": 0.5,
          "schema_version": 3,
          "solution": false,
          "task": false
        },
        "id": "73255821-d783-4375-aea9-4c1f40d95b71"
      },
      "outputs": [],
      "source": [
        "# Test\n",
        "G = generateGraphA(dens_a=dens_a)\n",
        "assert nx.degree_histogram(G) == dens_a\n",
        "assert nx.is_connected(G)\n",
        "nx.draw_networkx(G)"
      ]
    },
    {
      "cell_type": "markdown",
      "id": "6d8c0719-ed02-4975-9875-7baac2d4fe52",
      "metadata": {
        "id": "6d8c0719-ed02-4975-9875-7baac2d4fe52"
      },
      "source": [
        "**Đồ thị B** được mô tả như sau:\n",
        "- Có 0 đỉnh có bậc 0\n",
        "- Có 0 đỉnh có bậc 1\n",
        "- Có 10 đỉnh có bậc 2\n",
        "- Đồ thị này _liên thông_"
      ]
    },
    {
      "cell_type": "code",
      "execution_count": null,
      "id": "540b52c1-cc11-4d1d-a33a-84c6523a0571",
      "metadata": {
        "deletable": false,
        "nbgrader": {
          "cell_type": "code",
          "checksum": "04486b4aecf370e2cad33b65aaecd461",
          "grade": false,
          "grade_id": "cell-c2ef48513438fec3",
          "locked": false,
          "schema_version": 3,
          "solution": true,
          "task": false
        },
        "id": "540b52c1-cc11-4d1d-a33a-84c6523a0571"
      },
      "outputs": [],
      "source": [
        "# YOUR CODE HERE\n",
        "raise NotImplementedError()"
      ]
    },
    {
      "cell_type": "code",
      "execution_count": null,
      "id": "efd3d728-3592-4753-a623-4e1207049de0",
      "metadata": {
        "deletable": false,
        "editable": false,
        "nbgrader": {
          "cell_type": "code",
          "checksum": "01a05cf1345abbf32c1fef57a394c771",
          "grade": true,
          "grade_id": "cell-bf23467f0f088ad2",
          "locked": true,
          "points": 0.5,
          "schema_version": 3,
          "solution": false,
          "task": false
        },
        "id": "efd3d728-3592-4753-a623-4e1207049de0"
      },
      "outputs": [],
      "source": [
        "# Test\n",
        "assert adler32(str(dens_b).encode()) == 190054930"
      ]
    },
    {
      "cell_type": "code",
      "execution_count": null,
      "id": "0634df6c-dc5a-494f-bbe4-45146c550491",
      "metadata": {
        "deletable": false,
        "nbgrader": {
          "cell_type": "code",
          "checksum": "6977e3b902e0a5644a880ea33c87ed2c",
          "grade": false,
          "grade_id": "cell-8f03081bb3be1e46",
          "locked": false,
          "schema_version": 3,
          "solution": true,
          "task": false
        },
        "id": "0634df6c-dc5a-494f-bbe4-45146c550491"
      },
      "outputs": [],
      "source": [
        "def generateGraphB(dens_b: list) -> nx.Graph:\n",
        "    # YOUR CODE HERE\n",
        "    raise NotImplementedError()"
      ]
    },
    {
      "cell_type": "code",
      "execution_count": null,
      "id": "00b12db1-f72c-4ac7-aea0-ca66daff17ef",
      "metadata": {
        "deletable": false,
        "editable": false,
        "nbgrader": {
          "cell_type": "code",
          "checksum": "c2a653b601321f92e9b1f6a8712a49c7",
          "grade": true,
          "grade_id": "cell-493551320377bfc8",
          "locked": true,
          "points": 0.5,
          "schema_version": 3,
          "solution": false,
          "task": false
        },
        "id": "00b12db1-f72c-4ac7-aea0-ca66daff17ef"
      },
      "outputs": [],
      "source": [
        "# Test\n",
        "G = generateGraphB(dens_b=dens_b)\n",
        "assert nx.degree_histogram(G) == dens_b\n",
        "assert nx.is_connected(G)\n",
        "nx.draw_networkx(G)"
      ]
    }
  ],
  "metadata": {
    "kernelspec": {
      "display_name": "Python 3 (ipykernel)",
      "language": "python",
      "name": "python3"
    },
    "language_info": {
      "codemirror_mode": {
        "name": "ipython",
        "version": 3
      },
      "file_extension": ".py",
      "mimetype": "text/x-python",
      "name": "python",
      "nbconvert_exporter": "python",
      "pygments_lexer": "ipython3",
      "version": "3.10.14"
    },
    "colab": {
      "provenance": [],
      "include_colab_link": true
    }
  },
  "nbformat": 4,
  "nbformat_minor": 5
}