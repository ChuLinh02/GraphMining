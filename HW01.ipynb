{
  "cells": [
    {
      "cell_type": "markdown",
      "metadata": {
        "id": "view-in-github",
        "colab_type": "text"
      },
      "source": [
        "<a href=\"https://colab.research.google.com/github/ChuLinh02/GraphMining/blob/main/HW01.ipynb\" target=\"_parent\"><img src=\"https://colab.research.google.com/assets/colab-badge.svg\" alt=\"Open In Colab\"/></a>"
      ]
    },
    {
      "cell_type": "markdown",
      "id": "b5b174d9-b298-4beb-ac25-8d17bda37995",
      "metadata": {
        "id": "b5b174d9-b298-4beb-ac25-8d17bda37995"
      },
      "source": [
        "# **CSC17103 - Colab 1 - Luật lũy thừa**\n",
        "\n",
        "Đây là Bài tập 01 trong môn học Khai thác Dữ liệu Đồ thị (Graph Mining) - CSC1703 tại Khoa Công nghệ Thông tin, Trường Đại học Khoa học Tự nhiên, Đại học Quốc gia TP.HCM"
      ]
    },
    {
      "cell_type": "markdown",
      "id": "65ce42cb-2822-4e82-a932-d094a3bb52ec",
      "metadata": {
        "id": "65ce42cb-2822-4e82-a932-d094a3bb52ec"
      },
      "source": [
        "(Cập nhật lần cuối: 27/05/2024)\n",
        "\n",
        "Họ tên: Chu Hải Linh\n",
        "\n",
        "MSSV: 21120496"
      ]
    },
    {
      "cell_type": "markdown",
      "id": "e66c7332-684f-4db1-ac2b-4cd377f7dd42",
      "metadata": {
        "id": "e66c7332-684f-4db1-ac2b-4cd377f7dd42"
      },
      "source": [
        "## **Mục tiêu của bài tập**"
      ]
    },
    {
      "cell_type": "markdown",
      "id": "502e7470-14a8-4f03-9e8c-699df1462e99",
      "metadata": {
        "id": "502e7470-14a8-4f03-9e8c-699df1462e99"
      },
      "source": [
        "## **Cách thực hiện và nộp bài tập**\n",
        "\n",
        "&#9889; Chú ý, bạn nên thực hiện theo sự hướng dẫn dưới đây. Nếu có bất kỳ điều gì không rõ, bạn cần liên hệ ngay trợ giảng/ giáo viên thực hành để được hỗ trợ kịp thời.\n",
        "\n",
        "**Cách làm bài**\n",
        "\n",
        "Bạn sẽ làm trực tiếp trên file notebook này. Đầu tiên, bạn điền họ tên và MSSV vào phần đầu file ở bên trên. Trong file, bạn làm bài ở những chỗ có ghi là:\n",
        "```python\n",
        "# YOUR CODE HERE\n",
        "raise NotImplementedError()\n",
        "```\n",
        "hoặc đối với những phần code không bắt buộc thì là:\n",
        "```python\n",
        "# YOUR CODE HERE (OPTION)\n",
        "```\n",
        "hoặc đối với markdown cell thì là:\n",
        "```markdown\n",
        "YOUR ANSWER HERE\n",
        "```\n",
        "\n",
        "**Cách nộp bài**\n",
        "\n",
        "Trước khi nộp bài, bạn chọn `Kernel` - `Restart Kernel & Run All Cells` đối với trường hợp sử dụng môi trường local hoặc `Runtime` - `Restart session and run all` đối với môi trường Google Colab, để đảm bảo mọi chuyện diễn ra đúng như mong đợi.\n",
        "\n",
        "Sau đó, bạn tạo thư mục nộp bài theo cấu trúc sau:\n",
        "- Thư mục `MSSV` (ví dụ, nếu bạn có MSSV là 1234567 thì bạn đặt tên thư mục là `1234567`)\n",
        "    - File `HW01.ipynb` (không cần nộp các file khác)\n",
        "\n",
        "Cuối cùng, bạn nén thư mục `MSSV` này lại với định dạng nén là .zip (chứ không được là .rar hay các định dạng khác) và nộp ở link trên moodle. \\\n",
        "<font color=red>Bạn lưu ý tuân thủ chính xác qui định nộp bài này.</font>"
      ]
    },
    {
      "cell_type": "markdown",
      "id": "11c508f5-74c4-412a-b2d1-df1273ee3a33",
      "metadata": {
        "id": "11c508f5-74c4-412a-b2d1-df1273ee3a33"
      },
      "source": [
        "## Setup và Import các thứ"
      ]
    },
    {
      "cell_type": "code",
      "execution_count": 24,
      "id": "7f68f916-ccd7-472f-a6b3-cb6019c9f62f",
      "metadata": {
        "id": "7f68f916-ccd7-472f-a6b3-cb6019c9f62f",
        "colab": {
          "base_uri": "https://localhost:8080/"
        },
        "outputId": "412485c4-36cc-494c-9fc8-d69a980150c9"
      },
      "outputs": [
        {
          "output_type": "stream",
          "name": "stdout",
          "text": [
            "Requirement already satisfied: scipy in /usr/local/lib/python3.10/dist-packages (1.14.1)\n",
            "Requirement already satisfied: networkx in /usr/local/lib/python3.10/dist-packages (3.4.2)\n",
            "Requirement already satisfied: numpy<2.3,>=1.23.5 in /usr/local/lib/python3.10/dist-packages (from scipy) (1.26.4)\n"
          ]
        }
      ],
      "source": [
        "# Upgrade packages\n",
        "!pip install --upgrade scipy networkx"
      ]
    },
    {
      "cell_type": "code",
      "execution_count": 25,
      "id": "9d5d2a2c-22f0-48c5-8ce4-c35b9f3f57aa",
      "metadata": {
        "id": "9d5d2a2c-22f0-48c5-8ce4-c35b9f3f57aa"
      },
      "outputs": [],
      "source": [
        "# Import\n",
        "import time\n",
        "import numpy as np # For numerical computation\n",
        "import networkx as nx # For network/ graph manipulation\n",
        "import matplotlib.pyplot as plt # For visualization\n",
        "plt.style.use(\"fast\")\n",
        "\n",
        "import requests # For download something\n",
        "from zlib import adler32 # For fun\n",
        "\n",
        "from sklearn.linear_model import LinearRegression\n",
        "\n",
        "%matplotlib inline"
      ]
    },
    {
      "cell_type": "code",
      "execution_count": 26,
      "id": "f67ef506-9ebd-46a0-8392-69ef2b5f21a2",
      "metadata": {
        "id": "f67ef506-9ebd-46a0-8392-69ef2b5f21a2"
      },
      "outputs": [],
      "source": [
        "# Make sure something\n",
        "assert nx.__version__ > '2.5'"
      ]
    },
    {
      "cell_type": "markdown",
      "id": "d4c880db-bd3a-460a-be6b-8257a89f78f1",
      "metadata": {
        "id": "d4c880db-bd3a-460a-be6b-8257a89f78f1"
      },
      "source": [
        "## Task 00: Phân phối tích lũy luật lũy thừa (2đ)\n",
        "\n",
        "Nếu các bạn có một chút quên về [phân phối tích lũy (hay cumulative distribution function, viết tắt là CDF)](https://en.wikipedia.org/wiki/Cumulative_distribution_function) thì có thể tự tìm hiểu lại nó.\n",
        "\n",
        "Mạng scale-free (hay còn gọi là mạng lưới không tỷ lệ, mạng tự do) có một phân phối bậc lũy thừa (Power law degree distribution). Trước khi đi tiếp, nếu các bạn có một chút quên về [hàm mật độ xác suất (hay probability density function, viết tắt là PDF)](https://en.wikipedia.org/wiki/Probability_density_function) thì có thể tự tìm hiểu lại nó. Hàm mật độ xác suất của luật lũy thừa là\n",
        "$$ p(x) = Cx^{-\\alpha},$$\n",
        "trong đó $C$ là một hằng số chuẩn hóa\n",
        "$$C = \\frac{\\alpha - 1}{x_{\\text{min}}^{-\\alpha + 1}}$$\n",
        "và $\\alpha>1$ được gọi là mũ của phân phối."
      ]
    },
    {
      "cell_type": "code",
      "execution_count": 27,
      "id": "ab6a7cc7-72dd-458c-984d-90d014b2ff27",
      "metadata": {
        "id": "ab6a7cc7-72dd-458c-984d-90d014b2ff27"
      },
      "outputs": [],
      "source": [
        "def powerLawPDF(x, alpha=3.5, x_min=1):\n",
        "    C = (alpha - 1) / x_min ** (1 - alpha)\n",
        "    return C * x ** (-alpha)"
      ]
    },
    {
      "cell_type": "code",
      "execution_count": 28,
      "id": "611ac026-7a4a-4b26-b0ed-0fdf1508f76c",
      "metadata": {
        "id": "611ac026-7a4a-4b26-b0ed-0fdf1508f76c",
        "colab": {
          "base_uri": "https://localhost:8080/",
          "height": 452
        },
        "outputId": "20376202-0001-4074-e41f-aff6566b3d02"
      },
      "outputs": [
        {
          "output_type": "display_data",
          "data": {
            "text/plain": [
              "<Figure size 640x480 with 1 Axes>"
            ],
            "image/png": "[encoded data removed]"
          },
          "metadata": {}
        }
      ],
      "source": [
        "x_space = np.linspace(1, 10, 100)\n",
        "plt.plot(x_space, powerLawPDF(x_space))\n",
        "plt.title('Power Law PDF');"
      ]
    },
    {
      "cell_type": "markdown",
      "id": "b4dbc560-3d13-4f74-bca6-faa519084207",
      "metadata": {
        "id": "b4dbc560-3d13-4f74-bca6-faa519084207"
      },
      "source": [
        "Và dựa trên hàm mật độ xác suất của luật lũy thừa, chúng ta có thể phát sinh những quan trắc. Ta thực hiện từng bước như sau:\n",
        "- Bước 01: rút ra hàm phân phối tích lũy $F(x) = P(X \\leq x)$\n",
        "$$F(x) = 1 - \\int_{x}^\\infty p(t) dt.$$\n",
        "lấy tích phân bằng kỹ thuật giải tích"
      ]
    },
    {
      "cell_type": "markdown",
      "id": "dcfd3dc4-2504-4d10-93ea-6f68b62091c5",
      "metadata": {
        "deletable": false,
        "nbgrader": {
          "cell_type": "markdown",
          "checksum": "403717905274946e5c700714bfcb143b",
          "grade": true,
          "grade_id": "cell-ec37fcbdcceb610d",
          "locked": false,
          "points": 1,
          "schema_version": 3,
          "solution": true,
          "task": false
        },
        "id": "dcfd3dc4-2504-4d10-93ea-6f68b62091c5"
      },
      "source": [
        "YOUR ANSWER HERE\n",
        "\n",
        "$$p(t) = Ct^{-\\alpha}$$\n",
        "\n",
        "Thay $p(t)$ vào công thức hàm phân phối tích lũy:\n",
        "\n",
        "$$ F(x) = 1 - \\int_{x}^∞ Ct^{-α} \\, dt$$\n",
        "\n",
        "Tính tích phân của $t^{-\\alpha}$\n",
        "$$\\int {t}^{-\\alpha} \\, dt = \\frac{t^{1-\\alpha}}{1-\\alpha}.$$\n",
        "Do đó, ta có:\n",
        "$$F(x) = 1 - C\\left[\\frac{t^{1-\\alpha}}{1-\\alpha} \\right]_{x}^{∞}$$\n",
        "Khi $t \\to ∞ , t^{1-\\alpha} \\to 0$ vì $\\left(\\alpha >1\\right)$, do đó:\n",
        "\n",
        "$$F(x) = 1 - C\\left(0 - \\frac{x^{1- \\alpha}}{1-\\alpha} \\right)$$\n",
        "\n",
        "$$=> F(x) = 1 + C\\frac{x^{1-\\alpha}}{1-\\alpha}$$\n",
        "\n",
        "Thay hằng số chuẩn hóa $C = \\frac{\\alpha - 1}{x_\\text{min}^{-\\alpha+1}}$ vào:\n",
        "$$ F(x) = 1 - \\left(\\frac{x_\\text{min}}{x}\\right)^{\\alpha -1}$$"
      ]
    },
    {
      "cell_type": "markdown",
      "id": "d32a3787-7674-48fa-9afe-bc36b7b7f8cb",
      "metadata": {
        "id": "d32a3787-7674-48fa-9afe-bc36b7b7f8cb"
      },
      "source": [
        "- Bước 02: các bạn hoàn thành hàm `powerLawCDF` với tham số `x`, `alpha`, và `x_min`"
      ]
    },
    {
      "cell_type": "code",
      "execution_count": 29,
      "id": "965a662a-e213-4684-af7c-8bd87bafa7fc",
      "metadata": {
        "deletable": false,
        "nbgrader": {
          "cell_type": "code",
          "checksum": "505b31291580396d6095e373bea09136",
          "grade": false,
          "grade_id": "cell-8e4c95b26481cc92",
          "locked": false,
          "schema_version": 3,
          "solution": true,
          "task": false
        },
        "id": "965a662a-e213-4684-af7c-8bd87bafa7fc"
      },
      "outputs": [],
      "source": [
        "def powerLawCDF(x, alpha=3.5, x_min=1):\n",
        "    # YOUR CODE HERE\n",
        "    return 1 - (x_min / x)**(alpha - 1)"
      ]
    },
    {
      "cell_type": "code",
      "execution_count": 30,
      "id": "896f35c7-594b-46e6-a0da-9fa4050b7f5b",
      "metadata": {
        "deletable": false,
        "editable": false,
        "nbgrader": {
          "cell_type": "code",
          "checksum": "285fb8d314236b8b1f63b8e2fe4a1d22",
          "grade": true,
          "grade_id": "cell-93e123ee64046c3c",
          "locked": true,
          "points": 1,
          "schema_version": 3,
          "solution": false,
          "task": false
        },
        "id": "896f35c7-594b-46e6-a0da-9fa4050b7f5b"
      },
      "outputs": [],
      "source": [
        "assert adler32(str(powerLawCDF(2, 2, 1)).encode()) == 19136660\n",
        "assert adler32(str(powerLawCDF(10, 2, 1)).encode()) == 19398808\n",
        "assert adler32(str(powerLawCDF(2, 3, 1)).encode()) == 32571595"
      ]
    },
    {
      "cell_type": "markdown",
      "id": "d5eb59a5-e320-4411-a8b7-4ea33a7b672c",
      "metadata": {
        "id": "d5eb59a5-e320-4411-a8b7-4ea33a7b672c"
      },
      "source": [
        "## Task 01: Giả phân phối luật lũy thừa (2đ)"
      ]
    },
    {
      "cell_type": "markdown",
      "id": "c8fb2ffe-ef85-4759-9299-13b372fa3298",
      "metadata": {
        "id": "c8fb2ffe-ef85-4759-9299-13b372fa3298"
      },
      "source": [
        "Gọi $X \\sim \\text{Power law}$, tức là biến ngẫu nhiên $X$ có phân phối luật lũy thừa.\n",
        "\n",
        "Gọi $R$ là một biến ngẫu nhiên, mà $R = F(X)$. Ta có, $R$ phân phối đồng nhất trên khoảng $[0, 1]$. Nếu các bạn tò mò lý do tại sao? [Xem chứng minh](https://en.wikipedia.org/wiki/Probability_integral_transform#Proof).\n",
        "\n",
        "Điều này có nghĩa là chúng ta dễ dàng phát sinh các con số giả ngẫu nhiên (pseudorandom) phân phối đồng nhất và sau đó biến đổi chúng về luật lũy thừa. Ok, bây giờ ta cần tìm một biểu thức cho $x = F^{-1}(r)$, trong đó $r$ là một quan sát từ phân phối đồng nhất trên khoảng $[0,1]$.\n",
        "\n",
        "Bạn cần đưa ra một dạng giải tích của $F^{-1}(r)$ và viết một hàm `powerLawPPF` (hàm phần trăm từng điểm, percent point function, còn được gọi là một phân vị - quantile) với các tham số bao gồm `r`, `alpha` và `x_min`."
      ]
    },
    {
      "cell_type": "markdown",
      "id": "7d5148f2-e995-415a-b317-9f03429f7148",
      "metadata": {
        "deletable": false,
        "editable": false,
        "nbgrader": {
          "cell_type": "markdown",
          "checksum": "9188c514f3d8f830614f7d3b90cd3a85",
          "grade": false,
          "grade_id": "cell-e5584600cb12bdaf",
          "locked": true,
          "points": 1,
          "schema_version": 3,
          "solution": false,
          "task": true
        },
        "id": "7d5148f2-e995-415a-b317-9f03429f7148"
      },
      "source": [
        "YOUR ANSWER HERE\n",
        "\n",
        "Tính hàm ngược của CDF\n",
        "Ta có:\n",
        "$$F(x) = 1 - \\left(\\frac{x_\\text{min}}{x}\\right)^{\\alpha - 1}$$\n",
        "Chúng ta muốn tính hàm ngược của $F^{-1}(r)$ cho $r \\in [0,1]$:\n",
        "* Đặt $F(x) = r$:\n",
        "\n",
        "$$r = 1 - \\left(\\frac{x_\\text{min}}{x}\\right)^{\\alpha -1}$$\n",
        "\n",
        "* Giải phương trình cho $x$:\n",
        "\n",
        "\\begin{align*}\n",
        "r &= 1 - \\left(\\frac{x_\\text{min}}{x}\\right)^{\\alpha -1} \\\\\n",
        "&\\Leftrightarrow \\left(\\frac{x_\\text{min}}{x}\\right)^{\\alpha -1} = 1 - r \\\\\n",
        "&\\Leftrightarrow \\left(\\frac{x_\\text{min}}{x}\\right) = (1-r)^{\\frac{1}{\\alpha -1}} \\\\\n",
        "&\\Rightarrow x = x_\\text{min}(1-r)^{-\\frac{1}{\\alpha -1}}\n",
        "\\end{align*}\n",
        "\n",
        "Vậy kết quả hàm ngược của F là:\n",
        "\n",
        "$$F^{-1}(r) = x_\\text{min}(1-r)^{-\\frac{1}{\\alpha -1}} $$"
      ]
    },
    {
      "cell_type": "code",
      "execution_count": 31,
      "id": "7c3642b1-2adb-492e-b606-6d44196c2d22",
      "metadata": {
        "deletable": false,
        "nbgrader": {
          "cell_type": "code",
          "checksum": "fd59b569d73eca8229d4169a019a3caa",
          "grade": false,
          "grade_id": "cell-29f78d4a9984a39c",
          "locked": false,
          "schema_version": 3,
          "solution": true,
          "task": false
        },
        "id": "7c3642b1-2adb-492e-b606-6d44196c2d22"
      },
      "outputs": [],
      "source": [
        "def powerLawPPF(r, alpha=3.5, x_min=1):\n",
        "    # YOUR CODE HERE\n",
        "    if np.any(r < 0) or np.any(r > 1):\n",
        "        raise ValueError(\"r must be in the range [0, 1]\")\n",
        "    return x_min * (1 - r)**(-1 / (alpha - 1))"
      ]
    },
    {
      "cell_type": "code",
      "execution_count": 32,
      "id": "7c7f9aa7-1efa-4400-80b4-abc4f6c917fd",
      "metadata": {
        "deletable": false,
        "editable": false,
        "nbgrader": {
          "cell_type": "code",
          "checksum": "7a311716fafa16f13a5a0a8d4bb5e05b",
          "grade": true,
          "grade_id": "cell-ea559f85f38884bb",
          "locked": true,
          "points": 1,
          "schema_version": 3,
          "solution": false,
          "task": false
        },
        "id": "7c7f9aa7-1efa-4400-80b4-abc4f6c917fd"
      },
      "outputs": [],
      "source": [
        "# Test\n",
        "assert adler32(str(round(powerLawPPF(0.5, 2, 1), 2)).encode()) == 19202193\n",
        "assert adler32(str(round(powerLawPPF(0.9, 2, 1), 2)).encode()) == 31719616\n",
        "assert adler32(str(round(powerLawPPF(0.96, 3, 1), 2)).encode()) == 19792020"
      ]
    },
    {
      "cell_type": "code",
      "execution_count": 33,
      "id": "1ae85258-fac6-4e4b-89d7-a295bd32ecfb",
      "metadata": {
        "id": "1ae85258-fac6-4e4b-89d7-a295bd32ecfb",
        "outputId": "7eb18f25-c8cf-4626-9968-7d0ba2a55236",
        "colab": {
          "base_uri": "https://localhost:8080/",
          "height": 452
        }
      },
      "outputs": [
        {
          "output_type": "display_data",
          "data": {
            "text/plain": [
              "<Figure size 640x480 with 1 Axes>"
            ],
            "image/png": "[encoded data removed]"
          },
          "metadata": {}
        }
      ],
      "source": [
        "# Visualization\n",
        "x_space = np.linspace(0, 0.999, 100)\n",
        "plt.plot(x_space, powerLawPPF(x_space))\n",
        "plt.title('Power Law PPF');"
      ]
    },
    {
      "cell_type": "markdown",
      "id": "7080f38d-35f6-48fa-a127-37c44dbeeb3f",
      "metadata": {
        "id": "7080f38d-35f6-48fa-a127-37c44dbeeb3f"
      },
      "source": [
        "Và bây giờ, ta có thể phát sinh các quan trắc từ phân phối lũy thừa bằng các bước như sau\n",
        "- Bước 1: Phát sinh quan trắc từ phân phối đồng nhất trên khoảng $[0, 1]$\n",
        "- Bước 2: Tính toán giá trị PPF của quan trắc cho trước."
      ]
    },
    {
      "cell_type": "code",
      "execution_count": 34,
      "id": "63a66cd9-556e-4bc5-8cb6-a7fc6bd78658",
      "metadata": {
        "id": "63a66cd9-556e-4bc5-8cb6-a7fc6bd78658"
      },
      "outputs": [],
      "source": [
        "def powerLawGenerate(n, alpha=3.5, x_min=1, random_seed=1):\n",
        "    np.random.seed(random_seed) # gán seed cho bộ random của numpy\n",
        "    uni_sample = np.random.uniform(0, 0.999, n) # phát sinh n quan trắc trên khoảng [0, 0.999].\n",
        "    return powerLawPPF(uni_sample, alpha, x_min)"
      ]
    },
    {
      "cell_type": "code",
      "execution_count": 35,
      "id": "e3010968-f67a-4644-87ab-814a416d24ec",
      "metadata": {
        "id": "e3010968-f67a-4644-87ab-814a416d24ec"
      },
      "outputs": [],
      "source": [
        "# Thiết lập một số tham số\n",
        "alpha = 3.5\n",
        "x_min = 1\n",
        "x_train = powerLawGenerate(1000, alpha, x_min)\n",
        "x_space = np.linspace(1, 15, 100)"
      ]
    },
    {
      "cell_type": "markdown",
      "id": "2cd4e6e4-2dad-47c1-b05f-f7e2b5a43780",
      "metadata": {
        "id": "2cd4e6e4-2dad-47c1-b05f-f7e2b5a43780"
      },
      "source": [
        "Và đây là biểu đồ historgram của mẫu đã được phát sinh."
      ]
    },
    {
      "cell_type": "code",
      "execution_count": 36,
      "id": "be604200-2054-477d-8457-d130321d5634",
      "metadata": {
        "id": "be604200-2054-477d-8457-d130321d5634",
        "outputId": "32daeeb9-e862-4670-f9bd-befff6ff8f5f",
        "colab": {
          "base_uri": "https://localhost:8080/",
          "height": 430
        }
      },
      "outputs": [
        {
          "output_type": "display_data",
          "data": {
            "text/plain": [
              "<Figure size 640x480 with 1 Axes>"
            ],
            "image/png": "[encoded data removed]"
          },
          "metadata": {}
        }
      ],
      "source": [
        "# Visualization\n",
        "hist, bin_edges = np.histogram(x_train, bins=200, density=True)\n",
        "bin_centers = (bin_edges[1:] + bin_edges[:-1]) / 2\n",
        "plt.scatter(bin_centers[hist > 0], hist[hist > 0], s=10)\n",
        "plt.plot(x_space, powerLawPDF(x_space, alpha, x_min),  label='Theoretical PDF', c='tab:orange')\n",
        "plt.legend()\n",
        "plt.xlim(1, 10)\n",
        "plt.show()"
      ]
    },
    {
      "cell_type": "markdown",
      "id": "c03d81e9-e449-40da-9358-522008a83e72",
      "metadata": {
        "id": "c03d81e9-e449-40da-9358-522008a83e72"
      },
      "source": [
        "Và đây là biểu đồ histogram của mẫu đã được phát sinh và đã được log-log scale."
      ]
    },
    {
      "cell_type": "code",
      "execution_count": 37,
      "id": "2c0978e3-3756-4b43-83bc-1111bf38e41e",
      "metadata": {
        "id": "2c0978e3-3756-4b43-83bc-1111bf38e41e",
        "outputId": "6b2d066c-c0ce-4c05-e1cf-103985a245c1",
        "colab": {
          "base_uri": "https://localhost:8080/",
          "height": 434
        }
      },
      "outputs": [
        {
          "output_type": "display_data",
          "data": {
            "text/plain": [
              "<Figure size 640x480 with 1 Axes>"
            ],
            "image/png": "[encoded data removed]"
          },
          "metadata": {}
        }
      ],
      "source": [
        "hist, bin_edges = np.histogram(x_train, bins=200, density=True)\n",
        "bin_centers = (bin_edges[1:] + bin_edges[:-1]) / 2\n",
        "plt.scatter(bin_centers, hist, s=10)\n",
        "plt.plot(x_space, powerLawPDF(x_space, alpha, x_min), label='Theoretical PDF', c='tab:orange')\n",
        "plt.legend()\n",
        "plt.xscale('log')\n",
        "plt.yscale('log')\n",
        "plt.xlim(1, 10)\n",
        "plt.show()"
      ]
    },
    {
      "cell_type": "markdown",
      "id": "d2a9cb1e-3b4b-433f-87d9-277cd87dacb9",
      "metadata": {
        "id": "d2a9cb1e-3b4b-433f-87d9-277cd87dacb9"
      },
      "source": [
        "Bạn có nhận xét gì?"
      ]
    },
    {
      "cell_type": "markdown",
      "id": "1bb07d0b-5a25-44a7-ab19-300c723232cc",
      "metadata": {
        "deletable": false,
        "nbgrader": {
          "cell_type": "markdown",
          "checksum": "7304ecfc431a7951692accaa028fd74b",
          "grade": true,
          "grade_id": "cell-7b0e590270deab7a",
          "locked": false,
          "points": 0,
          "schema_version": 3,
          "solution": true,
          "task": false
        },
        "id": "1bb07d0b-5a25-44a7-ab19-300c723232cc"
      },
      "source": [
        "YOUR ANSWER HERE\n",
        "\n",
        "* **Histogram của mẫu được phát sinh**:\n",
        "  * Trục x đại diện cho mẫu thử từ phân phối luật lũy thừa,trục y đại diện cho hàm mật độ xác suất (pdf - Probability Density Function)\n",
        "  * Đường màu cam biểu thị hàm mật độ xác suất tính theo lí thuyết của phân phối lũy thừa, các chấm xanh là các giá trị mẫu từ phân phối tạo ra.\n",
        "  * Nhìn chung, các điểm dữ liệu màu xanh và đường lý thuyết khá khớp nhau ở phía bên trái (tại các giá trị nhỏ). Ở phía bên phải, khi giá trị tăng lên, có ít điểm dữ liệu hơn do tính chất phân phối của luật lũy thừa với sự giảm dần xác suất xuất hiện các giá trị lớn.\n",
        "* **Histogram log-log scale**:\n",
        "  * Trục x và y của biểu đồ đã được biến đổi thành log-log scale để trực quan hóa rõ hơn các giá trị của phân phối lũy thừa.\n",
        "  * Đường màu cam lý thuyết và các điểm dữ liệu cho thấy một mối quan hệ tuyến tính, đặc trưng của phân phối luật lũy thừa khi biểu diễn trên log-log scale.\n",
        "  * Trên log-log scale, sự khớp giữa mẫu và lý thuyết tốt hơn ở toàn bộ miền giá trị của x, vì phân phối lũy thừa có dạng đường thẳng trên không gian log-log.\n",
        "\n"
      ]
    },
    {
      "cell_type": "markdown",
      "id": "ec68d95b-365c-421e-8549-8e847ba38198",
      "metadata": {
        "id": "ec68d95b-365c-421e-8549-8e847ba38198"
      },
      "source": [
        "## Task 02: Ước lượng của $\\alpha$ với linear binning (2đ)"
      ]
    },
    {
      "cell_type": "markdown",
      "id": "fa110f2b-5f66-4777-8d93-2633ed8b375b",
      "metadata": {
        "id": "fa110f2b-5f66-4777-8d93-2633ed8b375b"
      },
      "source": [
        "Cho trước các quan trắc từ phân phối lũy thừa, ta sẽ cố gắng ước lượng $\\alpha$. Cách dễ nhất là thử vẽ PDF thực nghiệm với linear binning trong dạng log-log scale (log scale cả hai trục tung-hoành) và sau đó sử dụng linear regression (quá dễ với các bạn đã làm được bài tập đầu tiên của Nhập môn Học máy - Hồi quy tuyến tính, nhưng ở đây không cần các bạn phải implement lại LR).\n",
        "\n",
        "Nói thêm, linear binning có nghĩa là chúng ta giữ độ rộng của bin cố định.\n",
        "\n",
        "Trong phần này, các bạn viết và hoàn thành hàm `alphaLRegBins` mà đầu vào của nó gồm một tập huấn luyện, số lượng bin tuyến tính và trả về một ước lượng cho $\\alpha$.\n",
        "\n",
        "Mình nghĩ chắc là sẽ có kiểm định cho $\\alpha$ nhưng mà chúng ta chỉ dừng lại việc đưa ra con số thôi. Việc này sẽ để dành cho khóa sau =)))"
      ]
    },
    {
      "cell_type": "markdown",
      "id": "3529f544-c519-4dbd-91e5-55d3e7d33fe8",
      "metadata": {
        "id": "3529f544-c519-4dbd-91e5-55d3e7d33fe8"
      },
      "source": [
        "Gợi ý:\n",
        "- Lấy log cả hai phía của đẳng thức $p(x) = Cx^{-\\alpha}$\n",
        "- Để tính một PDF thực nghiệm, sử dụng `np.histogram(x_train, bins=bins, density=True)`\n",
        "- Để tính toán giả nghịch đảo ma trận (pseudoinverse matrix), sử dụng `np.linalg.pinv`\n",
        "- Sử dụng hồi quy tuyến tính để khớp dữ liệu bằng cách dùng `sklearn.linear.LinearRegression`"
      ]
    },
    {
      "cell_type": "code",
      "execution_count": 46,
      "id": "d214c71c-5cfa-427f-892a-fd32b148a058",
      "metadata": {
        "deletable": false,
        "nbgrader": {
          "cell_type": "code",
          "checksum": "fc02645e80261143feb99b0905bb621d",
          "grade": false,
          "grade_id": "cell-6f02cc47973f3f1c",
          "locked": false,
          "schema_version": 3,
          "solution": true,
          "task": false
        },
        "id": "d214c71c-5cfa-427f-892a-fd32b148a058"
      },
      "outputs": [],
      "source": [
        "def alphaLRegBins(x_train, bins):\n",
        "    # YOUR CODE HERE\n",
        "    # log(p(x)) = log(C) - alpha*log(x)\n",
        "    \"\"\"\n",
        "    Args:\n",
        "      x_train (np.ndarray)\n",
        "      bins (int): the number of bins\n",
        "    Returns:\n",
        "      alpha_estimate (float): the estimated alpha\n",
        "    \"\"\"\n",
        "\n",
        "    hist, bin_edges = np.histogram(x_train, bins=bins, density=True)\n",
        "    bin_centers = (bin_edges[1:] + bin_edges[:-1]) * 0.5\n",
        "\n",
        "    log_bin_centers = np.log(bin_centers)\n",
        "    log_pdf = np.log(hist)\n",
        "\n",
        "    lin_reg = LinearRegression()\n",
        "    lin_reg.fit(log_bin_centers.reshape(-1, 1), log_pdf)\n",
        "\n",
        "    return -lin_reg.coef_[0]"
      ]
    },
    {
      "cell_type": "code",
      "source": [
        "# My cell for testing:\n",
        "x_train = powerLawGenerate(1000, x_min=1, alpha=2)"
      ],
      "metadata": {
        "id": "5yyQe1gfn_eu",
        "outputId": "dfd8b34b-230e-4bd0-fd99-d9e6efa0e627",
        "colab": {
          "base_uri": "https://localhost:8080/"
        }
      },
      "id": "5yyQe1gfn_eu",
      "execution_count": 49,
      "outputs": [
        {
          "output_type": "stream",
          "name": "stdout",
          "text": [
            "[  1.71410446   3.56638683   1.00011427   1.43272683   1.171796\n",
            "   1.10162035   1.22861285   1.52721925   1.65664591   2.16580501\n",
            "   1.72050505   3.16991654   1.25667261   8.1459307    1.02812984\n",
            "   3.02844047   1.71493493   2.26311489   1.16312415   1.24673261\n",
            "   4.998596    30.57478842   1.45583878   3.24286069   8.03295201\n",
            "   9.40840485   1.09284741   1.04059976   1.20432679   8.14759272\n",
            "   1.10895295   1.72618113  23.21890163   2.13964212   3.23818716\n",
            "   1.46028062   3.18283233   6.01652304   1.01860999   3.99033016\n",
            "  82.45537473   3.95910229   1.38920445   4.72790994   1.11497982\n",
            "   1.80977666  10.83269961   1.41506871   1.40348427   1.14929126\n",
            "   1.01972931   3.1071021    1.26809651   1.36106478   1.9649515\n",
            "   1.05631108   2.34490498   1.17175853   2.43141129   3.32290607\n",
            "   1.11387363   1.70544255   3.26483447   1.70580084   1.05252467\n",
            "   2.15220622   2.96851167   2.05919876  17.7462797    2.41527508\n",
            "  10.25625387   1.15920153   1.16162512   5.17020034   1.6591429\n",
            "   1.1978757   13.62046579   1.5323747    4.0009809    3.63996372\n",
            "   8.50504922   2.65286142   4.00306621   1.53503591   1.36922148\n",
            "   9.52293269   1.74722265  27.6818196    2.96540607   2.63903787\n",
            "   1.12947286  19.43248192   1.81640577   2.36860869   1.68841533\n",
            "   1.31025529  10.25390105   2.34250083   1.0028757    2.60775075\n",
            "   1.48438044   2.11207089   8.69990054   1.55499832  10.82562914\n",
            "   2.65066904   1.01605924  13.98753922   3.22795169 272.14791443\n",
            "   1.20797481   1.15874669  14.63333278   3.29078722   1.07058836\n",
            "   4.07676698   4.05058881  12.83721948   3.4579729    1.1417437\n",
            "   1.02026268   1.02688885   1.02910111   1.32619813   7.10065494\n",
            "   2.16587216   2.23348473   6.29678755   1.14161655   1.38677886\n",
            "   2.41064645  31.87368085   2.27515336   1.01898226   4.99580452\n",
            "   1.30334136   5.16257172   1.63258052   7.28217094   3.94282153\n",
            "   2.25065041   1.15783459   1.06366885   1.13794397   1.0465805\n",
            "   1.12030588   1.29112829   3.47555286   2.26838262   1.01270276\n",
            "   1.07747278  29.6815646    2.31231175   1.25484675   1.33702963\n",
            "   3.89229291   1.24259731   2.38536854  32.31014545   6.49274645\n",
            "   1.315111     1.97346068   2.62698699   5.81909319   1.18572567\n",
            "   1.01890852   1.07521346   1.94499086   2.53628879   2.31633\n",
            "   1.46422542  80.8246589    2.37623089   1.6122818    2.22418579\n",
            "   3.91525963   3.01717066   1.35990523   1.07097169   1.58658162\n",
            "   2.69605576   1.26576484   4.03230356   1.07120279   1.3514514\n",
            "   5.10073464   1.23952731   2.76871347   2.10148331  13.13769768\n",
            "   1.35691373   1.07054361   3.76408092   4.37456517  10.74206585\n",
            "  14.50118052   1.01413462   1.30570074   2.6052629   19.25569216\n",
            "  19.69509749   2.25274205  11.72205737   2.78493074   1.63831751\n",
            "   1.94365226   2.52338021   2.2172869   13.37886523  12.16762641\n",
            "   1.65147512  26.52468246   1.2103339    1.14443082   1.15599463\n",
            "   2.02084095   1.02197583  18.87584562   5.75666648   1.01523251\n",
            "   1.21362178   1.49640454   1.15057037   5.2268779    1.52530151\n",
            "  16.43854753   2.38909901   8.19357501   6.40572768  10.46977091\n",
            "   1.84986628   2.20167555   4.94572041   1.39944916   1.95987458\n",
            "   2.49072949   1.01576234   2.45632607   1.76442359   5.16937906\n",
            "   1.45970391   9.25890089   2.3656285    1.22522922   4.69795231\n",
            "   2.57346699   1.05692086   1.72346485   3.10935381  12.14818495\n",
            "   1.00040178  41.29226605   1.60308751  36.77789565   2.52596302\n",
            "   5.8145269    2.34817186   2.68418993   1.39917027   2.41689803\n",
            "   3.98838172   7.01535421   4.07045313   3.30424705   7.33218197\n",
            "   1.47570615   3.031387     1.81958145   1.61739188   1.69606668\n",
            "   1.66966679   1.46427154   2.64059483   1.75382297  36.80296452\n",
            "   3.09715551   1.24746036   1.74299324   1.52207672   4.92225702\n",
            "   8.2725501   10.30270521   2.95907971   1.36974678   1.33710278\n",
            "   6.85133503   2.11500076   5.03420549   2.33599029   3.73705181\n",
            "   2.07681135   4.34996375   2.31636513   1.87001233   1.52055691\n",
            "   1.07312388   1.60654508   1.08642093  55.04879051   1.22164447\n",
            "   5.29231686   7.94197172   3.20230401   2.3197815    1.19162592\n",
            "   1.87410913   1.52631414   1.2900145    2.45049604   1.45339873\n",
            "  11.81882888  10.95600925   1.3456436    1.12458161   1.23880395\n",
            "   1.99634504   3.67453986   1.26260433   1.32940808   6.70332056\n",
            "   1.71066751   2.60463049   1.30451652   1.11341872   2.06330705\n",
            "   1.91081773   1.17996742   2.63980699   2.19041788   2.88586305\n",
            "   1.16877181   4.01245932   1.28506144   2.07827824   4.64060234\n",
            "   1.0228171    1.47937331   7.8155196    6.40470969   2.16404384\n",
            "   7.44832719  19.55270656   5.73330688   6.81483612   1.10944037\n",
            "   2.86248366   3.36489007   2.56167601   4.97056547   1.0357721\n",
            "   4.33780191   3.71742889   1.3503271    1.34555497   2.71496417\n",
            "   1.52660607   4.89696994   1.80407749   4.58645464  95.06888928\n",
            "   1.4284655    1.1666744   10.04087922   2.17873382  38.11793531\n",
            "   2.74700971 141.2252166    2.20033976   2.10925746   1.15646039\n",
            "   1.55122806   1.02689684   1.19080903   3.9199016    1.03132047\n",
            "   1.57772643   7.21937773   3.24659555   3.22842251   1.23220718\n",
            "   1.79038969   2.38661109  88.9834562    1.25581177   1.32887746\n",
            "   1.35485      3.99077717   1.83998853   1.06030204   2.03255224\n",
            "   1.26863016   4.94573638   1.42254401   1.02836054   2.45603101\n",
            "   6.36928835   1.61455713   3.98578593   2.04344502   2.17585643\n",
            "  24.0818127    5.08018902   1.03336823   3.43262621   1.86754086\n",
            "  18.72708009   1.28404534   1.36389355   1.08860421   1.7488333\n",
            "   1.12222078   2.72593187   5.05459657   3.29059612   4.26339547\n",
            "   1.52001479   6.45184732   1.74929156   5.65565629   2.67286531\n",
            "   1.167242     1.08496174   1.01865598   1.07141894   1.84544484\n",
            "   1.12768632   1.02854793   4.06680326   1.65140665   3.93997926\n",
            "   1.8246591    1.81698149   1.91422157   1.89944318   5.05970909\n",
            "   1.6722132   10.39300895   1.03844747   4.40723695   1.14353116\n",
            "   2.61708206   1.01046222   2.1649176    1.00302406  20.09750978\n",
            "  10.47083488   4.88212059  11.67665642   1.17015543   1.18704554\n",
            "   1.23068447   2.64461695  10.51565474  90.62258498   3.45317385\n",
            "   3.71842051  10.91511343   1.6679812    1.33262407   1.20956535\n",
            "   1.1355089    5.31343918   1.17184604   1.35875692   5.5026715\n",
            "   1.4498567   53.86489175   1.36308877   2.14187658   1.45805017\n",
            "  11.09410734   1.57776011   1.76416232   2.04825861  16.11540977\n",
            "   1.03190448   3.52313377   9.10149457   1.02802387   2.08999168\n",
            "   1.48293986   7.07362813   2.26222865   3.22100238   1.82615263\n",
            "   2.68586688   1.40806746   1.00942727   2.35948767   1.45165854\n",
            "   2.06932371  11.83284178   1.74230693   1.32828345   1.58962918\n",
            "  14.47790968  15.6082974    6.38918923  12.38947163   1.29478732\n",
            "   1.095764     1.29379902   1.45785822   1.21152075   2.54121255\n",
            "   1.70407924   5.4210873    1.22691147   3.34643634   1.31598907\n",
            "   2.34546257   1.53524605   1.0603413    1.29631886   2.97122475\n",
            "   1.98709518   2.07683012   1.21145371   2.3263666  235.66407048\n",
            "   5.43532241   2.46170965  40.02093777  10.06654207   2.46921095\n",
            "   1.03347839   1.1031239    1.06986925   1.8224278    1.60015207\n",
            "  39.02390937   1.20165633  35.47961888   4.28646247   5.66295032\n",
            "   2.71726726   3.01262928   1.90987473   1.01329773   1.54476675\n",
            "   1.96687673   3.6949606    1.88026373   1.84144262   1.159454\n",
            "   1.01099747   4.12405117   1.46979473  60.23757728   1.28207428\n",
            "   1.51141721   2.09807335   4.06729859   1.86356444   1.14246247\n",
            "   1.45388751   2.01618859   3.05974294   4.33613373   1.14969678\n",
            "   1.02342855   2.07711601   5.24050572   1.01275172   3.04689824\n",
            "   3.18594533   1.81421531  11.61088192   2.80675537   1.00526214\n",
            "   1.93777426   7.06506514   5.86748303   2.84499103   3.05833523\n",
            "   2.36922517   1.3771177    2.27256954   3.04005012   1.54339375\n",
            "   6.89524585   1.24199295   3.94591709   1.40708948   4.40578103\n",
            "   1.74614414   5.17841479   1.54602834   1.27142275   4.28297118\n",
            "   1.44578307   3.73848299   3.90211437   1.28398599   1.27209959\n",
            "   1.24804833   1.1660119    1.60437807   1.02732822   1.12461834\n",
            "   3.06644489   4.97454922   1.08748726   1.30118641   1.26169916\n",
            "  11.9640451    3.45546327   2.2387929    1.43722242   6.024793\n",
            "   1.7695064   12.90868225   3.3938082    1.91407077   1.1442746\n",
            "  40.10830352   1.19001409   1.25376053   1.75669918   1.67728304\n",
            "   1.17178995   3.6844572    1.23237142   2.80309713   4.05764526\n",
            "   1.2666592    2.50221004   3.97108174   2.75923337   2.4785001\n",
            "   1.41881566   3.7157436   17.97369313   1.73954136   4.57455778\n",
            "   1.05941731   6.03997245   1.23771225   1.65207819   1.42812456\n",
            "   1.08698433  10.38706051   1.58675761   2.12841467   1.97480992\n",
            "   1.1521122    1.25983872   1.08238301   2.03010144   1.35370754\n",
            "   1.55449568   1.12102252   4.68964598   1.11916574  65.45837013\n",
            "   1.21504321   2.33553571   1.04690171   4.68009609   1.23367895\n",
            "   2.11584718   3.83637795   1.17616832   2.22487272   1.27616227\n",
            "   4.13970431   3.59961197   1.21414108   7.19966202   1.02015346\n",
            "   7.11120013   2.26421028   1.67452928   4.13202965   3.52375807\n",
            "  73.2002723    1.38467134   1.0038043   14.91840506   6.99492485\n",
            "   3.67812069   2.06685061   3.40424708   4.54027507   1.59872375\n",
            "   4.33937756   3.99798014   2.58129798   1.67074344   3.29609527\n",
            "   1.00311945   4.42716375   9.57122683   1.31419237   1.13719898\n",
            "   1.282156     1.43224336   8.48503732   2.18638142   1.40139427\n",
            "   1.16038403   1.40816177   2.58569791   1.47888389   1.8412911\n",
            "   1.79750395   5.79063022   1.74192298   1.52754108   3.07027836\n",
            "   1.28412658   1.87539352   1.45868477   2.67543314   8.09605904\n",
            "   1.8091077    4.62263065   1.83995597   2.90337371   1.1516878\n",
            "   1.76226522  10.91734959   2.5308352    4.27364696   2.01692567\n",
            "   1.99027777   6.33139564   1.07266113   2.34027067  17.18798184\n",
            "   2.07186121   1.24111262   6.5398568    1.33580458   3.33361458\n",
            "   2.1725938   19.18923634   2.65754149   6.14024255   1.00798825\n",
            "  85.84218648   1.08417168   1.47450735  18.25025433   1.00901063\n",
            "   5.61505251   7.16078092   1.78377438   1.34316431   5.04762001\n",
            "   1.91345132   1.15500685  13.68384855   9.53052601   1.96484347\n",
            "   6.93701577   1.71868392   3.15240062   1.6600063    2.02116677\n",
            "   1.23359648  27.79625857   1.41627306   1.11526995   1.16845783\n",
            "   1.01427923   3.51160282   2.2932299    4.8492789    2.0266416\n",
            "   4.78535799   3.27942451   4.48572565   1.6837182    2.83384752\n",
            "   1.21893915   1.47383532   1.20835994   1.68984168   1.31783095\n",
            "   1.68496276  38.8306086    1.47058609  54.07876668   2.744763\n",
            "   1.5992731    6.97481466   2.62444565   1.33650718   4.80914482\n",
            "   1.76213183   1.55558169   1.4924185    3.2967559    1.36683253\n",
            "   5.19398861   1.41842665   2.19095132   1.95096663   6.87290212\n",
            "   8.88873466   1.22579072   2.40826387   9.73774699   1.80398316\n",
            "  12.64965125   1.38640856   2.55246817   3.1423937    1.29529908\n",
            "   1.01394555   1.71323009  16.01112067   1.52134079   4.52416119\n",
            "   1.21147741   1.51885864   1.16884303   3.52179694   3.31794158\n",
            "   3.20316545   1.33894375   3.24325476   1.29377863   1.73678794\n",
            "   1.59121699   1.55027368   1.06111734   2.71013712   3.40842417\n",
            "   2.58381312   2.83820347   1.20448663   1.17549887   2.05617836\n",
            "   7.96542328   1.22514411   1.86003698   1.74979169   1.9872494\n",
            "   1.19239148   1.51998368   1.3543135    6.39723297   4.98832516\n",
            "   1.74280554   2.54070492   1.17002875   2.03709004   1.42176754\n",
            "   7.08171677   3.0388374    2.72361223   1.14236958   1.8872101\n",
            "  69.37799     18.99366795   2.81246923   1.17865199   2.76615778\n",
            "   2.2993604    1.88039617   1.74705884   2.49171806   6.62778009\n",
            "   4.00592748   2.37406296  13.11982607   1.06914737 103.68240743\n",
            "   1.05590104   1.24890105   1.73109187   1.12032437   2.65284879\n",
            "   1.05035901   1.39731012   1.0649351    3.36491657   3.01012345\n",
            "   1.60823936   1.23153629   3.94100822   1.51524085   4.86631896\n",
            "   1.95088848   2.10590058   1.0292962    2.80574      1.53918577\n",
            "   1.29697619   1.7650677    1.61834554   1.88437211  46.52000329\n",
            "   1.5723609    4.41765818   2.23321375   8.94790193   1.54942167\n",
            "   1.32498269  11.12448774   1.04546817  19.92138013   2.25149419\n",
            "   1.60253034 168.27283131   1.06191414   2.06692562   1.03206202\n",
            "   2.32885568   1.21994072   2.7051025   49.85728868   7.93824986\n",
            "   1.82276994   3.42175618   4.47810549   1.97764565   2.11866632\n",
            "   1.17734822   1.58486272   1.16560853   3.65185893   1.91035098\n",
            "   1.81300637   8.70412721   2.11457241   1.69113668   1.36728415\n",
            "   1.07751657   1.71738092   1.02640712   1.41016433   2.01209673\n",
            "  28.54462269   1.12267911   3.05220504   1.99773233   4.470695\n",
            "   1.16749242   1.09065459   1.66339363   4.90593579   1.236834\n",
            "   4.29201892   1.40846598   1.27660867   1.01698246   1.66184842\n",
            "   1.61472737   2.92984994   1.07624957   1.17987332   1.01683813\n",
            "   1.12826393   2.86645874   1.67295193   1.4721151    2.25914204\n",
            " 132.74928316   6.01149497   3.32141564  12.0977982    1.0413293\n",
            "   1.07557311   1.8994517    1.53566956  15.70223785   1.95723595\n",
            "   2.16971258   9.46656882   1.80566824   8.07476293   1.33927645\n",
            "   1.3765305    1.48816838   2.20758693   1.28190098   3.03727719\n",
            "   1.16638546   1.10376028   7.65237141   1.30998389   1.62765187\n",
            "   2.33084233   2.10648788   1.08219001   7.889659    20.0740664\n",
            "   5.31052771   1.39570854   2.11559147   1.51303626   2.2427189\n",
            "  37.63510831   1.45220337   3.01320818   1.48289021   4.4189674 ]\n"
          ]
        }
      ]
    },
    {
      "cell_type": "code",
      "execution_count": 48,
      "id": "95759238-7519-4535-b9fa-b6c7ec25011e",
      "metadata": {
        "deletable": false,
        "editable": false,
        "nbgrader": {
          "cell_type": "code",
          "checksum": "3019c1b9061f5d37786eb8f310db4943",
          "grade": true,
          "grade_id": "cell-eedf62167ce91ff2",
          "locked": true,
          "points": 2,
          "schema_version": 3,
          "solution": false,
          "task": false
        },
        "id": "95759238-7519-4535-b9fa-b6c7ec25011e",
        "outputId": "47ba517c-8cfb-4350-ec74-722b3283fe3a",
        "colab": {
          "base_uri": "https://localhost:8080/",
          "height": 407
        }
      },
      "outputs": [
        {
          "output_type": "stream",
          "name": "stderr",
          "text": [
            "<ipython-input-46-36c09f8394cf>:16: RuntimeWarning: divide by zero encountered in log\n",
            "  log_pdf = np.log(hist)\n"
          ]
        },
        {
          "output_type": "error",
          "ename": "ValueError",
          "evalue": "Input y contains infinity or a value too large for dtype('float64').",
          "traceback": [
            "\u001b[0;31m---------------------------------------------------------------------------\u001b[0m",
            "\u001b[0;31mValueError\u001b[0m                                Traceback (most recent call last)",
            "\u001b[0;32m<ipython-input-48-e40fa17482ff>\u001b[0m in \u001b[0;36m<cell line: 4>\u001b[0;34m()\u001b[0m\n\u001b[1;32m      2\u001b[0m \u001b[0mbins\u001b[0m \u001b[0;34m=\u001b[0m \u001b[0;36m100\u001b[0m\u001b[0;34m\u001b[0m\u001b[0;34m\u001b[0m\u001b[0m\n\u001b[1;32m      3\u001b[0m \u001b[0mx_train\u001b[0m \u001b[0;34m=\u001b[0m \u001b[0mpowerLawGenerate\u001b[0m\u001b[0;34m(\u001b[0m\u001b[0;36m1000\u001b[0m\u001b[0;34m,\u001b[0m \u001b[0mx_min\u001b[0m\u001b[0;34m=\u001b[0m\u001b[0;36m1\u001b[0m\u001b[0;34m,\u001b[0m \u001b[0malpha\u001b[0m\u001b[0;34m=\u001b[0m\u001b[0;36m2\u001b[0m\u001b[0;34m)\u001b[0m\u001b[0;34m\u001b[0m\u001b[0;34m\u001b[0m\u001b[0m\n\u001b[0;32m----> 4\u001b[0;31m \u001b[0;32massert\u001b[0m \u001b[0madler32\u001b[0m\u001b[0;34m(\u001b[0m\u001b[0mstr\u001b[0m\u001b[0;34m(\u001b[0m\u001b[0mnp\u001b[0m\u001b[0;34m.\u001b[0m\u001b[0mabs\u001b[0m\u001b[0;34m(\u001b[0m\u001b[0malphaLRegBins\u001b[0m\u001b[0;34m(\u001b[0m\u001b[0mx_train\u001b[0m\u001b[0;34m,\u001b[0m \u001b[0mbins\u001b[0m\u001b[0;34m)\u001b[0m\u001b[0;34m)\u001b[0m\u001b[0;34m)\u001b[0m\u001b[0;34m.\u001b[0m\u001b[0mencode\u001b[0m\u001b[0;34m(\u001b[0m\u001b[0;34m)\u001b[0m\u001b[0;34m)\u001b[0m \u001b[0;34m==\u001b[0m \u001b[0;36m586417073\u001b[0m\u001b[0;34m\u001b[0m\u001b[0;34m\u001b[0m\u001b[0m\n\u001b[0m\u001b[1;32m      5\u001b[0m \u001b[0mx_train\u001b[0m \u001b[0;34m=\u001b[0m \u001b[0mpowerLawGenerate\u001b[0m\u001b[0;34m(\u001b[0m\u001b[0;36m1000\u001b[0m\u001b[0;34m,\u001b[0m \u001b[0mx_min\u001b[0m\u001b[0;34m=\u001b[0m\u001b[0;36m1\u001b[0m\u001b[0;34m,\u001b[0m \u001b[0malpha\u001b[0m\u001b[0;34m=\u001b[0m\u001b[0;36m3.5\u001b[0m\u001b[0;34m)\u001b[0m\u001b[0;34m\u001b[0m\u001b[0;34m\u001b[0m\u001b[0m\n\u001b[1;32m      6\u001b[0m \u001b[0;32massert\u001b[0m \u001b[0madler32\u001b[0m\u001b[0;34m(\u001b[0m\u001b[0mstr\u001b[0m\u001b[0;34m(\u001b[0m\u001b[0mnp\u001b[0m\u001b[0;34m.\u001b[0m\u001b[0mabs\u001b[0m\u001b[0;34m(\u001b[0m\u001b[0malphaLRegBins\u001b[0m\u001b[0;34m(\u001b[0m\u001b[0mx_train\u001b[0m\u001b[0;34m,\u001b[0m \u001b[0mbins\u001b[0m\u001b[0;34m)\u001b[0m\u001b[0;34m)\u001b[0m\u001b[0;34m)\u001b[0m\u001b[0;34m.\u001b[0m\u001b[0mencode\u001b[0m\u001b[0;34m(\u001b[0m\u001b[0;34m)\u001b[0m\u001b[0;34m)\u001b[0m \u001b[0;34m==\u001b[0m \u001b[0;36m582943655\u001b[0m\u001b[0;34m\u001b[0m\u001b[0;34m\u001b[0m\u001b[0m\n",
            "\u001b[0;32m<ipython-input-46-36c09f8394cf>\u001b[0m in \u001b[0;36malphaLRegBins\u001b[0;34m(x_train, bins)\u001b[0m\n\u001b[1;32m     17\u001b[0m \u001b[0;34m\u001b[0m\u001b[0m\n\u001b[1;32m     18\u001b[0m     \u001b[0mlin_reg\u001b[0m \u001b[0;34m=\u001b[0m \u001b[0mLinearRegression\u001b[0m\u001b[0;34m(\u001b[0m\u001b[0;34m)\u001b[0m\u001b[0;34m\u001b[0m\u001b[0;34m\u001b[0m\u001b[0m\n\u001b[0;32m---> 19\u001b[0;31m     \u001b[0mlin_reg\u001b[0m\u001b[0;34m.\u001b[0m\u001b[0mfit\u001b[0m\u001b[0;34m(\u001b[0m\u001b[0mlog_bin_centers\u001b[0m\u001b[0;34m.\u001b[0m\u001b[0mreshape\u001b[0m\u001b[0;34m(\u001b[0m\u001b[0;34m-\u001b[0m\u001b[0;36m1\u001b[0m\u001b[0;34m,\u001b[0m \u001b[0;36m1\u001b[0m\u001b[0;34m)\u001b[0m\u001b[0;34m,\u001b[0m \u001b[0mlog_pdf\u001b[0m\u001b[0;34m)\u001b[0m\u001b[0;34m\u001b[0m\u001b[0;34m\u001b[0m\u001b[0m\n\u001b[0m\u001b[1;32m     20\u001b[0m \u001b[0;34m\u001b[0m\u001b[0m\n\u001b[1;32m     21\u001b[0m     \u001b[0;32mreturn\u001b[0m \u001b[0;34m-\u001b[0m\u001b[0mlin_reg\u001b[0m\u001b[0;34m.\u001b[0m\u001b[0mcoef_\u001b[0m\u001b[0;34m[\u001b[0m\u001b[0;36m0\u001b[0m\u001b[0;34m]\u001b[0m\u001b[0;34m\u001b[0m\u001b[0;34m\u001b[0m\u001b[0m\n",
            "\u001b[0;32m/usr/local/lib/python3.10/dist-packages/sklearn/base.py\u001b[0m in \u001b[0;36mwrapper\u001b[0;34m(estimator, *args, **kwargs)\u001b[0m\n\u001b[1;32m   1471\u001b[0m                 )\n\u001b[1;32m   1472\u001b[0m             ):\n\u001b[0;32m-> 1473\u001b[0;31m                 \u001b[0;32mreturn\u001b[0m \u001b[0mfit_method\u001b[0m\u001b[0;34m(\u001b[0m\u001b[0mestimator\u001b[0m\u001b[0;34m,\u001b[0m \u001b[0;34m*\u001b[0m\u001b[0margs\u001b[0m\u001b[0;34m,\u001b[0m \u001b[0;34m**\u001b[0m\u001b[0mkwargs\u001b[0m\u001b[0;34m)\u001b[0m\u001b[0;34m\u001b[0m\u001b[0;34m\u001b[0m\u001b[0m\n\u001b[0m\u001b[1;32m   1474\u001b[0m \u001b[0;34m\u001b[0m\u001b[0m\n\u001b[1;32m   1475\u001b[0m         \u001b[0;32mreturn\u001b[0m \u001b[0mwrapper\u001b[0m\u001b[0;34m\u001b[0m\u001b[0;34m\u001b[0m\u001b[0m\n",
            "\u001b[0;32m/usr/local/lib/python3.10/dist-packages/sklearn/linear_model/_base.py\u001b[0m in \u001b[0;36mfit\u001b[0;34m(self, X, y, sample_weight)\u001b[0m\n\u001b[1;32m    607\u001b[0m         \u001b[0maccept_sparse\u001b[0m \u001b[0;34m=\u001b[0m \u001b[0;32mFalse\u001b[0m \u001b[0;32mif\u001b[0m \u001b[0mself\u001b[0m\u001b[0;34m.\u001b[0m\u001b[0mpositive\u001b[0m \u001b[0;32melse\u001b[0m \u001b[0;34m[\u001b[0m\u001b[0;34m\"csr\"\u001b[0m\u001b[0;34m,\u001b[0m \u001b[0;34m\"csc\"\u001b[0m\u001b[0;34m,\u001b[0m \u001b[0;34m\"coo\"\u001b[0m\u001b[0;34m]\u001b[0m\u001b[0;34m\u001b[0m\u001b[0;34m\u001b[0m\u001b[0m\n\u001b[1;32m    608\u001b[0m \u001b[0;34m\u001b[0m\u001b[0m\n\u001b[0;32m--> 609\u001b[0;31m         X, y = self._validate_data(\n\u001b[0m\u001b[1;32m    610\u001b[0m             \u001b[0mX\u001b[0m\u001b[0;34m,\u001b[0m\u001b[0;34m\u001b[0m\u001b[0;34m\u001b[0m\u001b[0m\n\u001b[1;32m    611\u001b[0m             \u001b[0my\u001b[0m\u001b[0;34m,\u001b[0m\u001b[0;34m\u001b[0m\u001b[0;34m\u001b[0m\u001b[0m\n",
            "\u001b[0;32m/usr/local/lib/python3.10/dist-packages/sklearn/base.py\u001b[0m in \u001b[0;36m_validate_data\u001b[0;34m(self, X, y, reset, validate_separately, cast_to_ndarray, **check_params)\u001b[0m\n\u001b[1;32m    648\u001b[0m                 \u001b[0my\u001b[0m \u001b[0;34m=\u001b[0m \u001b[0mcheck_array\u001b[0m\u001b[0;34m(\u001b[0m\u001b[0my\u001b[0m\u001b[0;34m,\u001b[0m \u001b[0minput_name\u001b[0m\u001b[0;34m=\u001b[0m\u001b[0;34m\"y\"\u001b[0m\u001b[0;34m,\u001b[0m \u001b[0;34m**\u001b[0m\u001b[0mcheck_y_params\u001b[0m\u001b[0;34m)\u001b[0m\u001b[0;34m\u001b[0m\u001b[0;34m\u001b[0m\u001b[0m\n\u001b[1;32m    649\u001b[0m             \u001b[0;32melse\u001b[0m\u001b[0;34m:\u001b[0m\u001b[0;34m\u001b[0m\u001b[0;34m\u001b[0m\u001b[0m\n\u001b[0;32m--> 650\u001b[0;31m                 \u001b[0mX\u001b[0m\u001b[0;34m,\u001b[0m \u001b[0my\u001b[0m \u001b[0;34m=\u001b[0m \u001b[0mcheck_X_y\u001b[0m\u001b[0;34m(\u001b[0m\u001b[0mX\u001b[0m\u001b[0;34m,\u001b[0m \u001b[0my\u001b[0m\u001b[0;34m,\u001b[0m \u001b[0;34m**\u001b[0m\u001b[0mcheck_params\u001b[0m\u001b[0;34m)\u001b[0m\u001b[0;34m\u001b[0m\u001b[0;34m\u001b[0m\u001b[0m\n\u001b[0m\u001b[1;32m    651\u001b[0m             \u001b[0mout\u001b[0m \u001b[0;34m=\u001b[0m \u001b[0mX\u001b[0m\u001b[0;34m,\u001b[0m \u001b[0my\u001b[0m\u001b[0;34m\u001b[0m\u001b[0;34m\u001b[0m\u001b[0m\n\u001b[1;32m    652\u001b[0m \u001b[0;34m\u001b[0m\u001b[0m\n",
            "\u001b[0;32m/usr/local/lib/python3.10/dist-packages/sklearn/utils/validation.py\u001b[0m in \u001b[0;36mcheck_X_y\u001b[0;34m(X, y, accept_sparse, accept_large_sparse, dtype, order, copy, force_writeable, force_all_finite, ensure_2d, allow_nd, multi_output, ensure_min_samples, ensure_min_features, y_numeric, estimator)\u001b[0m\n\u001b[1;32m   1316\u001b[0m     )\n\u001b[1;32m   1317\u001b[0m \u001b[0;34m\u001b[0m\u001b[0m\n\u001b[0;32m-> 1318\u001b[0;31m     \u001b[0my\u001b[0m \u001b[0;34m=\u001b[0m \u001b[0m_check_y\u001b[0m\u001b[0;34m(\u001b[0m\u001b[0my\u001b[0m\u001b[0;34m,\u001b[0m \u001b[0mmulti_output\u001b[0m\u001b[0;34m=\u001b[0m\u001b[0mmulti_output\u001b[0m\u001b[0;34m,\u001b[0m \u001b[0my_numeric\u001b[0m\u001b[0;34m=\u001b[0m\u001b[0my_numeric\u001b[0m\u001b[0;34m,\u001b[0m \u001b[0mestimator\u001b[0m\u001b[0;34m=\u001b[0m\u001b[0mestimator\u001b[0m\u001b[0;34m)\u001b[0m\u001b[0;34m\u001b[0m\u001b[0;34m\u001b[0m\u001b[0m\n\u001b[0m\u001b[1;32m   1319\u001b[0m \u001b[0;34m\u001b[0m\u001b[0m\n\u001b[1;32m   1320\u001b[0m     \u001b[0mcheck_consistent_length\u001b[0m\u001b[0;34m(\u001b[0m\u001b[0mX\u001b[0m\u001b[0;34m,\u001b[0m \u001b[0my\u001b[0m\u001b[0;34m)\u001b[0m\u001b[0;34m\u001b[0m\u001b[0;34m\u001b[0m\u001b[0m\n",
            "\u001b[0;32m/usr/local/lib/python3.10/dist-packages/sklearn/utils/validation.py\u001b[0m in \u001b[0;36m_check_y\u001b[0;34m(y, multi_output, y_numeric, estimator)\u001b[0m\n\u001b[1;32m   1326\u001b[0m     \u001b[0;34m\"\"\"Isolated part of check_X_y dedicated to y validation\"\"\"\u001b[0m\u001b[0;34m\u001b[0m\u001b[0;34m\u001b[0m\u001b[0m\n\u001b[1;32m   1327\u001b[0m     \u001b[0;32mif\u001b[0m \u001b[0mmulti_output\u001b[0m\u001b[0;34m:\u001b[0m\u001b[0;34m\u001b[0m\u001b[0;34m\u001b[0m\u001b[0m\n\u001b[0;32m-> 1328\u001b[0;31m         y = check_array(\n\u001b[0m\u001b[1;32m   1329\u001b[0m             \u001b[0my\u001b[0m\u001b[0;34m,\u001b[0m\u001b[0;34m\u001b[0m\u001b[0;34m\u001b[0m\u001b[0m\n\u001b[1;32m   1330\u001b[0m             \u001b[0maccept_sparse\u001b[0m\u001b[0;34m=\u001b[0m\u001b[0;34m\"csr\"\u001b[0m\u001b[0;34m,\u001b[0m\u001b[0;34m\u001b[0m\u001b[0;34m\u001b[0m\u001b[0m\n",
            "\u001b[0;32m/usr/local/lib/python3.10/dist-packages/sklearn/utils/validation.py\u001b[0m in \u001b[0;36mcheck_array\u001b[0;34m(array, accept_sparse, accept_large_sparse, dtype, order, copy, force_writeable, force_all_finite, ensure_2d, allow_nd, ensure_min_samples, ensure_min_features, estimator, input_name)\u001b[0m\n\u001b[1;32m   1062\u001b[0m \u001b[0;34m\u001b[0m\u001b[0m\n\u001b[1;32m   1063\u001b[0m         \u001b[0;32mif\u001b[0m \u001b[0mforce_all_finite\u001b[0m\u001b[0;34m:\u001b[0m\u001b[0;34m\u001b[0m\u001b[0;34m\u001b[0m\u001b[0m\n\u001b[0;32m-> 1064\u001b[0;31m             _assert_all_finite(\n\u001b[0m\u001b[1;32m   1065\u001b[0m                 \u001b[0marray\u001b[0m\u001b[0;34m,\u001b[0m\u001b[0;34m\u001b[0m\u001b[0;34m\u001b[0m\u001b[0m\n\u001b[1;32m   1066\u001b[0m                 \u001b[0minput_name\u001b[0m\u001b[0;34m=\u001b[0m\u001b[0minput_name\u001b[0m\u001b[0;34m,\u001b[0m\u001b[0;34m\u001b[0m\u001b[0;34m\u001b[0m\u001b[0m\n",
            "\u001b[0;32m/usr/local/lib/python3.10/dist-packages/sklearn/utils/validation.py\u001b[0m in \u001b[0;36m_assert_all_finite\u001b[0;34m(X, allow_nan, msg_dtype, estimator_name, input_name)\u001b[0m\n\u001b[1;32m    121\u001b[0m         \u001b[0;32mreturn\u001b[0m\u001b[0;34m\u001b[0m\u001b[0;34m\u001b[0m\u001b[0m\n\u001b[1;32m    122\u001b[0m \u001b[0;34m\u001b[0m\u001b[0m\n\u001b[0;32m--> 123\u001b[0;31m     _assert_all_finite_element_wise(\n\u001b[0m\u001b[1;32m    124\u001b[0m         \u001b[0mX\u001b[0m\u001b[0;34m,\u001b[0m\u001b[0;34m\u001b[0m\u001b[0;34m\u001b[0m\u001b[0m\n\u001b[1;32m    125\u001b[0m         \u001b[0mxp\u001b[0m\u001b[0;34m=\u001b[0m\u001b[0mxp\u001b[0m\u001b[0;34m,\u001b[0m\u001b[0;34m\u001b[0m\u001b[0;34m\u001b[0m\u001b[0m\n",
            "\u001b[0;32m/usr/local/lib/python3.10/dist-packages/sklearn/utils/validation.py\u001b[0m in \u001b[0;36m_assert_all_finite_element_wise\u001b[0;34m(X, xp, allow_nan, msg_dtype, estimator_name, input_name)\u001b[0m\n\u001b[1;32m    170\u001b[0m                 \u001b[0;34m\"#estimators-that-handle-nan-values\"\u001b[0m\u001b[0;34m\u001b[0m\u001b[0;34m\u001b[0m\u001b[0m\n\u001b[1;32m    171\u001b[0m             )\n\u001b[0;32m--> 172\u001b[0;31m         \u001b[0;32mraise\u001b[0m \u001b[0mValueError\u001b[0m\u001b[0;34m(\u001b[0m\u001b[0mmsg_err\u001b[0m\u001b[0;34m)\u001b[0m\u001b[0;34m\u001b[0m\u001b[0;34m\u001b[0m\u001b[0m\n\u001b[0m\u001b[1;32m    173\u001b[0m \u001b[0;34m\u001b[0m\u001b[0m\n\u001b[1;32m    174\u001b[0m \u001b[0;34m\u001b[0m\u001b[0m\n",
            "\u001b[0;31mValueError\u001b[0m: Input y contains infinity or a value too large for dtype('float64')."
          ]
        }
      ],
      "source": [
        "# Test\n",
        "bins = 100\n",
        "x_train = powerLawGenerate(1000, x_min=1, alpha=2)\n",
        "assert adler32(str(np.abs(alphaLRegBins(x_train, bins))).encode()) == 586417073\n",
        "x_train = powerLawGenerate(1000, x_min=1, alpha=3.5)\n",
        "assert adler32(str(np.abs(alphaLRegBins(x_train, bins))).encode()) == 582943655\n",
        "x_train = powerLawGenerate(1000, x_min=1, alpha=10)\n",
        "assert adler32(str(np.abs(alphaLRegBins(x_train, bins))).encode()) == 523371384"
      ]
    },
    {
      "cell_type": "markdown",
      "id": "0baebdb5-1d59-4e0b-b6dd-e68f7f524403",
      "metadata": {
        "id": "0baebdb5-1d59-4e0b-b6dd-e68f7f524403"
      },
      "source": [
        "Trực quan hóa bằng biểu đồ"
      ]
    },
    {
      "cell_type": "code",
      "execution_count": null,
      "id": "cfe9d523-4c37-4204-9bc2-e3f0d9c5d2d5",
      "metadata": {
        "id": "cfe9d523-4c37-4204-9bc2-e3f0d9c5d2d5"
      },
      "outputs": [],
      "source": [
        "x_min = 1\n",
        "alpha = 3.5\n",
        "bins = 100\n",
        "\n",
        "x_train = powerLawGenerate(1000, alpha, x_min)\n",
        "hist, bin_edges = np.histogram(x_train, bins=bins, density=True)\n",
        "bin_centers = (bin_edges[1:] + bin_edges[:-1]) / 2\n",
        "plt.scatter(bin_centers, hist, s=10)\n",
        "\n",
        "hat_alpha = alphaLRegBins(x_train, bins)\n",
        "x_space = np.linspace(x_min, x_train.max(), 100)\n",
        "plt.plot(x_space, powerLawPDF(x_space, alpha, x_min), label='Theoretical PDF', c='tab:green')\n",
        "plt.plot(x_space, powerLawPDF(x_space, hat_alpha, x_min), label='Estimated PDF', c='tab:orange')\n",
        "plt.legend()\n",
        "plt.title('Truth alpha = {:.2f}, estimated alpha = {:.2f}'.format(alpha, hat_alpha))\n",
        "plt.xscale('log')\n",
        "plt.yscale('log')\n",
        "plt.show()"
      ]
    },
    {
      "cell_type": "markdown",
      "id": "17c84d5a-d293-4aa1-a328-5ae141f3664d",
      "metadata": {
        "id": "17c84d5a-d293-4aa1-a328-5ae141f3664d"
      },
      "source": [
        "## Task 03: Ước lượng $\\alpha$ với logarithmic binning (2đ)"
      ]
    },
    {
      "cell_type": "markdown",
      "id": "8ffa8444-4ef7-43f0-b768-762a2897ebf9",
      "metadata": {
        "id": "8ffa8444-4ef7-43f0-b768-762a2897ebf9"
      },
      "source": [
        "Như chúng ta đã thấy việc ước lượng với linear binning là tương đối chưa chính xác. Với kỹ thuật này, logarithmic binning, chúng ta để kích thước bin tăng theo một giá trị nào đó. Việc này đảm bảo rằng mỗi bin có một số lượng quan trắc tương đương nhau."
      ]
    },
    {
      "cell_type": "markdown",
      "id": "636c87a1-9988-494d-98ef-a8bd56284c42",
      "metadata": {
        "id": "636c87a1-9988-494d-98ef-a8bd56284c42"
      },
      "source": [
        "Trong phần này, các bạn viết và hoàn thành hàm `alphaLogBins` mà đầu vào của nó gồm một tập huấn luyện, số lượng bin logarith và trả về một ước lượng cho $\\alpha$."
      ]
    },
    {
      "cell_type": "code",
      "execution_count": null,
      "id": "0dc4b9a9-65d3-4925-8c1a-260081fbb229",
      "metadata": {
        "deletable": false,
        "nbgrader": {
          "cell_type": "code",
          "checksum": "270068f82e8a077c0d567196a0553d5f",
          "grade": false,
          "grade_id": "cell-ee94e56699c9cc6e",
          "locked": false,
          "schema_version": 3,
          "solution": true,
          "task": false
        },
        "id": "0dc4b9a9-65d3-4925-8c1a-260081fbb229"
      },
      "outputs": [],
      "source": [
        "def alphaLogBins(x_train, bins):\n",
        "    # YOUR CODE HERE\n",
        "    raise NotImplementedError()"
      ]
    },
    {
      "cell_type": "code",
      "execution_count": null,
      "id": "ea89e054-6938-46f1-aa94-70d35a4768b7",
      "metadata": {
        "deletable": false,
        "editable": false,
        "nbgrader": {
          "cell_type": "code",
          "checksum": "66c888c35189430bafa68b540551a23c",
          "grade": true,
          "grade_id": "cell-e89e991b79fbfd2d",
          "locked": true,
          "points": 2,
          "schema_version": 3,
          "solution": false,
          "task": false
        },
        "id": "ea89e054-6938-46f1-aa94-70d35a4768b7"
      },
      "outputs": [],
      "source": [
        "# Test\n",
        "bins = 100\n",
        "x_train = powerLawGenerate(1000, x_min=1, alpha=2)\n",
        "assert adler32(str(np.abs(alphaLogBins(x_train, bins))).encode()) == 586744763\n",
        "# print(np.abs(alphaLogBins(x_train, bins)))\n",
        "x_train = powerLawGenerate(1000, x_min=1, alpha=3.5)\n",
        "assert adler32(str(np.abs(alphaLogBins(x_train, bins))).encode()) == 584647596\n",
        "# print(np.abs(alphaLogBins(x_train, bins)))\n",
        "x_train = powerLawGenerate(1000, x_min=1, alpha=10)\n",
        "assert adler32(str(np.abs(alphaLogBins(x_train, bins))).encode()) == 458294066\n",
        "# print(np.abs(alphaLogBins(x_train, bins)))"
      ]
    },
    {
      "cell_type": "markdown",
      "id": "fa94388b-6faa-4518-a65a-4a437059c4a2",
      "metadata": {
        "id": "fa94388b-6faa-4518-a65a-4a437059c4a2"
      },
      "source": [
        "Trực quan hóa bằng biểu đồ"
      ]
    },
    {
      "cell_type": "code",
      "execution_count": null,
      "id": "1d3e2017-1e62-449a-b47e-064ed9ed8d35",
      "metadata": {
        "id": "1d3e2017-1e62-449a-b47e-064ed9ed8d35"
      },
      "outputs": [],
      "source": [
        "x_min = 1\n",
        "alpha = 3.5\n",
        "bins = 100\n",
        "\n",
        "x_train = powerLawGenerate(1000, alpha, x_min)\n",
        "binning = np.logspace(np.log10(x_min), np.log10(x_train.max()), bins)\n",
        "hist, bin_edges = np.histogram(x_train, bins=binning, density=True)\n",
        "bin_centers = (bin_edges[1:] + bin_edges[:-1]) / 2\n",
        "plt.scatter(bin_centers, hist, s=10)\n",
        "\n",
        "hat_alpha = alphaLogBins(x_train, bins)\n",
        "x_space = np.linspace(x_min, x_train.max(), 100)\n",
        "plt.plot(x_space, powerLawPDF(x_space, alpha, x_min), label='Theoretical PDF', c='tab:green')\n",
        "plt.plot(x_space, powerLawPDF(x_space, hat_alpha, x_min), label='Estimated PDF', c='tab:orange')\n",
        "plt.legend()\n",
        "plt.title('Truth alpha = {:.2f}, estimated alpha = {:.2f}'.format(alpha, hat_alpha))\n",
        "plt.xscale('log')\n",
        "plt.yscale('log')\n",
        "plt.show()"
      ]
    },
    {
      "cell_type": "markdown",
      "id": "279fe6b4-8a00-4e80-9b38-dc05990eb712",
      "metadata": {
        "id": "279fe6b4-8a00-4e80-9b38-dc05990eb712"
      },
      "source": [
        "Quá tuyệt vời :-) giá trị ước lượng alpha của chúng ta đã gần sát với mục tiêu."
      ]
    },
    {
      "cell_type": "markdown",
      "id": "521537db-2947-42e6-97d8-ecf64a548dee",
      "metadata": {
        "id": "521537db-2947-42e6-97d8-ecf64a548dee"
      },
      "source": [
        "## Task 04: Phát sinh đồ thị với phân phối bậc cho trước (2đ)"
      ]
    },
    {
      "cell_type": "markdown",
      "id": "5296a5fb-f660-4ed9-828d-ce3554418423",
      "metadata": {
        "id": "5296a5fb-f660-4ed9-828d-ce3554418423"
      },
      "source": [
        "Chúng ta sẽ thử phát sinh đồ thị với phân phối bậc cho trước."
      ]
    },
    {
      "cell_type": "markdown",
      "id": "155fae0e-dd56-4405-91fd-c5571405309e",
      "metadata": {
        "id": "155fae0e-dd56-4405-91fd-c5571405309e"
      },
      "source": [
        "**Đồ thị A** được mô tả như sau:\n",
        "- Có 0 đỉnh có bậc 0\n",
        "- Có 2 đỉnh có bậc 1\n",
        "- Có 15 đỉnh có bậc 2\n",
        "- Đồ thị này _liên thông_"
      ]
    },
    {
      "cell_type": "code",
      "execution_count": null,
      "id": "6e7e59fb-115f-482b-af24-be248fc2da42",
      "metadata": {
        "deletable": false,
        "nbgrader": {
          "cell_type": "code",
          "checksum": "e907a4ceb5367f1599bf42ebfabce2cb",
          "grade": false,
          "grade_id": "cell-8f36f09e0f8d3141",
          "locked": false,
          "schema_version": 3,
          "solution": true,
          "task": false
        },
        "id": "6e7e59fb-115f-482b-af24-be248fc2da42"
      },
      "outputs": [],
      "source": [
        "# YOUR CODE HERE\n",
        "raise NotImplementedError()"
      ]
    },
    {
      "cell_type": "code",
      "execution_count": null,
      "id": "4177faba-657e-4c4f-be57-7c2b250ff9c4",
      "metadata": {
        "deletable": false,
        "editable": false,
        "nbgrader": {
          "cell_type": "code",
          "checksum": "0ce590c05bcb90b02f5b91c54a45c8df",
          "grade": true,
          "grade_id": "cell-9fe0edce59a77841",
          "locked": true,
          "points": 0.5,
          "schema_version": 3,
          "solution": false,
          "task": false
        },
        "id": "4177faba-657e-4c4f-be57-7c2b250ff9c4"
      },
      "outputs": [],
      "source": [
        "# Test\n",
        "assert adler32(str(dens_a).encode()) == 191496729"
      ]
    },
    {
      "cell_type": "code",
      "execution_count": null,
      "id": "ef980833-99a3-4106-8cad-63fca3e141f4",
      "metadata": {
        "deletable": false,
        "nbgrader": {
          "cell_type": "code",
          "checksum": "4416f8edb4d598169cc62ff1b5a3b571",
          "grade": false,
          "grade_id": "cell-5787e985d1bda6ea",
          "locked": false,
          "schema_version": 3,
          "solution": true,
          "task": false
        },
        "id": "ef980833-99a3-4106-8cad-63fca3e141f4"
      },
      "outputs": [],
      "source": [
        "def generateGraphA(dens_a: list) -> nx.Graph:\n",
        "    # YOUR CODE HERE\n",
        "    raise NotImplementedError()"
      ]
    },
    {
      "cell_type": "code",
      "execution_count": null,
      "id": "73255821-d783-4375-aea9-4c1f40d95b71",
      "metadata": {
        "deletable": false,
        "editable": false,
        "nbgrader": {
          "cell_type": "code",
          "checksum": "8c371222bb94d58ea12f56d7d3d980b8",
          "grade": true,
          "grade_id": "cell-cae86f1248ea971b",
          "locked": true,
          "points": 0.5,
          "schema_version": 3,
          "solution": false,
          "task": false
        },
        "id": "73255821-d783-4375-aea9-4c1f40d95b71"
      },
      "outputs": [],
      "source": [
        "# Test\n",
        "G = generateGraphA(dens_a=dens_a)\n",
        "assert nx.degree_histogram(G) == dens_a\n",
        "assert nx.is_connected(G)\n",
        "nx.draw_networkx(G)"
      ]
    },
    {
      "cell_type": "markdown",
      "id": "6d8c0719-ed02-4975-9875-7baac2d4fe52",
      "metadata": {
        "id": "6d8c0719-ed02-4975-9875-7baac2d4fe52"
      },
      "source": [
        "**Đồ thị B** được mô tả như sau:\n",
        "- Có 0 đỉnh có bậc 0\n",
        "- Có 0 đỉnh có bậc 1\n",
        "- Có 10 đỉnh có bậc 2\n",
        "- Đồ thị này _liên thông_"
      ]
    },
    {
      "cell_type": "code",
      "execution_count": null,
      "id": "540b52c1-cc11-4d1d-a33a-84c6523a0571",
      "metadata": {
        "deletable": false,
        "nbgrader": {
          "cell_type": "code",
          "checksum": "04486b4aecf370e2cad33b65aaecd461",
          "grade": false,
          "grade_id": "cell-c2ef48513438fec3",
          "locked": false,
          "schema_version": 3,
          "solution": true,
          "task": false
        },
        "id": "540b52c1-cc11-4d1d-a33a-84c6523a0571"
      },
      "outputs": [],
      "source": [
        "# YOUR CODE HERE\n",
        "raise NotImplementedError()"
      ]
    },
    {
      "cell_type": "code",
      "execution_count": null,
      "id": "efd3d728-3592-4753-a623-4e1207049de0",
      "metadata": {
        "deletable": false,
        "editable": false,
        "nbgrader": {
          "cell_type": "code",
          "checksum": "01a05cf1345abbf32c1fef57a394c771",
          "grade": true,
          "grade_id": "cell-bf23467f0f088ad2",
          "locked": true,
          "points": 0.5,
          "schema_version": 3,
          "solution": false,
          "task": false
        },
        "id": "efd3d728-3592-4753-a623-4e1207049de0"
      },
      "outputs": [],
      "source": [
        "# Test\n",
        "assert adler32(str(dens_b).encode()) == 190054930"
      ]
    },
    {
      "cell_type": "code",
      "execution_count": null,
      "id": "0634df6c-dc5a-494f-bbe4-45146c550491",
      "metadata": {
        "deletable": false,
        "nbgrader": {
          "cell_type": "code",
          "checksum": "6977e3b902e0a5644a880ea33c87ed2c",
          "grade": false,
          "grade_id": "cell-8f03081bb3be1e46",
          "locked": false,
          "schema_version": 3,
          "solution": true,
          "task": false
        },
        "id": "0634df6c-dc5a-494f-bbe4-45146c550491"
      },
      "outputs": [],
      "source": [
        "def generateGraphB(dens_b: list) -> nx.Graph:\n",
        "    # YOUR CODE HERE\n",
        "    raise NotImplementedError()"
      ]
    },
    {
      "cell_type": "code",
      "execution_count": null,
      "id": "00b12db1-f72c-4ac7-aea0-ca66daff17ef",
      "metadata": {
        "deletable": false,
        "editable": false,
        "nbgrader": {
          "cell_type": "code",
          "checksum": "c2a653b601321f92e9b1f6a8712a49c7",
          "grade": true,
          "grade_id": "cell-493551320377bfc8",
          "locked": true,
          "points": 0.5,
          "schema_version": 3,
          "solution": false,
          "task": false
        },
        "id": "00b12db1-f72c-4ac7-aea0-ca66daff17ef"
      },
      "outputs": [],
      "source": [
        "# Test\n",
        "G = generateGraphB(dens_b=dens_b)\n",
        "assert nx.degree_histogram(G) == dens_b\n",
        "assert nx.is_connected(G)\n",
        "nx.draw_networkx(G)"
      ]
    }
  ],
  "metadata": {
    "kernelspec": {
      "display_name": "Python 3 (ipykernel)",
      "language": "python",
      "name": "python3"
    },
    "language_info": {
      "codemirror_mode": {
        "name": "ipython",
        "version": 3
      },
      "file_extension": ".py",
      "mimetype": "text/x-python",
      "name": "python",
      "nbconvert_exporter": "python",
      "pygments_lexer": "ipython3",
      "version": "3.10.14"
    },
    "colab": {
      "provenance": [],
      "include_colab_link": true
    }
  },
  "nbformat": 4,
  "nbformat_minor": 5
}