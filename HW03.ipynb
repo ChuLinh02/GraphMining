{
  "cells": [
    {
      "cell_type": "markdown",
      "metadata": {
        "id": "view-in-github",
        "colab_type": "text"
      },
      "source": [
        "<a href=\"https://colab.research.google.com/github/ChuLinh02/GraphMining/blob/main/HW03.ipynb\" target=\"_parent\"><img src=\"https://colab.research.google.com/assets/colab-badge.svg\" alt=\"Open In Colab\"/></a>"
      ]
    },
    {
      "cell_type": "markdown",
      "id": "ac4cb4c2-46d6-4e37-a076-e97ed077cb5a",
      "metadata": {
        "id": "ac4cb4c2-46d6-4e37-a076-e97ed077cb5a"
      },
      "source": [
        "# **CSC17103 - Colab 3 - Các mô hình tạo sinh mạng lưới (Tiếp)**\n",
        "\n",
        "Đây là Bài tập 03 trong môn học Khai thác Dữ liệu Đồ thị (Graph Mining) - CSC1703 tại Khoa Công nghệ Thông tin, Trường Đại học Khoa học Tự nhiên, Đại học Quốc gia TP.HCM"
      ]
    },
    {
      "cell_type": "markdown",
      "id": "24493a8a-5ef5-4862-aa7e-07c6d13b559a",
      "metadata": {
        "id": "24493a8a-5ef5-4862-aa7e-07c6d13b559a"
      },
      "source": [
        "(Cập nhật lần cuối: 21/07/2024)\n",
        "\n",
        "Họ tên:\n",
        "\n",
        "MSSV:"
      ]
    },
    {
      "cell_type": "markdown",
      "id": "12ef2ae5-6de8-4dd3-915c-409b1797afaa",
      "metadata": {
        "id": "12ef2ae5-6de8-4dd3-915c-409b1797afaa"
      },
      "source": [
        "## **Cách thực hiện và nộp bài tập**\n",
        "\n",
        "&#9889; Chú ý, bạn nên thực hiện theo sự hướng dẫn dưới đây. Nếu có bất kỳ điều gì không rõ, bạn cần liên hệ ngay trợ giảng/ giáo viên thực hành để được hỗ trợ kịp thời.\n",
        "\n",
        "**Cách làm bài**\n",
        "\n",
        "Bạn sẽ làm trực tiếp trên file notebook này. Đầu tiên, bạn điền họ tên và MSSV vào phần đầu file ở bên trên. Trong file, bạn làm bài ở những chỗ có ghi là:\n",
        "```python\n",
        "# YOUR CODE HERE\n",
        "raise NotImplementedError()\n",
        "```\n",
        "hoặc đối với những phần code không bắt buộc thì là:\n",
        "```python\n",
        "# YOUR CODE HERE (OPTION)\n",
        "```\n",
        "hoặc đối với markdown cell thì là:\n",
        "```markdown\n",
        "YOUR ANSWER HERE\n",
        "```\n",
        "\n",
        "**Cách nộp bài**\n",
        "\n",
        "Trước khi nộp bài, bạn chọn `Kernel` - `Restart Kernel & Run All Cells` đối với trường hợp sử dụng môi trường local hoặc `Runtime` - `Restart session and run all` đối với môi trường Google Colab, để đảm bảo mọi chuyện diễn ra đúng như mong đợi.\n",
        "\n",
        "Sau đó, bạn tạo thư mục nộp bài theo cấu trúc sau:\n",
        "- Thư mục `MSSV` (ví dụ, nếu bạn có MSSV là 1234567 thì bạn đặt tên thư mục là `1234567`)\n",
        "    - File `HW03.ipynb` (không cần nộp các file khác)\n",
        "\n",
        "Cuối cùng, bạn nén thư mục `MSSV` này lại với định dạng nén là .zip (chứ không được là .rar hay các định dạng khác) và nộp ở link trên moodle. \\\n",
        "<font color=red>Bạn lưu ý tuân thủ chính xác qui định nộp bài này.</font>"
      ]
    },
    {
      "cell_type": "markdown",
      "id": "7da5712c-4f9f-49de-96de-13547b9b0f0e",
      "metadata": {
        "id": "7da5712c-4f9f-49de-96de-13547b9b0f0e"
      },
      "source": [
        "## Setup và Import các thứ"
      ]
    },
    {
      "cell_type": "code",
      "execution_count": null,
      "id": "5f1f8c6d-8bb4-4350-8443-70982ac0d34e",
      "metadata": {
        "id": "5f1f8c6d-8bb4-4350-8443-70982ac0d34e"
      },
      "outputs": [],
      "source": [
        "# Upgrade packages\n",
        "# !pip install --upgrade scipy networkx"
      ]
    },
    {
      "cell_type": "code",
      "execution_count": null,
      "id": "2a3ed103-a666-47aa-9747-ea5f0b535891",
      "metadata": {
        "id": "2a3ed103-a666-47aa-9747-ea5f0b535891"
      },
      "outputs": [],
      "source": [
        "# Import\n",
        "import random\n",
        "import numpy as np # For numerical computation\n",
        "import networkx as nx # For network/ graph manipulation\n",
        "import matplotlib.pyplot as plt # For visualization\n",
        "import scipy.stats as st\n",
        "from scipy.stats import ks_2samp\n",
        "plt.style.use(\"fast\")\n",
        "\n",
        "from typing import Tuple, Dict\n",
        "\n",
        "%matplotlib inline"
      ]
    },
    {
      "cell_type": "code",
      "execution_count": null,
      "id": "2c33bfb4-3d41-48c2-827e-d19085f2c054",
      "metadata": {
        "id": "2c33bfb4-3d41-48c2-827e-d19085f2c054"
      },
      "outputs": [],
      "source": [
        "# Make sure something\n",
        "assert nx.__version__ > '2.5'"
      ]
    },
    {
      "cell_type": "markdown",
      "id": "93262dcd-33ca-4e58-a9c4-f1ad25278ea4",
      "metadata": {
        "id": "93262dcd-33ca-4e58-a9c4-f1ad25278ea4"
      },
      "source": [
        "## Task 01: Độ dài đường đi trung bình trong mô hình Watts-Strogatz\n",
        "\n",
        "Trong bài tập trước, chúng ta đã tìm hiểu mô hình Watts-Strogatz, một mô hình thế giới nhỏ — kết nối lại một cạnh có xác suất `p` trong mạng vòng với các `n` đỉnh và bậc `k`.\n",
        "\n",
        "Bây giờ ta sẽ kiểm tra thử trung bình độ dài đường đi có xu hướng tiến đến giá trị như thế nào trong quá trình hình thành một mô hình thế giới nhỏ (small-world).\n",
        "\n",
        "$$\\langle L \\rangle = \\begin{cases}\n",
        "N/2k, \\quad\\text{ nếu } p \\to 0 \\\\\n",
        "\\log(N)/\\log(k), \\quad\\text{ nếu } p \\to 1\n",
        "\\end{cases}$$\n",
        "\n",
        "Như công thức trên, ta có một giới hạn trên và giới hạn dưới của độ dài đường đi với $0 < p < 1$.\n",
        "\n",
        "Nhiệm vụ của các bạn là hoàn thành hàm `smallworldPathLength` với các tham số của mô hình Watts-Strogatz `n, k, p` mà trả cề độ dài trung bình đường đi trong mỗi bước. Chiều dài của mảng là `n`.\n",
        "\n",
        "*Gợi ý: tính toán trung bình đường đi ngắn nhất bằng cách sử dụng `nx.average_shortest_path_length`*"
      ]
    },
    {
      "cell_type": "code",
      "execution_count": null,
      "id": "1819bf64-c218-4ff2-b21e-8a4fe1f9b148",
      "metadata": {
        "deletable": false,
        "nbgrader": {
          "cell_type": "code",
          "checksum": "e8c24a20e652ec4cf414225e4bdeb1e7",
          "grade": false,
          "grade_id": "cell-7df05646bb4c9367",
          "locked": false,
          "schema_version": 3,
          "solution": true,
          "task": false
        },
        "id": "1819bf64-c218-4ff2-b21e-8a4fe1f9b148"
      },
      "outputs": [],
      "source": [
        "def ringLattice(n: int, k: int) -> nx.Graph:\n",
        "    \"\"\"Hàm tạo đồ thị vòng.\n",
        "\n",
        "    Parameters\n",
        "    ----------\n",
        "    n\n",
        "        (int) số lượng đỉnh cho trước\n",
        "    k\n",
        "        (int) bậc đỉnh\n",
        "\n",
        "    Returns\n",
        "    -------\n",
        "        (nx.Graph) đồ thị kết quả\n",
        "    \"\"\"\n",
        "    # YOUR CODE HERE\n",
        "    raise NotImplementedError()"
      ]
    },
    {
      "cell_type": "code",
      "execution_count": null,
      "id": "061a57b1-71f2-464b-9388-04b99f11bbc2",
      "metadata": {
        "deletable": false,
        "nbgrader": {
          "cell_type": "code",
          "checksum": "40523ef5780a87ab1ad0c80ca01c681e",
          "grade": false,
          "grade_id": "cell-0dd1a254bf088e9d",
          "locked": false,
          "schema_version": 3,
          "solution": true,
          "task": false
        },
        "id": "061a57b1-71f2-464b-9388-04b99f11bbc2"
      },
      "outputs": [],
      "source": [
        "def rewire(G: nx.Graph, node: int, k: int, p: float) -> nx.Graph:\n",
        "    \"\"\"Hàm rewire để nối lại một cạnh (node, i) thành một cạnh (node, j) ngẫu nhiên với xác suất cho trước.\n",
        "\n",
        "    Parameters\n",
        "    ----------\n",
        "    G\n",
        "        (nx.Graph) đồ thị đầu vào\n",
        "    node\n",
        "        (int) input node\n",
        "    k\n",
        "        (int) bậc đỉnh\n",
        "    p\n",
        "        (float) xác suất nối lại\n",
        "\n",
        "    Returns\n",
        "    -------\n",
        "        (nx.Graph) đồ thị kết quả\n",
        "    \"\"\"\n",
        "    # YOUR CODE HERE\n",
        "    raise NotImplementedError()"
      ]
    },
    {
      "cell_type": "code",
      "execution_count": null,
      "id": "31aba685-36d8-4073-a507-a8895ece0ff1",
      "metadata": {
        "deletable": false,
        "nbgrader": {
          "cell_type": "code",
          "checksum": "1b390132d08ea0e09fc5e0d2f9b4a0d5",
          "grade": false,
          "grade_id": "cell-06e6e40d6b04ab7c",
          "locked": false,
          "schema_version": 3,
          "solution": true,
          "task": false
        },
        "id": "31aba685-36d8-4073-a507-a8895ece0ff1"
      },
      "outputs": [],
      "source": [
        "def smallworldPathLength(n: int, k: int, p: float) -> np.ndarray:\n",
        "    # YOUR CODE HERE\n",
        "    raise NotImplementedError()"
      ]
    },
    {
      "cell_type": "code",
      "execution_count": null,
      "id": "6c6adc4b-fb65-4962-8b26-41268ecf1d20",
      "metadata": {
        "deletable": false,
        "editable": false,
        "nbgrader": {
          "cell_type": "code",
          "checksum": "c24e762dbda6536aae5b9693d95b1b00",
          "grade": true,
          "grade_id": "cell-a4b10ac0dfdcf050",
          "locked": true,
          "points": 1,
          "schema_version": 3,
          "solution": false,
          "task": false
        },
        "id": "6c6adc4b-fb65-4962-8b26-41268ecf1d20"
      },
      "outputs": [],
      "source": [
        "# Test 1\n",
        "n, k, p = 50, 8, 0.1\n",
        "n, k, p = 101, 10, 0.05\n",
        "lengths = smallworldPathLength(n, k, p)\n",
        "step_space = np.log(np.arange(1, len(lengths) + 1))\n",
        "X = np.stack([step_space, np.ones(lengths.shape[0])], axis=1)\n",
        "assert lengths.shape[0] == n\n",
        "assert 0.1 < -(np.linalg.pinv(X) @ np.log(lengths))[0] < 0.25"
      ]
    },
    {
      "cell_type": "code",
      "execution_count": null,
      "id": "ba57c212-5be0-4cec-97b5-941d1185805f",
      "metadata": {
        "deletable": false,
        "editable": false,
        "nbgrader": {
          "cell_type": "code",
          "checksum": "f529130fcfe4d5efb8b8015d8198fc55",
          "grade": true,
          "grade_id": "cell-f6abc373df3d1824",
          "locked": true,
          "points": 1,
          "schema_version": 3,
          "solution": false,
          "task": false
        },
        "id": "ba57c212-5be0-4cec-97b5-941d1185805f"
      },
      "outputs": [],
      "source": [
        "# Test 2\n",
        "n, k, p = 101, 10, 0.05\n",
        "lengths = smallworldPathLength(n, k, p)\n",
        "step_space = np.log(np.arange(1, len(lengths) + 1))\n",
        "X = np.stack([step_space, np.ones(lengths.shape[0])], axis=1)\n",
        "assert lengths.shape[0] == n\n",
        "assert 0.1 < -(np.linalg.pinv(X) @ np.log(lengths))[0] < 0.25"
      ]
    },
    {
      "cell_type": "code",
      "execution_count": null,
      "id": "83d6cf53-1690-431d-8472-4ac4fc234ec6",
      "metadata": {
        "id": "83d6cf53-1690-431d-8472-4ac4fc234ec6"
      },
      "outputs": [],
      "source": [
        "def plotSmallworldPathLengths():\n",
        "    plt.figure(figsize=(12, 6))\n",
        "\n",
        "    # Parameters for the small-world network\n",
        "    params = [(0.01, 'p=0.01'), (0.1, 'p=0.1'), (0.9, 'p=0.9')]\n",
        "\n",
        "    for p, label in params:\n",
        "        n, k = 101, 12\n",
        "        lengths = smallworldPathLength(n, k, p)\n",
        "        plt.plot(lengths, label=label)\n",
        "\n",
        "    # Plot the theoretical bounds\n",
        "    n, k = 101, 12\n",
        "    upper_bound = n / 2 / k\n",
        "    lower_bound = np.log(n) / np.log(k)\n",
        "\n",
        "    plt.plot([0, 99], [upper_bound, upper_bound],\n",
        "             'k--', label='Limit upper bound')\n",
        "    plt.plot([0, 99], [lower_bound, lower_bound],\n",
        "             'k--', label='Limit lower bound')\n",
        "\n",
        "    plt.xlabel('Step of the small-world building')\n",
        "    plt.ylabel('Average Path Length')\n",
        "    plt.title('Average Path Length vs. Building Steps in Small-World Networks')\n",
        "    plt.grid(True)\n",
        "    plt.legend(loc='lower left')\n",
        "\n",
        "    plt.show()\n",
        "\n",
        "\n",
        "plotSmallworldPathLengths()"
      ]
    },
    {
      "cell_type": "markdown",
      "id": "2c4a40c4-5729-426e-baba-6c884510fb06",
      "metadata": {
        "id": "2c4a40c4-5729-426e-baba-6c884510fb06"
      },
      "source": [
        "Bạn có nhận xét gì?"
      ]
    },
    {
      "cell_type": "markdown",
      "id": "7c5c5319-3bdc-46f2-8fd3-a3243de36e57",
      "metadata": {
        "deletable": false,
        "nbgrader": {
          "cell_type": "markdown",
          "checksum": "57ecdc5bd2faefa3f2e163c92130380d",
          "grade": true,
          "grade_id": "cell-2c1db1718aa0a7f6",
          "locked": false,
          "points": 0.5,
          "schema_version": 3,
          "solution": true,
          "task": false
        },
        "id": "7c5c5319-3bdc-46f2-8fd3-a3243de36e57"
      },
      "source": [
        "YOUR ANSWER HERE"
      ]
    },
    {
      "cell_type": "markdown",
      "id": "5cca2101-bd6f-4b2a-8f90-3a77c51122b8",
      "metadata": {
        "id": "5cca2101-bd6f-4b2a-8f90-3a77c51122b8"
      },
      "source": [
        "## Task 02: Phân phối bậc trong mô hình Barabási–Albert\n",
        "\n",
        "Cũng trong bài tập trước, các bạn đã được giới thiệu qua mô hình sinh Barabási–Albert hay còn gọi là preferential attachment model. Mô hình này là quá trình quá triển mà trong đó mỗi đỉnh mới liên kết đến `m` đỉnh đang tồn tại. Bậc đỉnh càng cao, xác suất liên kết càng cao. Cuối cùng, số lượng đỉnh trong đồ thị là `n`. Đồ thị Barabási–Albert có phân phối bậc như sau:\n",
        "\n",
        "$$P(k) = \\frac{2m^2}{k^3}$$\n",
        "\n",
        "Dễ thấy, đây là luật lũy thừa (Power law) vói $\\alpha = 3$ và $k_{\\min} = m$\n",
        "\n",
        "\n",
        "Trong phần này, chúng ta sẽ kiểm tra phát biểu trên bằng thực nghiệm! Bằng cách phát sinh một tập các đồ thị Barabási–Albert và ước lượng các tham số của luật lũy thừa bằng Maximum likelihood estimation (MLE).\n",
        "\n",
        "$$\\alpha = 1 + n \\left[\\sum_i \\log \\frac{k_i}{k_{\\min}} \\right]^{-1}$$\n",
        "\n",
        "trong đó $k_{\\min}$ được lựa chọn bằng cách cực tiểu [khoảng cách Kolmogorov-Smirnov](https://en.wikipedia.org/wiki/Kolmogorov%E2%80%93Smirnov_test) giữa phân phối quan trắc (observed distributions) và phân phối lý thuyết (theoretical distributions).\n",
        "\n",
        "\n",
        "Trước tiên, bạn hoàn thành một hàm `powerLawPDF` mà nhận các tham số của phân phối luật lũy thừa và trả về CDF."
      ]
    },
    {
      "cell_type": "code",
      "execution_count": null,
      "id": "3ead7735-0e34-4b22-8156-cfdd295739bc",
      "metadata": {
        "deletable": false,
        "nbgrader": {
          "cell_type": "code",
          "checksum": "38b4b2a730f309cbc06da98eacb702d5",
          "grade": false,
          "grade_id": "cell-b4f3aefdaea3a299",
          "locked": false,
          "schema_version": 3,
          "solution": true,
          "task": false
        },
        "id": "3ead7735-0e34-4b22-8156-cfdd295739bc"
      },
      "outputs": [],
      "source": [
        "def powerLawPDF(x: int, alpha: float = 3.5, x_min: int = 1):\n",
        "    # YOUR CODE HERE\n",
        "    raise NotImplementedError()"
      ]
    },
    {
      "cell_type": "code",
      "execution_count": null,
      "id": "b0310d5b-3a2e-438a-879a-0369219e8897",
      "metadata": {
        "deletable": false,
        "editable": false,
        "nbgrader": {
          "cell_type": "code",
          "checksum": "85b225b42bdffe5715a313f9d0c88201",
          "grade": true,
          "grade_id": "cell-7a339e24a11eb4c7",
          "locked": true,
          "points": 0.5,
          "schema_version": 3,
          "solution": false,
          "task": false
        },
        "id": "b0310d5b-3a2e-438a-879a-0369219e8897"
      },
      "outputs": [],
      "source": [
        "# Test\n",
        "assert powerLawPDF(2, 2, 1) == 0.5\n",
        "assert powerLawPDF(10, 2, 1) == 0.9"
      ]
    },
    {
      "cell_type": "markdown",
      "id": "07ff2db2-e91c-43d5-be22-825330997898",
      "metadata": {
        "id": "07ff2db2-e91c-43d5-be22-825330997898"
      },
      "source": [
        "Tiếp theo, bạn hoàn thành hàm `mlePowerLawParams` mà nhận đầu vào là một dãy bậc và trả về một tuple: the best $\\alpha$, the best $k_{\\min}$ tương ứng với MLE.\n",
        "\n",
        "_Gợi ý: sử dụng `scipy.stats.kstest` trong đó một CDF lý thuyết là một hàm `powerLawPDF` và `args=(alpha, k_min)`_"
      ]
    },
    {
      "cell_type": "code",
      "execution_count": null,
      "id": "47f4f2ac-8643-4f74-961b-b0f7418c995a",
      "metadata": {
        "deletable": false,
        "nbgrader": {
          "cell_type": "code",
          "checksum": "b4e650e3a1c80a86cdbe4623f2611c40",
          "grade": false,
          "grade_id": "cell-dcd3d5b52e22a3ca",
          "locked": false,
          "schema_version": 3,
          "solution": true,
          "task": false
        },
        "id": "47f4f2ac-8643-4f74-961b-b0f7418c995a"
      },
      "outputs": [],
      "source": [
        "def mlePowerLawParams(degree_sequence: np.ndarray) -> Tuple[Dict, Dict]:\n",
        "    # YOUR CODE HERE\n",
        "    raise NotImplementedError()"
      ]
    },
    {
      "cell_type": "code",
      "execution_count": null,
      "id": "5f37be21-a797-45ff-9aaa-e69b5a889034",
      "metadata": {
        "deletable": false,
        "editable": false,
        "nbgrader": {
          "cell_type": "code",
          "checksum": "a1305beb4dc6fdba46d322ad22943f69",
          "grade": true,
          "grade_id": "cell-606a1c126d28bba1",
          "locked": true,
          "points": 1,
          "schema_version": 3,
          "solution": false,
          "task": false
        },
        "id": "5f37be21-a797-45ff-9aaa-e69b5a889034"
      },
      "outputs": [],
      "source": [
        "# Test\n",
        "data = np.array([1, 2, 3])\n",
        "alpha, k_min = mle_power_law_params(data)\n",
        "\n",
        "assert alpha > 0, f\"Expected alpha to be greater than 0, but got {alpha}\"\n",
        "assert k_min > 0, f\"Expected k_min to be greater than 0, but got {k_min}\""
      ]
    },
    {
      "cell_type": "markdown",
      "id": "761431d8-0bd2-4ece-8dce-c0d6d93e2829",
      "metadata": {
        "id": "761431d8-0bd2-4ece-8dce-c0d6d93e2829"
      },
      "source": [
        "Và bây giờ, bạn hoàn thành hàm `estimatePowerLaw` mà giúp ta sinh ra các đồ thị Barabási–Albert với `n` đỉnh, từ `m_min` đến `m_max` liên kết và trả về một tuple các mảng np.arrays: $\\alpha$ and $k_{\\min}$ cho mỗi đồ thị.\n"
      ]
    },
    {
      "cell_type": "code",
      "execution_count": null,
      "id": "43514bea-af30-4b2c-b47b-05a224747911",
      "metadata": {
        "deletable": false,
        "nbgrader": {
          "cell_type": "code",
          "checksum": "abff34e12ccf1d3375f368054164e7a3",
          "grade": false,
          "grade_id": "cell-522e30229c25da20",
          "locked": false,
          "schema_version": 3,
          "solution": true,
          "task": false
        },
        "id": "43514bea-af30-4b2c-b47b-05a224747911"
      },
      "outputs": [],
      "source": [
        "def estimatePowerLaw(n: int, m_min: int, m_max: int) -> Tuple[np.ndarray, np.ndarray]:\n",
        "    # YOUR CODE HERE\n",
        "    raise NotImplementedError()"
      ]
    },
    {
      "cell_type": "code",
      "execution_count": null,
      "id": "356382c2-f04b-4918-be82-9b821afa6670",
      "metadata": {
        "deletable": false,
        "editable": false,
        "nbgrader": {
          "cell_type": "code",
          "checksum": "415a4600b7eafe8567873e181e04f296",
          "grade": true,
          "grade_id": "cell-ba6c77bae2d204a8",
          "locked": true,
          "points": 1,
          "schema_version": 3,
          "solution": false,
          "task": false
        },
        "id": "356382c2-f04b-4918-be82-9b821afa6670"
      },
      "outputs": [],
      "source": [
        "# Test\n",
        "n, m_min, m_max = 500, 2, 20\n",
        "alpha, k_min = estimatePowerLaw(n, m_min, m_max)\n",
        "expected_length = m_max - m_min + 1\n",
        "assert alpha.shape[0] == expected_length, f\"Expected alpha length {\n",
        "    expected_length}, but got {alpha.shape[0]}\"\n",
        "alpha_mean = alpha.mean()\n",
        "assert 2 < alpha_mean < 4, f\"Expected alpha mean to be between 2 and 4, but got {\n",
        "    alpha_mean}\"\n",
        "assert k_min[0] < k_min[-1], f\"Expected k_min[0] < k_min[-1], but got k_min[0] = {\n",
        "    k_min[0]} and k_min[-1] = {k_min[-1]}\""
      ]
    },
    {
      "cell_type": "code",
      "execution_count": null,
      "id": "7a9204ca-8624-4cc3-85b0-7a90f29077ef",
      "metadata": {
        "id": "7a9204ca-8624-4cc3-85b0-7a90f29077ef"
      },
      "outputs": [],
      "source": [
        "def plot_alpha_vs_m(n, m_min, m_max, num_trials=5):\n",
        "    m_space = np.arange(m_min, m_max + 1)\n",
        "\n",
        "    plt.figure(figsize=(10, 6))\n",
        "\n",
        "    for trial in range(num_trials):\n",
        "        alpha, k_min = estimatePowerLaw(n, m_min, m_max)\n",
        "        plt.scatter(m_space, alpha, alpha=0.7, c='tab:blue', s=10, label=f'Trial {trial+1}' if trial == 0 else \"\")\n",
        "\n",
        "    # Theoretical alpha line\n",
        "    plt.plot([m_min, m_max], [3, 3], 'k--', label='Theoretical alpha')\n",
        "\n",
        "    plt.ylim((1, 5))\n",
        "    plt.xlabel('m')\n",
        "    plt.ylabel('Alpha')\n",
        "    plt.title('Alpha vs m')\n",
        "    plt.grid(True)\n",
        "    plt.legend()\n",
        "    plt.show()\n",
        "\n",
        "n, m_min, m_max = 500, 2, 20\n",
        "plot_alpha_vs_m(n, m_min, m_max)"
      ]
    },
    {
      "cell_type": "markdown",
      "id": "d20c96fa-1ede-43a2-9de4-f6c3edb915c8",
      "metadata": {
        "id": "d20c96fa-1ede-43a2-9de4-f6c3edb915c8"
      },
      "source": [
        "Bạn có nhận xét gì?"
      ]
    },
    {
      "cell_type": "markdown",
      "id": "43da96b6-d361-4abf-91b8-65c771e40a95",
      "metadata": {
        "deletable": false,
        "nbgrader": {
          "cell_type": "markdown",
          "checksum": "7e343ea8a0e3a801a5ed722c655e61cd",
          "grade": true,
          "grade_id": "cell-7f5c1b9cb274f44b",
          "locked": false,
          "points": 0.5,
          "schema_version": 3,
          "solution": true,
          "task": false
        },
        "id": "43da96b6-d361-4abf-91b8-65c771e40a95"
      },
      "source": [
        "YOUR ANSWER HERE"
      ]
    },
    {
      "cell_type": "markdown",
      "id": "3e68aa9f-fd14-4481-a79d-33377455509d",
      "metadata": {
        "id": "3e68aa9f-fd14-4481-a79d-33377455509d"
      },
      "source": [
        "## Task 03: Hệ số gom cụm trong mô hình Barabási–Albert\n",
        "\n",
        "Trong phần này, chúng ta sẽ đánh giá hệ số gom cụm trung bình trong mô hình Barabási–Albert. Bạn sẽ hoàn thành hàm `generateClusteringCoef` mà nhận đầu vào là mảng np.array là danh sách của `n` giá trị cho mỗi đồ thị và tham số `m`. Hàm này sinh ra các đồ thị Barabási–Albert và trả về mảng np.array của các hệ số gom cụm trung bình.\n"
      ]
    },
    {
      "cell_type": "code",
      "execution_count": null,
      "id": "e97e43d1-8ae8-4639-b878-caf85c20f29b",
      "metadata": {
        "deletable": false,
        "nbgrader": {
          "cell_type": "code",
          "checksum": "7538fa141a92236ba891e750381599d4",
          "grade": false,
          "grade_id": "cell-799a2dee21d71043",
          "locked": false,
          "schema_version": 3,
          "solution": true,
          "task": false
        },
        "id": "e97e43d1-8ae8-4639-b878-caf85c20f29b"
      },
      "outputs": [],
      "source": [
        "def generateClusteringCoef(n_list, m):\n",
        "    # YOUR CODE HERE\n",
        "    raise NotImplementedError()"
      ]
    },
    {
      "cell_type": "code",
      "execution_count": null,
      "id": "5bcd6efe-b487-4a8f-a0f8-b06c911de9b6",
      "metadata": {
        "deletable": false,
        "editable": false,
        "nbgrader": {
          "cell_type": "code",
          "checksum": "a9f60c9cb8eb4b71ac9fca6079dd7021",
          "grade": true,
          "grade_id": "cell-0c92414056d680a3",
          "locked": true,
          "points": 1,
          "schema_version": 3,
          "solution": false,
          "task": false
        },
        "id": "5bcd6efe-b487-4a8f-a0f8-b06c911de9b6"
      },
      "outputs": [],
      "source": [
        "# Test\n",
        "n_list = np.arange(100, 3100, 100)\n",
        "m = 6\n",
        "coeffs = generateClusteringCoef(n_list, m)\n",
        "assert coeffs.shape == (30,), f\"Expected shape (30,), but got {coeffs.shape}\"\n",
        "X = np.log(n_list)\n",
        "X = np.stack([np.ones_like(X), X], axis=1)\n",
        "Y = np.log(coeffs)[:, None]\n",
        "slope = (np.linalg.pinv(X) @ Y)[1][0]\n",
        "assert -0.78 < slope < - \\\n",
        "    0.63, f\"Expected slope to be between -0.78 and -0.63, but got {slope}\""
      ]
    },
    {
      "cell_type": "code",
      "execution_count": null,
      "id": "c4cd9e9a-0b3c-4b54-8658-6f168bb99004",
      "metadata": {
        "id": "c4cd9e9a-0b3c-4b54-8658-6f168bb99004"
      },
      "outputs": [],
      "source": [
        "def plotClusteringCoefficients(n_list, m, num_trials=3):\n",
        "    plt.figure(figsize=(10, 6))\n",
        "\n",
        "    for trial in range(num_trials):\n",
        "        coeffs = generateClusteringCoef(n_list, m)\n",
        "        plt.plot(n_list, coeffs, c='tab:blue', alpha=0.7, label=f'Trial {trial+1}' if trial == 0 else \"\")\n",
        "\n",
        "    plt.xlabel('N')\n",
        "    plt.ylabel('Average Clustering Coefficient')\n",
        "    plt.title('Average Clustering Coefficient vs N')\n",
        "    plt.legend()\n",
        "    plt.grid(True)\n",
        "    plt.show()\n",
        "\n",
        "n_list = np.arange(100, 3100, 100)\n",
        "m = 6\n",
        "plotClusteringCoefficients(n_list, m)"
      ]
    },
    {
      "cell_type": "markdown",
      "id": "9d931962-c809-43de-92dd-2b82b4bfe132",
      "metadata": {
        "id": "9d931962-c809-43de-92dd-2b82b4bfe132"
      },
      "source": [
        "Bạn có nhận xét gì?"
      ]
    },
    {
      "cell_type": "markdown",
      "id": "1b527355-525b-4fb0-b7c9-0529e25cf02d",
      "metadata": {
        "deletable": false,
        "nbgrader": {
          "cell_type": "markdown",
          "checksum": "89194edde7c4430cc78abdfe95b9bf7e",
          "grade": true,
          "grade_id": "cell-1d80f2766db04969",
          "locked": false,
          "points": 1,
          "schema_version": 3,
          "solution": true,
          "task": false
        },
        "id": "1b527355-525b-4fb0-b7c9-0529e25cf02d"
      },
      "source": [
        "YOUR ANSWER HERE"
      ]
    },
    {
      "cell_type": "markdown",
      "id": "f824d802-dd46-4aa2-883f-0010ca82562b",
      "metadata": {
        "id": "f824d802-dd46-4aa2-883f-0010ca82562b"
      },
      "source": [
        "## Task 04: Bậc động lực trong mô hình Barabási–Albert\n",
        "\n",
        "Trong phần này, chúng ta sẽ đánh giá bậc động lực trong mô hình Barabási–Albert. Khái niệm này đánh giá về một trong các đỉnh khởi tạo và một trong các đỉnh được thêm vào mạng tại một thời điểm hiện tại của bước chuyển định (bước của thuật toán).\n",
        "\n",
        "Bạn sẽ hoàn thành một hàm `generateDegreeDynamics` mà nhận đầu vào là một mảng np.array với các đỉnh được xem xét, hàm này sinh ra đồ thị Barabási–Albert ($n=3000$, $m=6$) và trả về một mảng np.array với kích thước `(29, len(nodes))` chỉ bậc của những đỉnh này tại thời điểm 100, 200, 300, ..., 2900. Nếu đỉnh chưa tồn tại, gán nó với giá trị `np.nan`.\n",
        "\n",
        "_Gợi ý: sử dụng hàm `nx.barabasi_albert_graph`_\n"
      ]
    },
    {
      "cell_type": "code",
      "execution_count": null,
      "id": "33a31b8e-a136-4b43-a150-9aa3088d8492",
      "metadata": {
        "deletable": false,
        "nbgrader": {
          "cell_type": "code",
          "checksum": "39aa194bff35d2cddbfa40312b7595b7",
          "grade": false,
          "grade_id": "cell-f24300de9859801f",
          "locked": false,
          "schema_version": 3,
          "solution": true,
          "task": false
        },
        "id": "33a31b8e-a136-4b43-a150-9aa3088d8492"
      },
      "outputs": [],
      "source": [
        "def generateDegreeDynamics(cons_nodes: np.ndarray) -> np.ndarray:\n",
        "    # YOUR CODE HERE\n",
        "    raise NotImplementedError()"
      ]
    },
    {
      "cell_type": "code",
      "execution_count": null,
      "id": "f03e3a03-d7c8-42d7-914b-25ced2b5a92a",
      "metadata": {
        "deletable": false,
        "editable": false,
        "nbgrader": {
          "cell_type": "code",
          "checksum": "3d855666bf80f4e87b056645211604c5",
          "grade": true,
          "grade_id": "cell-df73d5a5edfb802e",
          "locked": true,
          "points": 1,
          "schema_version": 3,
          "solution": false,
          "task": false
        },
        "id": "f03e3a03-d7c8-42d7-914b-25ced2b5a92a"
      },
      "outputs": [],
      "source": [
        "# Test\n",
        "degree_dynamics = generateDegreeDynamics([0, 100, 700, 2000])\n",
        "assert degree_dynamics.shape == (29, 4), f\"Expected shape (29, 4), but got {\n",
        "    degree_dynamics.shape}\"\n",
        "assert np.all(np.isnan(degree_dynamics[0]) == [False, False, True, True]), \\\n",
        "    f\"Expected NaN mask [False, False, True, True] at row 0, but got {\n",
        "        np.isnan(degree_dynamics[0])}\"\n",
        "assert np.all(np.isnan(degree_dynamics[9]) == [False, False, False, True]), \\\n",
        "    f\"Expected NaN mask [False, False, False, True] at row 9, but got {\n",
        "        np.isnan(degree_dynamics[9])}\"\n",
        "assert degree_dynamics[0, 0] < degree_dynamics[-1, 0], \\\n",
        "    f\"Expected degree_dynamics[0, 0] < degree_dynamics[-1, 0], but got {\n",
        "        degree_dynamics[0, 0]} >= {degree_dynamics[-1, 0]}\"\n",
        "assert degree_dynamics[0, 1] < degree_dynamics[-1, 1], \\\n",
        "    f\"Expected degree_dynamics[0, 1] < degree_dynamics[-1, 1], but got {\n",
        "        degree_dynamics[0, 1]} >= {degree_dynamics[-1, 1]}\"\n",
        "assert degree_dynamics[-1, 0] > degree_dynamics[-1, 3], \\\n",
        "    f\"Expected degree_dynamics[-1, 0] > degree_dynamics[-1, 3], but got {\n",
        "        degree_dynamics[-1, 0]} <= {degree_dynamics[-1, 3]}\""
      ]
    },
    {
      "cell_type": "code",
      "execution_count": null,
      "id": "c3d8f891-8282-40bb-aee7-c36ffec6b67f",
      "metadata": {
        "id": "c3d8f891-8282-40bb-aee7-c36ffec6b67f"
      },
      "outputs": [],
      "source": [
        "def plotDegreeDynamics():\n",
        "    timesteps = [0, 100, 700, 1000]\n",
        "    degree_dynamics = generateDegreeDynamics(timesteps)\n",
        "\n",
        "    plt.figure(figsize=(10, 6))\n",
        "\n",
        "    time_space = np.tile(np.arange(100, 3000, 100), (len(timesteps), 1)).T\n",
        "\n",
        "    for i in range(len(timesteps)):\n",
        "        plt.plot(time_space[:, i], degree_dynamics[:, i],\n",
        "                 label=f'node {timesteps[i]}')\n",
        "\n",
        "    plt.legend()\n",
        "    plt.title('Degree Dynamics')\n",
        "    plt.xlabel('Time')\n",
        "    plt.ylabel('Degree')\n",
        "    plt.xscale('log')\n",
        "    plt.yscale('log')\n",
        "    plt.grid(True, which=\"both\", ls=\"--\")\n",
        "\n",
        "    plt.show()\n",
        "\n",
        "\n",
        "plotDegreeDynamics()"
      ]
    },
    {
      "cell_type": "markdown",
      "id": "ce576576-1e61-44e5-bf7d-596034a31e1d",
      "metadata": {
        "id": "ce576576-1e61-44e5-bf7d-596034a31e1d"
      },
      "source": [
        "Bạn có nhận xét gì?"
      ]
    },
    {
      "cell_type": "markdown",
      "id": "b413d667-cd65-4e3a-b688-d0d85f07ce18",
      "metadata": {
        "deletable": false,
        "nbgrader": {
          "cell_type": "markdown",
          "checksum": "7e28dbe42091f3c221a3ac9979a23ad6",
          "grade": true,
          "grade_id": "cell-0716dae5e4fea406",
          "locked": false,
          "points": 1,
          "schema_version": 3,
          "solution": true,
          "task": false
        },
        "id": "b413d667-cd65-4e3a-b688-d0d85f07ce18"
      },
      "source": [
        "YOUR ANSWER HERE"
      ]
    }
  ],
  "metadata": {
    "kernelspec": {
      "display_name": "Python 3 (ipykernel)",
      "language": "python",
      "name": "python3"
    },
    "language_info": {
      "codemirror_mode": {
        "name": "ipython",
        "version": 3
      },
      "file_extension": ".py",
      "mimetype": "text/x-python",
      "name": "python",
      "nbconvert_exporter": "python",
      "pygments_lexer": "ipython3",
      "version": "3.10.14"
    },
    "colab": {
      "provenance": [],
      "include_colab_link": true
    }
  },
  "nbformat": 4,
  "nbformat_minor": 5
}